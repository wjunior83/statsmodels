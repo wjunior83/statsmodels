{
  "nbformat": 4,
  "nbformat_minor": 0,
  "metadata": {
    "colab": {
      "name": "Lista_Python.ipynb",
      "provenance": [],
      "collapsed_sections": [],
      "authorship_tag": "ABX9TyNc9uVG4Y/IzEx5vWJ3neCu",
      "include_colab_link": true
    },
    "kernelspec": {
      "name": "python3",
      "display_name": "Python 3"
    }
  },
  "cells": [
    {
      "cell_type": "markdown",
      "metadata": {
        "id": "view-in-github",
        "colab_type": "text"
      },
      "source": [
        "<a href=\"https://colab.research.google.com/github/wjunior83/statsmodels/blob/master/Lista_Python.ipynb\" target=\"_parent\"><img src=\"https://colab.research.google.com/assets/colab-badge.svg\" alt=\"Open In Colab\"/></a>"
      ]
    },
    {
      "cell_type": "code",
      "metadata": {
        "id": "jnlmkoIObimm",
        "outputId": "b3423918-65d4-4ff0-8d92-c7011107d249",
        "colab": {
          "base_uri": "https://localhost:8080/",
          "height": 71
        }
      },
      "source": [
        "#Importando bibliotecas\n",
        "import pandas as pd\n",
        "import statsmodels.api as sm\n",
        "import math"
      ],
      "execution_count": 2,
      "outputs": [
        {
          "output_type": "stream",
          "text": [
            "/usr/local/lib/python3.6/dist-packages/statsmodels/tools/_testing.py:19: FutureWarning: pandas.util.testing is deprecated. Use the functions in the public API at pandas.testing instead.\n",
            "  import pandas.util.testing as tm\n"
          ],
          "name": "stderr"
        }
      ]
    },
    {
      "cell_type": "code",
      "metadata": {
        "id": "h8sVetMPcejT"
      },
      "source": [
        "#Lendo arquivo cadastral\n",
        "cadastral = pd.read_excel('/content/cadastral.xlsx')"
      ],
      "execution_count": 3,
      "outputs": []
    },
    {
      "cell_type": "code",
      "metadata": {
        "id": "i03drl6Ics3j",
        "outputId": "f71bd234-7285-44b4-ae3b-d0906a30ad28",
        "colab": {
          "base_uri": "https://localhost:8080/",
          "height": 68
        }
      },
      "source": [
        "#1 - Tire uma tabela de frequência na variável Sexo\n",
        "cadastral[\"Sexo\"].value_counts()"
      ],
      "execution_count": 4,
      "outputs": [
        {
          "output_type": "execute_result",
          "data": {
            "text/plain": [
              "Masculino    514\n",
              "Feminino     432\n",
              "Name: Sexo, dtype: int64"
            ]
          },
          "metadata": {
            "tags": []
          },
          "execution_count": 4
        }
      ]
    },
    {
      "cell_type": "code",
      "metadata": {
        "id": "RcRUefj-dSRL",
        "outputId": "e72c0379-16d5-4508-f036-a953cf9bcc77",
        "colab": {
          "base_uri": "https://localhost:8080/",
          "height": 419
        }
      },
      "source": [
        "#2 - Ordenar o arquivo pela variável ID\n",
        "cadastral.sort_values(by='ID')"
      ],
      "execution_count": 5,
      "outputs": [
        {
          "output_type": "execute_result",
          "data": {
            "text/html": [
              "<div>\n",
              "<style scoped>\n",
              "    .dataframe tbody tr th:only-of-type {\n",
              "        vertical-align: middle;\n",
              "    }\n",
              "\n",
              "    .dataframe tbody tr th {\n",
              "        vertical-align: top;\n",
              "    }\n",
              "\n",
              "    .dataframe thead th {\n",
              "        text-align: right;\n",
              "    }\n",
              "</style>\n",
              "<table border=\"1\" class=\"dataframe\">\n",
              "  <thead>\n",
              "    <tr style=\"text-align: right;\">\n",
              "      <th></th>\n",
              "      <th>ID</th>\n",
              "      <th>DataNascimento</th>\n",
              "      <th>Sexo</th>\n",
              "      <th>TempodeServiço</th>\n",
              "      <th>EstadoCivil</th>\n",
              "      <th>NumerodeFilhos</th>\n",
              "      <th>TempodeResidencia</th>\n",
              "      <th>Conta</th>\n",
              "      <th>salario</th>\n",
              "    </tr>\n",
              "  </thead>\n",
              "  <tbody>\n",
              "    <tr>\n",
              "      <th>0</th>\n",
              "      <td>1</td>\n",
              "      <td>1952-02-03</td>\n",
              "      <td>Masculino</td>\n",
              "      <td>98</td>\n",
              "      <td>3</td>\n",
              "      <td>0</td>\n",
              "      <td>7</td>\n",
              "      <td>Particular</td>\n",
              "      <td>5700.0</td>\n",
              "    </tr>\n",
              "    <tr>\n",
              "      <th>473</th>\n",
              "      <td>1</td>\n",
              "      <td>1952-02-03</td>\n",
              "      <td>Masculino</td>\n",
              "      <td>98</td>\n",
              "      <td>3</td>\n",
              "      <td>0</td>\n",
              "      <td>7</td>\n",
              "      <td>Particular</td>\n",
              "      <td>5700.0</td>\n",
              "    </tr>\n",
              "    <tr>\n",
              "      <th>1</th>\n",
              "      <td>2</td>\n",
              "      <td>1958-05-23</td>\n",
              "      <td>Masculino</td>\n",
              "      <td>98</td>\n",
              "      <td>3</td>\n",
              "      <td>0</td>\n",
              "      <td>43</td>\n",
              "      <td>Particular</td>\n",
              "      <td>4020.0</td>\n",
              "    </tr>\n",
              "    <tr>\n",
              "      <th>474</th>\n",
              "      <td>2</td>\n",
              "      <td>1958-05-23</td>\n",
              "      <td>Masculino</td>\n",
              "      <td>98</td>\n",
              "      <td>3</td>\n",
              "      <td>0</td>\n",
              "      <td>43</td>\n",
              "      <td>Particular</td>\n",
              "      <td>4020.0</td>\n",
              "    </tr>\n",
              "    <tr>\n",
              "      <th>2</th>\n",
              "      <td>3</td>\n",
              "      <td>1929-07-26</td>\n",
              "      <td>Feminino</td>\n",
              "      <td>98</td>\n",
              "      <td>1</td>\n",
              "      <td>0</td>\n",
              "      <td>7</td>\n",
              "      <td>empresa</td>\n",
              "      <td>2145.0</td>\n",
              "    </tr>\n",
              "    <tr>\n",
              "      <th>...</th>\n",
              "      <td>...</td>\n",
              "      <td>...</td>\n",
              "      <td>...</td>\n",
              "      <td>...</td>\n",
              "      <td>...</td>\n",
              "      <td>...</td>\n",
              "      <td>...</td>\n",
              "      <td>...</td>\n",
              "      <td>...</td>\n",
              "    </tr>\n",
              "    <tr>\n",
              "      <th>470</th>\n",
              "      <td>472</td>\n",
              "      <td>1966-02-21</td>\n",
              "      <td>Masculino</td>\n",
              "      <td>63</td>\n",
              "      <td>3</td>\n",
              "      <td>0</td>\n",
              "      <td>9</td>\n",
              "      <td>Particular</td>\n",
              "      <td>3915.0</td>\n",
              "    </tr>\n",
              "    <tr>\n",
              "      <th>944</th>\n",
              "      <td>473</td>\n",
              "      <td>1937-11-25</td>\n",
              "      <td>Feminino</td>\n",
              "      <td>63</td>\n",
              "      <td>3</td>\n",
              "      <td>0</td>\n",
              "      <td>29</td>\n",
              "      <td>empresa</td>\n",
              "      <td>2145.0</td>\n",
              "    </tr>\n",
              "    <tr>\n",
              "      <th>471</th>\n",
              "      <td>473</td>\n",
              "      <td>1937-11-25</td>\n",
              "      <td>Feminino</td>\n",
              "      <td>63</td>\n",
              "      <td>3</td>\n",
              "      <td>0</td>\n",
              "      <td>29</td>\n",
              "      <td>empresa</td>\n",
              "      <td>2145.0</td>\n",
              "    </tr>\n",
              "    <tr>\n",
              "      <th>472</th>\n",
              "      <td>474</td>\n",
              "      <td>1968-11-05</td>\n",
              "      <td>Feminino</td>\n",
              "      <td>63</td>\n",
              "      <td>2</td>\n",
              "      <td>6</td>\n",
              "      <td>12</td>\n",
              "      <td>empresa</td>\n",
              "      <td>2940.0</td>\n",
              "    </tr>\n",
              "    <tr>\n",
              "      <th>945</th>\n",
              "      <td>474</td>\n",
              "      <td>1968-11-05</td>\n",
              "      <td>Feminino</td>\n",
              "      <td>63</td>\n",
              "      <td>2</td>\n",
              "      <td>6</td>\n",
              "      <td>12</td>\n",
              "      <td>empresa</td>\n",
              "      <td>2940.0</td>\n",
              "    </tr>\n",
              "  </tbody>\n",
              "</table>\n",
              "<p>946 rows × 9 columns</p>\n",
              "</div>"
            ],
            "text/plain": [
              "      ID DataNascimento       Sexo  ...  TempodeResidencia       Conta  salario\n",
              "0      1     1952-02-03  Masculino  ...                  7  Particular   5700.0\n",
              "473    1     1952-02-03  Masculino  ...                  7  Particular   5700.0\n",
              "1      2     1958-05-23  Masculino  ...                 43  Particular   4020.0\n",
              "474    2     1958-05-23  Masculino  ...                 43  Particular   4020.0\n",
              "2      3     1929-07-26   Feminino  ...                  7     empresa   2145.0\n",
              "..   ...            ...        ...  ...                ...         ...      ...\n",
              "470  472     1966-02-21  Masculino  ...                  9  Particular   3915.0\n",
              "944  473     1937-11-25   Feminino  ...                 29     empresa   2145.0\n",
              "471  473     1937-11-25   Feminino  ...                 29     empresa   2145.0\n",
              "472  474     1968-11-05   Feminino  ...                 12     empresa   2940.0\n",
              "945  474     1968-11-05   Feminino  ...                 12     empresa   2940.0\n",
              "\n",
              "[946 rows x 9 columns]"
            ]
          },
          "metadata": {
            "tags": []
          },
          "execution_count": 5
        }
      ]
    },
    {
      "cell_type": "code",
      "metadata": {
        "id": "_K3RJGj3dkSw",
        "outputId": "274bcadf-639a-47a0-a05a-632c6eefa7b7",
        "colab": {
          "base_uri": "https://localhost:8080/",
          "height": 34
        }
      },
      "source": [
        "#6 - Verifique se a variável salario é numérica\n",
        "cadastral[\"salario\"].dtypes"
      ],
      "execution_count": 6,
      "outputs": [
        {
          "output_type": "execute_result",
          "data": {
            "text/plain": [
              "dtype('float64')"
            ]
          },
          "metadata": {
            "tags": []
          },
          "execution_count": 6
        }
      ]
    },
    {
      "cell_type": "code",
      "metadata": {
        "id": "g-IaH4aGgJtm",
        "outputId": "6dc9d2ad-9918-4b3c-94e4-d40487a7f263",
        "colab": {
          "base_uri": "https://localhost:8080/",
          "height": 170
        }
      },
      "source": [
        "#7 - Mostre o mínimo e o máximo da variável salario\n",
        "cadastral[\"salario\"].describe()"
      ],
      "execution_count": 7,
      "outputs": [
        {
          "output_type": "execute_result",
          "data": {
            "text/plain": [
              "count      946.000000\n",
              "mean      3441.844609\n",
              "std       1708.467635\n",
              "min       1575.000000\n",
              "25%       2400.000000\n",
              "50%       2880.000000\n",
              "75%       3705.000000\n",
              "max      13500.000000\n",
              "Name: salario, dtype: float64"
            ]
          },
          "metadata": {
            "tags": []
          },
          "execution_count": 7
        }
      ]
    },
    {
      "cell_type": "code",
      "metadata": {
        "id": "aAve2DvejWoX"
      },
      "source": [
        "#8 - criando as quebras\n",
        "bins = [1574,3000,5000,7000,13500]"
      ],
      "execution_count": 9,
      "outputs": []
    },
    {
      "cell_type": "code",
      "metadata": {
        "id": "VAVsHziijj2x"
      },
      "source": [
        "#8 - criando as labels\n",
        "grupo = ['faixa1','faixa2','faixa3','faixa4']"
      ],
      "execution_count": 10,
      "outputs": []
    },
    {
      "cell_type": "code",
      "metadata": {
        "id": "kUZBXzCKhvjt",
        "outputId": "9bbabb50-04cd-4f74-d8a4-189d7a5f3626",
        "colab": {
          "base_uri": "https://localhost:8080/",
          "height": 204
        }
      },
      "source": [
        "#8 - Crie uma variável faixa de salario com as seguintes quebras: 1574, 3000, 5000, 7000, 13500\n",
        "cadastral[\"Fx_Salarial\"] = pd.cut(cadastral['salario'], bins, labels = grupo)\n",
        "cadastral.head()"
      ],
      "execution_count": 11,
      "outputs": [
        {
          "output_type": "execute_result",
          "data": {
            "text/html": [
              "<div>\n",
              "<style scoped>\n",
              "    .dataframe tbody tr th:only-of-type {\n",
              "        vertical-align: middle;\n",
              "    }\n",
              "\n",
              "    .dataframe tbody tr th {\n",
              "        vertical-align: top;\n",
              "    }\n",
              "\n",
              "    .dataframe thead th {\n",
              "        text-align: right;\n",
              "    }\n",
              "</style>\n",
              "<table border=\"1\" class=\"dataframe\">\n",
              "  <thead>\n",
              "    <tr style=\"text-align: right;\">\n",
              "      <th></th>\n",
              "      <th>ID</th>\n",
              "      <th>DataNascimento</th>\n",
              "      <th>Sexo</th>\n",
              "      <th>TempodeServiço</th>\n",
              "      <th>EstadoCivil</th>\n",
              "      <th>NumerodeFilhos</th>\n",
              "      <th>TempodeResidencia</th>\n",
              "      <th>Conta</th>\n",
              "      <th>salario</th>\n",
              "      <th>Fx_Salarial</th>\n",
              "    </tr>\n",
              "  </thead>\n",
              "  <tbody>\n",
              "    <tr>\n",
              "      <th>0</th>\n",
              "      <td>1</td>\n",
              "      <td>1952-02-03</td>\n",
              "      <td>Masculino</td>\n",
              "      <td>98</td>\n",
              "      <td>3</td>\n",
              "      <td>0</td>\n",
              "      <td>7</td>\n",
              "      <td>Particular</td>\n",
              "      <td>5700.0</td>\n",
              "      <td>faixa3</td>\n",
              "    </tr>\n",
              "    <tr>\n",
              "      <th>1</th>\n",
              "      <td>2</td>\n",
              "      <td>1958-05-23</td>\n",
              "      <td>Masculino</td>\n",
              "      <td>98</td>\n",
              "      <td>3</td>\n",
              "      <td>0</td>\n",
              "      <td>43</td>\n",
              "      <td>Particular</td>\n",
              "      <td>4020.0</td>\n",
              "      <td>faixa2</td>\n",
              "    </tr>\n",
              "    <tr>\n",
              "      <th>2</th>\n",
              "      <td>3</td>\n",
              "      <td>1929-07-26</td>\n",
              "      <td>Feminino</td>\n",
              "      <td>98</td>\n",
              "      <td>1</td>\n",
              "      <td>0</td>\n",
              "      <td>7</td>\n",
              "      <td>empresa</td>\n",
              "      <td>2145.0</td>\n",
              "      <td>faixa1</td>\n",
              "    </tr>\n",
              "    <tr>\n",
              "      <th>3</th>\n",
              "      <td>4</td>\n",
              "      <td>1947-04-15</td>\n",
              "      <td>Feminino</td>\n",
              "      <td>98</td>\n",
              "      <td>1</td>\n",
              "      <td>0</td>\n",
              "      <td>13</td>\n",
              "      <td>empresa</td>\n",
              "      <td>2190.0</td>\n",
              "      <td>faixa1</td>\n",
              "    </tr>\n",
              "    <tr>\n",
              "      <th>4</th>\n",
              "      <td>5</td>\n",
              "      <td>1955-02-09</td>\n",
              "      <td>Masculino</td>\n",
              "      <td>98</td>\n",
              "      <td>2</td>\n",
              "      <td>3</td>\n",
              "      <td>8</td>\n",
              "      <td>Particular</td>\n",
              "      <td>4500.0</td>\n",
              "      <td>faixa2</td>\n",
              "    </tr>\n",
              "  </tbody>\n",
              "</table>\n",
              "</div>"
            ],
            "text/plain": [
              "   ID DataNascimento       Sexo  ...       Conta  salario  Fx_Salarial\n",
              "0   1     1952-02-03  Masculino  ...  Particular   5700.0       faixa3\n",
              "1   2     1958-05-23  Masculino  ...  Particular   4020.0       faixa2\n",
              "2   3     1929-07-26   Feminino  ...     empresa   2145.0       faixa1\n",
              "3   4     1947-04-15   Feminino  ...     empresa   2190.0       faixa1\n",
              "4   5     1955-02-09  Masculino  ...  Particular   4500.0       faixa2\n",
              "\n",
              "[5 rows x 10 columns]"
            ]
          },
          "metadata": {
            "tags": []
          },
          "execution_count": 11
        }
      ]
    },
    {
      "cell_type": "code",
      "metadata": {
        "id": "n546uT5ojxNH",
        "outputId": "aa6f1853-f648-43b4-af34-024256d4ceed",
        "colab": {
          "base_uri": "https://localhost:8080/",
          "height": 204
        }
      },
      "source": [
        "#Lendo arquivo transacional\n",
        "transacional = pd.read_excel('/content/transacional.xlsx')\n",
        "transacional.head()"
      ],
      "execution_count": 12,
      "outputs": [
        {
          "output_type": "execute_result",
          "data": {
            "text/html": [
              "<div>\n",
              "<style scoped>\n",
              "    .dataframe tbody tr th:only-of-type {\n",
              "        vertical-align: middle;\n",
              "    }\n",
              "\n",
              "    .dataframe tbody tr th {\n",
              "        vertical-align: top;\n",
              "    }\n",
              "\n",
              "    .dataframe thead th {\n",
              "        text-align: right;\n",
              "    }\n",
              "</style>\n",
              "<table border=\"1\" class=\"dataframe\">\n",
              "  <thead>\n",
              "    <tr style=\"text-align: right;\">\n",
              "      <th></th>\n",
              "      <th>ID</th>\n",
              "      <th>default</th>\n",
              "      <th>default1</th>\n",
              "      <th>QtdaParcelas</th>\n",
              "      <th>Atraso</th>\n",
              "      <th>ValorEmprestimo</th>\n",
              "      <th>QtdaPagas</th>\n",
              "    </tr>\n",
              "  </thead>\n",
              "  <tbody>\n",
              "    <tr>\n",
              "      <th>0</th>\n",
              "      <td>1</td>\n",
              "      <td>Adimplente</td>\n",
              "      <td>0</td>\n",
              "      <td>19</td>\n",
              "      <td>Sim</td>\n",
              "      <td>665</td>\n",
              "      <td>6</td>\n",
              "    </tr>\n",
              "    <tr>\n",
              "      <th>1</th>\n",
              "      <td>2</td>\n",
              "      <td>Adimplente</td>\n",
              "      <td>0</td>\n",
              "      <td>33</td>\n",
              "      <td>Não</td>\n",
              "      <td>950</td>\n",
              "      <td>11</td>\n",
              "    </tr>\n",
              "    <tr>\n",
              "      <th>2</th>\n",
              "      <td>3</td>\n",
              "      <td>Adimplente</td>\n",
              "      <td>0</td>\n",
              "      <td>20</td>\n",
              "      <td>Não</td>\n",
              "      <td>700</td>\n",
              "      <td>6</td>\n",
              "    </tr>\n",
              "    <tr>\n",
              "      <th>3</th>\n",
              "      <td>4</td>\n",
              "      <td>Adimplente</td>\n",
              "      <td>0</td>\n",
              "      <td>21</td>\n",
              "      <td>Sim</td>\n",
              "      <td>735</td>\n",
              "      <td>7</td>\n",
              "    </tr>\n",
              "    <tr>\n",
              "      <th>4</th>\n",
              "      <td>5</td>\n",
              "      <td>Adimplente</td>\n",
              "      <td>0</td>\n",
              "      <td>18</td>\n",
              "      <td>Sim</td>\n",
              "      <td>630</td>\n",
              "      <td>6</td>\n",
              "    </tr>\n",
              "  </tbody>\n",
              "</table>\n",
              "</div>"
            ],
            "text/plain": [
              "   ID     default  default1  QtdaParcelas Atraso  ValorEmprestimo  QtdaPagas\n",
              "0   1  Adimplente         0            19    Sim              665          6\n",
              "1   2  Adimplente         0            33    Não              950         11\n",
              "2   3  Adimplente         0            20    Não              700          6\n",
              "3   4  Adimplente         0            21    Sim              735          7\n",
              "4   5  Adimplente         0            18    Sim              630          6"
            ]
          },
          "metadata": {
            "tags": []
          },
          "execution_count": 12
        }
      ]
    },
    {
      "cell_type": "code",
      "metadata": {
        "id": "c8OizxkpkapV",
        "outputId": "920225a5-cdd4-4dcf-8fe5-a21c4f0d2bc7",
        "colab": {
          "base_uri": "https://localhost:8080/",
          "height": 224
        }
      },
      "source": [
        "#11 - Crie um arquivo chamado consolidado e faça uma união dos arquivos cadastral e Transacional através do Left join\n",
        "consolidado = pd.merge(cadastral, transacional, on='ID', how='left', indicator=True)\n",
        "consolidado.head()"
      ],
      "execution_count": 13,
      "outputs": [
        {
          "output_type": "execute_result",
          "data": {
            "text/html": [
              "<div>\n",
              "<style scoped>\n",
              "    .dataframe tbody tr th:only-of-type {\n",
              "        vertical-align: middle;\n",
              "    }\n",
              "\n",
              "    .dataframe tbody tr th {\n",
              "        vertical-align: top;\n",
              "    }\n",
              "\n",
              "    .dataframe thead th {\n",
              "        text-align: right;\n",
              "    }\n",
              "</style>\n",
              "<table border=\"1\" class=\"dataframe\">\n",
              "  <thead>\n",
              "    <tr style=\"text-align: right;\">\n",
              "      <th></th>\n",
              "      <th>ID</th>\n",
              "      <th>DataNascimento</th>\n",
              "      <th>Sexo</th>\n",
              "      <th>TempodeServiço</th>\n",
              "      <th>EstadoCivil</th>\n",
              "      <th>NumerodeFilhos</th>\n",
              "      <th>TempodeResidencia</th>\n",
              "      <th>Conta</th>\n",
              "      <th>salario</th>\n",
              "      <th>Fx_Salarial</th>\n",
              "      <th>default</th>\n",
              "      <th>default1</th>\n",
              "      <th>QtdaParcelas</th>\n",
              "      <th>Atraso</th>\n",
              "      <th>ValorEmprestimo</th>\n",
              "      <th>QtdaPagas</th>\n",
              "      <th>_merge</th>\n",
              "    </tr>\n",
              "  </thead>\n",
              "  <tbody>\n",
              "    <tr>\n",
              "      <th>0</th>\n",
              "      <td>1</td>\n",
              "      <td>1952-02-03</td>\n",
              "      <td>Masculino</td>\n",
              "      <td>98</td>\n",
              "      <td>3</td>\n",
              "      <td>0</td>\n",
              "      <td>7</td>\n",
              "      <td>Particular</td>\n",
              "      <td>5700.0</td>\n",
              "      <td>faixa3</td>\n",
              "      <td>Adimplente</td>\n",
              "      <td>0</td>\n",
              "      <td>19</td>\n",
              "      <td>Sim</td>\n",
              "      <td>665</td>\n",
              "      <td>6</td>\n",
              "      <td>both</td>\n",
              "    </tr>\n",
              "    <tr>\n",
              "      <th>1</th>\n",
              "      <td>2</td>\n",
              "      <td>1958-05-23</td>\n",
              "      <td>Masculino</td>\n",
              "      <td>98</td>\n",
              "      <td>3</td>\n",
              "      <td>0</td>\n",
              "      <td>43</td>\n",
              "      <td>Particular</td>\n",
              "      <td>4020.0</td>\n",
              "      <td>faixa2</td>\n",
              "      <td>Adimplente</td>\n",
              "      <td>0</td>\n",
              "      <td>33</td>\n",
              "      <td>Não</td>\n",
              "      <td>950</td>\n",
              "      <td>11</td>\n",
              "      <td>both</td>\n",
              "    </tr>\n",
              "    <tr>\n",
              "      <th>2</th>\n",
              "      <td>3</td>\n",
              "      <td>1929-07-26</td>\n",
              "      <td>Feminino</td>\n",
              "      <td>98</td>\n",
              "      <td>1</td>\n",
              "      <td>0</td>\n",
              "      <td>7</td>\n",
              "      <td>empresa</td>\n",
              "      <td>2145.0</td>\n",
              "      <td>faixa1</td>\n",
              "      <td>Adimplente</td>\n",
              "      <td>0</td>\n",
              "      <td>20</td>\n",
              "      <td>Não</td>\n",
              "      <td>700</td>\n",
              "      <td>6</td>\n",
              "      <td>both</td>\n",
              "    </tr>\n",
              "    <tr>\n",
              "      <th>3</th>\n",
              "      <td>4</td>\n",
              "      <td>1947-04-15</td>\n",
              "      <td>Feminino</td>\n",
              "      <td>98</td>\n",
              "      <td>1</td>\n",
              "      <td>0</td>\n",
              "      <td>13</td>\n",
              "      <td>empresa</td>\n",
              "      <td>2190.0</td>\n",
              "      <td>faixa1</td>\n",
              "      <td>Adimplente</td>\n",
              "      <td>0</td>\n",
              "      <td>21</td>\n",
              "      <td>Sim</td>\n",
              "      <td>735</td>\n",
              "      <td>7</td>\n",
              "      <td>both</td>\n",
              "    </tr>\n",
              "    <tr>\n",
              "      <th>4</th>\n",
              "      <td>5</td>\n",
              "      <td>1955-02-09</td>\n",
              "      <td>Masculino</td>\n",
              "      <td>98</td>\n",
              "      <td>2</td>\n",
              "      <td>3</td>\n",
              "      <td>8</td>\n",
              "      <td>Particular</td>\n",
              "      <td>4500.0</td>\n",
              "      <td>faixa2</td>\n",
              "      <td>Adimplente</td>\n",
              "      <td>0</td>\n",
              "      <td>18</td>\n",
              "      <td>Sim</td>\n",
              "      <td>630</td>\n",
              "      <td>6</td>\n",
              "      <td>both</td>\n",
              "    </tr>\n",
              "  </tbody>\n",
              "</table>\n",
              "</div>"
            ],
            "text/plain": [
              "   ID DataNascimento       Sexo  ...  ValorEmprestimo  QtdaPagas  _merge\n",
              "0   1     1952-02-03  Masculino  ...              665          6    both\n",
              "1   2     1958-05-23  Masculino  ...              950         11    both\n",
              "2   3     1929-07-26   Feminino  ...              700          6    both\n",
              "3   4     1947-04-15   Feminino  ...              735          7    both\n",
              "4   5     1955-02-09  Masculino  ...              630          6    both\n",
              "\n",
              "[5 rows x 17 columns]"
            ]
          },
          "metadata": {
            "tags": []
          },
          "execution_count": 13
        }
      ]
    },
    {
      "cell_type": "code",
      "metadata": {
        "id": "KkbEK6I-mWRs",
        "outputId": "ad0ba3db-599e-433c-e87a-7222e85112ee",
        "colab": {
          "base_uri": "https://localhost:8080/",
          "height": 224
        }
      },
      "source": [
        "#12 - Crie uma variável comprometimento de renda usando as variáveis ValorEmprestimo e Salario.  Para isso utilize a expressão. (ValorEmprestimo / salario)*100\n",
        "consolidado['Compr_Renda'] = (consolidado['ValorEmprestimo']/consolidado['salario'])*100\n",
        "consolidado.head()"
      ],
      "execution_count": 26,
      "outputs": [
        {
          "output_type": "execute_result",
          "data": {
            "text/html": [
              "<div>\n",
              "<style scoped>\n",
              "    .dataframe tbody tr th:only-of-type {\n",
              "        vertical-align: middle;\n",
              "    }\n",
              "\n",
              "    .dataframe tbody tr th {\n",
              "        vertical-align: top;\n",
              "    }\n",
              "\n",
              "    .dataframe thead th {\n",
              "        text-align: right;\n",
              "    }\n",
              "</style>\n",
              "<table border=\"1\" class=\"dataframe\">\n",
              "  <thead>\n",
              "    <tr style=\"text-align: right;\">\n",
              "      <th></th>\n",
              "      <th>ID</th>\n",
              "      <th>DataNascimento</th>\n",
              "      <th>Sexo</th>\n",
              "      <th>TempodeServiço</th>\n",
              "      <th>EstadoCivil</th>\n",
              "      <th>NumerodeFilhos</th>\n",
              "      <th>TempodeResidencia</th>\n",
              "      <th>Conta</th>\n",
              "      <th>salario</th>\n",
              "      <th>Fx_Salarial</th>\n",
              "      <th>default</th>\n",
              "      <th>default1</th>\n",
              "      <th>QtdaParcelas</th>\n",
              "      <th>Atraso</th>\n",
              "      <th>ValorEmprestimo</th>\n",
              "      <th>QtdaPagas</th>\n",
              "      <th>_merge</th>\n",
              "      <th>Compr_Renda</th>\n",
              "    </tr>\n",
              "  </thead>\n",
              "  <tbody>\n",
              "    <tr>\n",
              "      <th>0</th>\n",
              "      <td>1</td>\n",
              "      <td>1952-02-03</td>\n",
              "      <td>Masculino</td>\n",
              "      <td>98</td>\n",
              "      <td>3</td>\n",
              "      <td>0</td>\n",
              "      <td>7</td>\n",
              "      <td>Particular</td>\n",
              "      <td>5700.0</td>\n",
              "      <td>faixa3</td>\n",
              "      <td>Adimplente</td>\n",
              "      <td>0</td>\n",
              "      <td>19</td>\n",
              "      <td>Sim</td>\n",
              "      <td>665</td>\n",
              "      <td>6</td>\n",
              "      <td>both</td>\n",
              "      <td>11.666667</td>\n",
              "    </tr>\n",
              "    <tr>\n",
              "      <th>1</th>\n",
              "      <td>2</td>\n",
              "      <td>1958-05-23</td>\n",
              "      <td>Masculino</td>\n",
              "      <td>98</td>\n",
              "      <td>3</td>\n",
              "      <td>0</td>\n",
              "      <td>43</td>\n",
              "      <td>Particular</td>\n",
              "      <td>4020.0</td>\n",
              "      <td>faixa2</td>\n",
              "      <td>Adimplente</td>\n",
              "      <td>0</td>\n",
              "      <td>33</td>\n",
              "      <td>Não</td>\n",
              "      <td>950</td>\n",
              "      <td>11</td>\n",
              "      <td>both</td>\n",
              "      <td>23.631841</td>\n",
              "    </tr>\n",
              "    <tr>\n",
              "      <th>2</th>\n",
              "      <td>3</td>\n",
              "      <td>1929-07-26</td>\n",
              "      <td>Feminino</td>\n",
              "      <td>98</td>\n",
              "      <td>1</td>\n",
              "      <td>0</td>\n",
              "      <td>7</td>\n",
              "      <td>empresa</td>\n",
              "      <td>2145.0</td>\n",
              "      <td>faixa1</td>\n",
              "      <td>Adimplente</td>\n",
              "      <td>0</td>\n",
              "      <td>20</td>\n",
              "      <td>Não</td>\n",
              "      <td>700</td>\n",
              "      <td>6</td>\n",
              "      <td>both</td>\n",
              "      <td>32.634033</td>\n",
              "    </tr>\n",
              "    <tr>\n",
              "      <th>3</th>\n",
              "      <td>4</td>\n",
              "      <td>1947-04-15</td>\n",
              "      <td>Feminino</td>\n",
              "      <td>98</td>\n",
              "      <td>1</td>\n",
              "      <td>0</td>\n",
              "      <td>13</td>\n",
              "      <td>empresa</td>\n",
              "      <td>2190.0</td>\n",
              "      <td>faixa1</td>\n",
              "      <td>Adimplente</td>\n",
              "      <td>0</td>\n",
              "      <td>21</td>\n",
              "      <td>Sim</td>\n",
              "      <td>735</td>\n",
              "      <td>7</td>\n",
              "      <td>both</td>\n",
              "      <td>33.561644</td>\n",
              "    </tr>\n",
              "    <tr>\n",
              "      <th>4</th>\n",
              "      <td>5</td>\n",
              "      <td>1955-02-09</td>\n",
              "      <td>Masculino</td>\n",
              "      <td>98</td>\n",
              "      <td>2</td>\n",
              "      <td>3</td>\n",
              "      <td>8</td>\n",
              "      <td>Particular</td>\n",
              "      <td>4500.0</td>\n",
              "      <td>faixa2</td>\n",
              "      <td>Adimplente</td>\n",
              "      <td>0</td>\n",
              "      <td>18</td>\n",
              "      <td>Sim</td>\n",
              "      <td>630</td>\n",
              "      <td>6</td>\n",
              "      <td>both</td>\n",
              "      <td>14.000000</td>\n",
              "    </tr>\n",
              "  </tbody>\n",
              "</table>\n",
              "</div>"
            ],
            "text/plain": [
              "   ID DataNascimento       Sexo  ...  QtdaPagas  _merge  Compr_Renda\n",
              "0   1     1952-02-03  Masculino  ...          6    both    11.666667\n",
              "1   2     1958-05-23  Masculino  ...         11    both    23.631841\n",
              "2   3     1929-07-26   Feminino  ...          6    both    32.634033\n",
              "3   4     1947-04-15   Feminino  ...          7    both    33.561644\n",
              "4   5     1955-02-09  Masculino  ...          6    both    14.000000\n",
              "\n",
              "[5 rows x 18 columns]"
            ]
          },
          "metadata": {
            "tags": []
          },
          "execution_count": 26
        }
      ]
    },
    {
      "cell_type": "code",
      "metadata": {
        "id": "sh13XqwINXlH",
        "outputId": "e24599e7-8533-458c-9a55-9e45417fc45c",
        "colab": {
          "base_uri": "https://localhost:8080/",
          "height": 34
        }
      },
      "source": [
        "#12 - Quantas variáveis ficaram no arquivo?\n",
        "len(consolidado.columns)"
      ],
      "execution_count": 27,
      "outputs": [
        {
          "output_type": "execute_result",
          "data": {
            "text/plain": [
              "18"
            ]
          },
          "metadata": {
            "tags": []
          },
          "execution_count": 27
        }
      ]
    },
    {
      "cell_type": "code",
      "metadata": {
        "id": "qBJbmszanbvZ",
        "outputId": "8d48123b-e83b-4911-98c8-0402f48724cb",
        "colab": {
          "base_uri": "https://localhost:8080/",
          "height": 68
        }
      },
      "source": [
        "#13 - Tire uma frequência separadamente das variáveis Sexo e default. Quantos Homens , Mulheres, Adimplente e Inadimplente possui. Os valores precisam ser mostrados separadamente.\n",
        "consolidado['Sexo'].value_counts()"
      ],
      "execution_count": 28,
      "outputs": [
        {
          "output_type": "execute_result",
          "data": {
            "text/plain": [
              "Masculino    514\n",
              "Feminino     432\n",
              "Name: Sexo, dtype: int64"
            ]
          },
          "metadata": {
            "tags": []
          },
          "execution_count": 28
        }
      ]
    },
    {
      "cell_type": "code",
      "metadata": {
        "id": "X-WiKWs5oBSy",
        "outputId": "ee8c6d34-b2d1-44a7-d368-8feefa2d4809",
        "colab": {
          "base_uri": "https://localhost:8080/",
          "height": 68
        }
      },
      "source": [
        "#13 - Tire uma frequência separadamente das variáveis Sexo e default. Quantos Homens , Mulheres, Adimplente e Inadimplente possui. Os valores precisam ser mostrados separadamente.\n",
        "consolidado['default'].value_counts()"
      ],
      "execution_count": 29,
      "outputs": [
        {
          "output_type": "execute_result",
          "data": {
            "text/plain": [
              "Inadimplente    686\n",
              "Adimplente      260\n",
              "Name: default, dtype: int64"
            ]
          },
          "metadata": {
            "tags": []
          },
          "execution_count": 29
        }
      ]
    },
    {
      "cell_type": "code",
      "metadata": {
        "id": "tJCu-VFBoky7",
        "outputId": "bfdaf9c6-2e2a-4d93-bab7-5d6b795ab76f",
        "colab": {
          "base_uri": "https://localhost:8080/",
          "height": 142
        }
      },
      "source": [
        "#14 - Faça uma estatística Bivariada utilizando a função CrossTable ente Sexo e default\n",
        "pd.crosstab(consolidado.Sexo,consolidado.default)"
      ],
      "execution_count": 30,
      "outputs": [
        {
          "output_type": "execute_result",
          "data": {
            "text/html": [
              "<div>\n",
              "<style scoped>\n",
              "    .dataframe tbody tr th:only-of-type {\n",
              "        vertical-align: middle;\n",
              "    }\n",
              "\n",
              "    .dataframe tbody tr th {\n",
              "        vertical-align: top;\n",
              "    }\n",
              "\n",
              "    .dataframe thead th {\n",
              "        text-align: right;\n",
              "    }\n",
              "</style>\n",
              "<table border=\"1\" class=\"dataframe\">\n",
              "  <thead>\n",
              "    <tr style=\"text-align: right;\">\n",
              "      <th>default</th>\n",
              "      <th>Adimplente</th>\n",
              "      <th>Inadimplente</th>\n",
              "    </tr>\n",
              "    <tr>\n",
              "      <th>Sexo</th>\n",
              "      <th></th>\n",
              "      <th></th>\n",
              "    </tr>\n",
              "  </thead>\n",
              "  <tbody>\n",
              "    <tr>\n",
              "      <th>Feminino</th>\n",
              "      <td>98</td>\n",
              "      <td>334</td>\n",
              "    </tr>\n",
              "    <tr>\n",
              "      <th>Masculino</th>\n",
              "      <td>162</td>\n",
              "      <td>352</td>\n",
              "    </tr>\n",
              "  </tbody>\n",
              "</table>\n",
              "</div>"
            ],
            "text/plain": [
              "default    Adimplente  Inadimplente\n",
              "Sexo                               \n",
              "Feminino           98           334\n",
              "Masculino         162           352"
            ]
          },
          "metadata": {
            "tags": []
          },
          "execution_count": 30
        }
      ]
    },
    {
      "cell_type": "code",
      "metadata": {
        "id": "PoAnlOy2rRXl"
      },
      "source": [
        "#15 - Faça um modelo regressão logística e apresente o resultado"
      ],
      "execution_count": 65,
      "outputs": []
    },
    {
      "cell_type": "code",
      "metadata": {
        "id": "B3kvAWDDrZ_x",
        "outputId": "591cdcfc-14a1-4906-95b3-723c7643bcd3",
        "colab": {
          "base_uri": "https://localhost:8080/",
          "height": 204
        }
      },
      "source": [
        "#x = consolidado[['TempodeServiço','NumerodeFilhos','TempodeResidencia','salario','QtdaParcelas','ValorEmprestimo','QtdaPagas','Compr_Renda']]\n",
        "x = consolidado[['QtdaParcelas','Compr_Renda']]\n",
        "x.head()"
      ],
      "execution_count": 36,
      "outputs": [
        {
          "output_type": "execute_result",
          "data": {
            "text/html": [
              "<div>\n",
              "<style scoped>\n",
              "    .dataframe tbody tr th:only-of-type {\n",
              "        vertical-align: middle;\n",
              "    }\n",
              "\n",
              "    .dataframe tbody tr th {\n",
              "        vertical-align: top;\n",
              "    }\n",
              "\n",
              "    .dataframe thead th {\n",
              "        text-align: right;\n",
              "    }\n",
              "</style>\n",
              "<table border=\"1\" class=\"dataframe\">\n",
              "  <thead>\n",
              "    <tr style=\"text-align: right;\">\n",
              "      <th></th>\n",
              "      <th>QtdaParcelas</th>\n",
              "      <th>Compr_Renda</th>\n",
              "    </tr>\n",
              "  </thead>\n",
              "  <tbody>\n",
              "    <tr>\n",
              "      <th>0</th>\n",
              "      <td>19</td>\n",
              "      <td>11.666667</td>\n",
              "    </tr>\n",
              "    <tr>\n",
              "      <th>1</th>\n",
              "      <td>33</td>\n",
              "      <td>23.631841</td>\n",
              "    </tr>\n",
              "    <tr>\n",
              "      <th>2</th>\n",
              "      <td>20</td>\n",
              "      <td>32.634033</td>\n",
              "    </tr>\n",
              "    <tr>\n",
              "      <th>3</th>\n",
              "      <td>21</td>\n",
              "      <td>33.561644</td>\n",
              "    </tr>\n",
              "    <tr>\n",
              "      <th>4</th>\n",
              "      <td>18</td>\n",
              "      <td>14.000000</td>\n",
              "    </tr>\n",
              "  </tbody>\n",
              "</table>\n",
              "</div>"
            ],
            "text/plain": [
              "   QtdaParcelas  Compr_Renda\n",
              "0            19    11.666667\n",
              "1            33    23.631841\n",
              "2            20    32.634033\n",
              "3            21    33.561644\n",
              "4            18    14.000000"
            ]
          },
          "metadata": {
            "tags": []
          },
          "execution_count": 36
        }
      ]
    },
    {
      "cell_type": "code",
      "metadata": {
        "id": "qVU77m2DssKW",
        "outputId": "de6186a4-8205-482c-b4da-b5bd07077cf0",
        "colab": {
          "base_uri": "https://localhost:8080/",
          "height": 204
        }
      },
      "source": [
        "x = sm.add_constant(x)\n",
        "x.head()"
      ],
      "execution_count": 37,
      "outputs": [
        {
          "output_type": "execute_result",
          "data": {
            "text/html": [
              "<div>\n",
              "<style scoped>\n",
              "    .dataframe tbody tr th:only-of-type {\n",
              "        vertical-align: middle;\n",
              "    }\n",
              "\n",
              "    .dataframe tbody tr th {\n",
              "        vertical-align: top;\n",
              "    }\n",
              "\n",
              "    .dataframe thead th {\n",
              "        text-align: right;\n",
              "    }\n",
              "</style>\n",
              "<table border=\"1\" class=\"dataframe\">\n",
              "  <thead>\n",
              "    <tr style=\"text-align: right;\">\n",
              "      <th></th>\n",
              "      <th>const</th>\n",
              "      <th>QtdaParcelas</th>\n",
              "      <th>Compr_Renda</th>\n",
              "    </tr>\n",
              "  </thead>\n",
              "  <tbody>\n",
              "    <tr>\n",
              "      <th>0</th>\n",
              "      <td>1.0</td>\n",
              "      <td>19</td>\n",
              "      <td>11.666667</td>\n",
              "    </tr>\n",
              "    <tr>\n",
              "      <th>1</th>\n",
              "      <td>1.0</td>\n",
              "      <td>33</td>\n",
              "      <td>23.631841</td>\n",
              "    </tr>\n",
              "    <tr>\n",
              "      <th>2</th>\n",
              "      <td>1.0</td>\n",
              "      <td>20</td>\n",
              "      <td>32.634033</td>\n",
              "    </tr>\n",
              "    <tr>\n",
              "      <th>3</th>\n",
              "      <td>1.0</td>\n",
              "      <td>21</td>\n",
              "      <td>33.561644</td>\n",
              "    </tr>\n",
              "    <tr>\n",
              "      <th>4</th>\n",
              "      <td>1.0</td>\n",
              "      <td>18</td>\n",
              "      <td>14.000000</td>\n",
              "    </tr>\n",
              "  </tbody>\n",
              "</table>\n",
              "</div>"
            ],
            "text/plain": [
              "   const  QtdaParcelas  Compr_Renda\n",
              "0    1.0            19    11.666667\n",
              "1    1.0            33    23.631841\n",
              "2    1.0            20    32.634033\n",
              "3    1.0            21    33.561644\n",
              "4    1.0            18    14.000000"
            ]
          },
          "metadata": {
            "tags": []
          },
          "execution_count": 37
        }
      ]
    },
    {
      "cell_type": "code",
      "metadata": {
        "id": "4AsZ5r3QsyWm",
        "outputId": "37aea76b-8bc2-4355-9042-1ba8c009fed0",
        "colab": {
          "base_uri": "https://localhost:8080/",
          "height": 119
        }
      },
      "source": [
        "y = consolidado['default1']\n",
        "y.head()"
      ],
      "execution_count": 38,
      "outputs": [
        {
          "output_type": "execute_result",
          "data": {
            "text/plain": [
              "0    0\n",
              "1    0\n",
              "2    0\n",
              "3    0\n",
              "4    0\n",
              "Name: default1, dtype: int64"
            ]
          },
          "metadata": {
            "tags": []
          },
          "execution_count": 38
        }
      ]
    },
    {
      "cell_type": "code",
      "metadata": {
        "id": "o6ORd_tms3nn"
      },
      "source": [
        "logistico = sm.Logit(y,x)"
      ],
      "execution_count": 39,
      "outputs": []
    },
    {
      "cell_type": "code",
      "metadata": {
        "id": "Ss6YmU6ys6fN",
        "outputId": "496d2bb2-8f94-4c74-f005-ac11c4ad710a",
        "colab": {
          "base_uri": "https://localhost:8080/",
          "height": 68
        }
      },
      "source": [
        "ajuste = logistico.fit()"
      ],
      "execution_count": 40,
      "outputs": [
        {
          "output_type": "stream",
          "text": [
            "Optimization terminated successfully.\n",
            "         Current function value: 0.563180\n",
            "         Iterations 5\n"
          ],
          "name": "stdout"
        }
      ]
    },
    {
      "cell_type": "code",
      "metadata": {
        "id": "Xp-OSfsSs81X",
        "outputId": "9e0d052a-aa5f-413e-e219-4b5c0aa2bd7c",
        "colab": {
          "base_uri": "https://localhost:8080/",
          "height": 269
        }
      },
      "source": [
        "ajuste.summary()"
      ],
      "execution_count": 43,
      "outputs": [
        {
          "output_type": "execute_result",
          "data": {
            "text/html": [
              "<table class=\"simpletable\">\n",
              "<caption>Logit Regression Results</caption>\n",
              "<tr>\n",
              "  <th>Dep. Variable:</th>       <td>default1</td>     <th>  No. Observations:  </th>  <td>   946</td>  \n",
              "</tr>\n",
              "<tr>\n",
              "  <th>Model:</th>                 <td>Logit</td>      <th>  Df Residuals:      </th>  <td>   943</td>  \n",
              "</tr>\n",
              "<tr>\n",
              "  <th>Method:</th>                 <td>MLE</td>       <th>  Df Model:          </th>  <td>     2</td>  \n",
              "</tr>\n",
              "<tr>\n",
              "  <th>Date:</th>            <td>Tue, 27 Oct 2020</td> <th>  Pseudo R-squ.:     </th>  <td>0.04224</td> \n",
              "</tr>\n",
              "<tr>\n",
              "  <th>Time:</th>                <td>13:25:40</td>     <th>  Log-Likelihood:    </th> <td> -532.77</td> \n",
              "</tr>\n",
              "<tr>\n",
              "  <th>converged:</th>             <td>True</td>       <th>  LL-Null:           </th> <td> -556.26</td> \n",
              "</tr>\n",
              "<tr>\n",
              "  <th>Covariance Type:</th>     <td>nonrobust</td>    <th>  LLR p-value:       </th> <td>6.260e-11</td>\n",
              "</tr>\n",
              "</table>\n",
              "<table class=\"simpletable\">\n",
              "<tr>\n",
              "        <td></td>          <th>coef</th>     <th>std err</th>      <th>z</th>      <th>P>|z|</th>  <th>[0.025</th>    <th>0.975]</th>  \n",
              "</tr>\n",
              "<tr>\n",
              "  <th>const</th>        <td>    2.6507</td> <td>    0.374</td> <td>    7.086</td> <td> 0.000</td> <td>    1.918</td> <td>    3.384</td>\n",
              "</tr>\n",
              "<tr>\n",
              "  <th>QtdaParcelas</th> <td>   -0.1178</td> <td>    0.018</td> <td>   -6.406</td> <td> 0.000</td> <td>   -0.154</td> <td>   -0.082</td>\n",
              "</tr>\n",
              "<tr>\n",
              "  <th>Compr_Renda</th>  <td>    0.0378</td> <td>    0.008</td> <td>    4.764</td> <td> 0.000</td> <td>    0.022</td> <td>    0.053</td>\n",
              "</tr>\n",
              "</table>"
            ],
            "text/plain": [
              "<class 'statsmodels.iolib.summary.Summary'>\n",
              "\"\"\"\n",
              "                           Logit Regression Results                           \n",
              "==============================================================================\n",
              "Dep. Variable:               default1   No. Observations:                  946\n",
              "Model:                          Logit   Df Residuals:                      943\n",
              "Method:                           MLE   Df Model:                            2\n",
              "Date:                Tue, 27 Oct 2020   Pseudo R-squ.:                 0.04224\n",
              "Time:                        13:25:40   Log-Likelihood:                -532.77\n",
              "converged:                       True   LL-Null:                       -556.26\n",
              "Covariance Type:            nonrobust   LLR p-value:                 6.260e-11\n",
              "================================================================================\n",
              "                   coef    std err          z      P>|z|      [0.025      0.975]\n",
              "--------------------------------------------------------------------------------\n",
              "const            2.6507      0.374      7.086      0.000       1.918       3.384\n",
              "QtdaParcelas    -0.1178      0.018     -6.406      0.000      -0.154      -0.082\n",
              "Compr_Renda      0.0378      0.008      4.764      0.000       0.022       0.053\n",
              "================================================================================\n",
              "\"\"\""
            ]
          },
          "metadata": {
            "tags": []
          },
          "execution_count": 43
        }
      ]
    },
    {
      "cell_type": "code",
      "metadata": {
        "id": "Q4C_vmV8PHmN"
      },
      "source": [
        "prob = logistico.predict(ajuste.params)"
      ],
      "execution_count": 44,
      "outputs": []
    },
    {
      "cell_type": "code",
      "metadata": {
        "id": "vh3JHGMIPMda",
        "outputId": "76f7a04f-c864-4ebb-d967-cd9f38e8d349",
        "colab": {
          "base_uri": "https://localhost:8080/",
          "height": 1000
        }
      },
      "source": [
        "prob"
      ],
      "execution_count": 45,
      "outputs": [
        {
          "output_type": "execute_result",
          "data": {
            "text/plain": [
              "array([0.70149413, 0.4153725 , 0.82191136, 0.80948462, 0.74276528,\n",
              "       0.7395227 , 0.70447755, 0.84237494, 0.64820772, 0.73546572,\n",
              "       0.77610041, 0.78586113, 0.75196352, 0.56192716, 0.80274653,\n",
              "       0.75303696, 0.7884913 , 0.50641691, 0.71529203, 0.68243169,\n",
              "       0.49310822, 0.70811139, 0.59780142, 0.82337319, 0.7808946 ,\n",
              "       0.63338839, 0.73525396, 0.60221185, 0.46105635, 0.7973543 ,\n",
              "       0.78093402, 0.52788307, 0.40900933, 0.51659159, 0.52846016,\n",
              "       0.61297015, 0.78198978, 0.64814845, 0.53487176, 0.73866225,\n",
              "       0.7953965 , 0.75576828, 0.77752559, 0.75543892, 0.78678707,\n",
              "       0.83156697, 0.57296259, 0.77398339, 0.67636804, 0.63303609,\n",
              "       0.70660403, 0.64939709, 0.61178182, 0.66878963, 0.79322821,\n",
              "       0.82565193, 0.73057188, 0.65060096, 0.77539989, 0.79848296,\n",
              "       0.83870387, 0.6402313 , 0.59916239, 0.512738  , 0.76133059,\n",
              "       0.65347305, 0.62596491, 0.54297719, 0.68212967, 0.68316862,\n",
              "       0.60179368, 0.44026364, 0.74934479, 0.80077422, 0.83798   ,\n",
              "       0.79337444, 0.71205244, 0.67426052, 0.74193683, 0.63159658,\n",
              "       0.7786897 , 0.64413077, 0.70008819, 0.79446392, 0.75308079,\n",
              "       0.79569292, 0.81067176, 0.58955098, 0.28995411, 0.8649497 ,\n",
              "       0.80289962, 0.79177257, 0.79933949, 0.74107001, 0.81898262,\n",
              "       0.61862061, 0.54744431, 0.77753891, 0.82542242, 0.40741699,\n",
              "       0.58623041, 0.7395153 , 0.53791968, 0.74097174, 0.75616079,\n",
              "       0.51732957, 0.66669692, 0.80942786, 0.78806441, 0.81956457,\n",
              "       0.56451933, 0.78678707, 0.48377573, 0.47999964, 0.74776938,\n",
              "       0.64021926, 0.83064712, 0.62812012, 0.73487918, 0.79029525,\n",
              "       0.84644818, 0.6561089 , 0.73346903, 0.69322142, 0.71339343,\n",
              "       0.66559367, 0.50883681, 0.84458983, 0.57113843, 0.16172702,\n",
              "       0.62942126, 0.65506943, 0.5776847 , 0.62315778, 0.72452367,\n",
              "       0.74660901, 0.50523766, 0.70105074, 0.80289962, 0.80551365,\n",
              "       0.51839229, 0.78507464, 0.74264986, 0.88474601, 0.72026443,\n",
              "       0.71048471, 0.7941785 , 0.73510711, 0.76577864, 0.7894038 ,\n",
              "       0.61983715, 0.77398339, 0.79493893, 0.77540718, 0.6738128 ,\n",
              "       0.81628112, 0.78454636, 0.75196352, 0.71043854, 0.66742707,\n",
              "       0.74575727, 0.606319  , 0.75988328, 0.79269256, 0.77666803,\n",
              "       0.81817032, 0.8466828 , 0.58005616, 0.64768664, 0.83643611,\n",
              "       0.74690408, 0.76533697, 0.57032133, 0.81840776, 0.75058003,\n",
              "       0.55724284, 0.74677891, 0.8770003 , 0.75951372, 0.83007113,\n",
              "       0.6989644 , 0.84940738, 0.61407357, 0.81441557, 0.63608733,\n",
              "       0.81699606, 0.61309816, 0.78598262, 0.72105713, 0.6679712 ,\n",
              "       0.83706426, 0.80856276, 0.75169641, 0.76875835, 0.61926119,\n",
              "       0.81782792, 0.57673263, 0.74370859, 0.58717228, 0.6654463 ,\n",
              "       0.75490014, 0.65169962, 0.75634248, 0.74911738, 0.55042934,\n",
              "       0.76101782, 0.7915449 , 0.73546572, 0.80666046, 0.79962891,\n",
              "       0.77025067, 0.69384837, 0.65320256, 0.8310171 , 0.86061979,\n",
              "       0.69083024, 0.74269314, 0.6961079 , 0.81315767, 0.76533697,\n",
              "       0.79177257, 0.69610581, 0.69753773, 0.89182883, 0.79117031,\n",
              "       0.80749817, 0.68164836, 0.83999313, 0.84639443, 0.70730093,\n",
              "       0.68659085, 0.74157509, 0.7481195 , 0.74910783, 0.51194256,\n",
              "       0.7789709 , 0.75175069, 0.84299659, 0.66567259, 0.79295306,\n",
              "       0.84440664, 0.76856028, 0.79911179, 0.74252821, 0.69197716,\n",
              "       0.7502509 , 0.80856276, 0.80814993, 0.63251486, 0.78665385,\n",
              "       0.75746958, 0.83157956, 0.83771484, 0.66464507, 0.74761315,\n",
              "       0.60678619, 0.65179347, 0.82317954, 0.80063714, 0.82320608,\n",
              "       0.81573989, 0.73200834, 0.71886763, 0.85525214, 0.80636144,\n",
              "       0.71174393, 0.80840912, 0.81452273, 0.77002075, 0.70296297,\n",
              "       0.7771712 , 0.70832499, 0.79001738, 0.64830333, 0.73057188,\n",
              "       0.54933289, 0.4885588 , 0.86251261, 0.76621495, 0.79654704,\n",
              "       0.67810257, 0.83142689, 0.59605815, 0.41535546, 0.73238728,\n",
              "       0.77039167, 0.66742793, 0.77383901, 0.52955295, 0.6921019 ,\n",
              "       0.63761915, 0.84761241, 0.69690058, 0.84500425, 0.77036958,\n",
              "       0.81557424, 0.79662466, 0.71577585, 0.6385088 , 0.73510711,\n",
              "       0.69693202, 0.80551365, 0.52092254, 0.80024142, 0.68623919,\n",
              "       0.81078442, 0.59107821, 0.74320091, 0.7749374 , 0.63000817,\n",
              "       0.80421188, 0.79039928, 0.77900421, 0.77826648, 0.75806024,\n",
              "       0.69610581, 0.72491356, 0.7521832 , 0.712023  , 0.7990371 ,\n",
              "       0.74867451, 0.81332721, 0.82215234, 0.69872914, 0.86655487,\n",
              "       0.79201597, 0.8058325 , 0.68498239, 0.65077354, 0.70041137,\n",
              "       0.6632847 , 0.81545169, 0.68216819, 0.79866493, 0.69392452,\n",
              "       0.78658137, 0.75182534, 0.83405537, 0.78387198, 0.84331323,\n",
              "       0.61175267, 0.82762406, 0.48037722, 0.7382492 , 0.75745185,\n",
              "       0.85927866, 0.72260781, 0.79060247, 0.72872464, 0.77666338,\n",
              "       0.76383136, 0.76142388, 0.64939689, 0.79736714, 0.74045722,\n",
              "       0.76096768, 0.78155613, 0.81470907, 0.79656564, 0.8155869 ,\n",
              "       0.70170575, 0.86493462, 0.72235986, 0.83884763, 0.81355593,\n",
              "       0.79654704, 0.84002877, 0.79844494, 0.78745288, 0.62926067,\n",
              "       0.59168454, 0.84617876, 0.81332721, 0.74082068, 0.68413059,\n",
              "       0.76533697, 0.82291427, 0.85901545, 0.83785665, 0.84094555,\n",
              "       0.80427697, 0.80190848, 0.62990827, 0.77540718, 0.59087832,\n",
              "       0.82931738, 0.60121848, 0.76374895, 0.57430765, 0.84634782,\n",
              "       0.76621495, 0.72228453, 0.7509101 , 0.80563123, 0.78346583,\n",
              "       0.84912214, 0.74802684, 0.76141196, 0.78168227, 0.85555506,\n",
              "       0.726818  , 0.86955709, 0.79756419, 0.82843275, 0.83089017,\n",
              "       0.51668239, 0.65710089, 0.58493328, 0.66967425, 0.78253661,\n",
              "       0.81701593, 0.81995174, 0.61474068, 0.81234811, 0.67747474,\n",
              "       0.74007372, 0.71360466, 0.69897559, 0.75454234, 0.66232187,\n",
              "       0.66432643, 0.79238316, 0.82430951, 0.66517862, 0.79375079,\n",
              "       0.78990839, 0.78646566, 0.72536114, 0.65975265, 0.66709113,\n",
              "       0.71293302, 0.68623919, 0.74736876, 0.75424571, 0.76312052,\n",
              "       0.7749374 , 0.65721211, 0.73322237, 0.84634782, 0.77177736,\n",
              "       0.76614017, 0.78495834, 0.84503186, 0.73639406, 0.38107439,\n",
              "       0.6579518 , 0.88336278, 0.59317379, 0.74228058, 0.68916041,\n",
              "       0.77109213, 0.73030102, 0.76968698, 0.55041468, 0.77714926,\n",
              "       0.71175046, 0.73349207, 0.81083045, 0.74252821, 0.75497242,\n",
              "       0.67862786, 0.7955518 , 0.68183638, 0.53284623, 0.81573989,\n",
              "       0.67124572, 0.75884808, 0.73487918, 0.78646566, 0.77388668,\n",
              "       0.65378898, 0.81355593, 0.76776528, 0.70149413, 0.4153725 ,\n",
              "       0.82191136, 0.80948462, 0.74276528, 0.7395227 , 0.70447755,\n",
              "       0.84237494, 0.64820772, 0.73546572, 0.77610041, 0.78586113,\n",
              "       0.75196352, 0.56192716, 0.80274653, 0.75303696, 0.7884913 ,\n",
              "       0.50641691, 0.71529203, 0.68243169, 0.49310822, 0.70811139,\n",
              "       0.59780142, 0.82337319, 0.7808946 , 0.63338839, 0.73525396,\n",
              "       0.60221185, 0.46105635, 0.7973543 , 0.78093402, 0.52788307,\n",
              "       0.40900933, 0.51659159, 0.52846016, 0.61297015, 0.78198978,\n",
              "       0.64814845, 0.53487176, 0.73866225, 0.7953965 , 0.75576828,\n",
              "       0.77752559, 0.75543892, 0.78678707, 0.83156697, 0.57296259,\n",
              "       0.77398339, 0.67636804, 0.63303609, 0.70660403, 0.64939709,\n",
              "       0.61178182, 0.66878963, 0.79322821, 0.82565193, 0.73057188,\n",
              "       0.65060096, 0.77539989, 0.79848296, 0.83870387, 0.6402313 ,\n",
              "       0.59916239, 0.512738  , 0.76133059, 0.65347305, 0.62596491,\n",
              "       0.54297719, 0.68212967, 0.68316862, 0.60179368, 0.44026364,\n",
              "       0.74934479, 0.80077422, 0.83798   , 0.79337444, 0.71205244,\n",
              "       0.67426052, 0.74193683, 0.63159658, 0.7786897 , 0.64413077,\n",
              "       0.70008819, 0.79446392, 0.75308079, 0.79569292, 0.81067176,\n",
              "       0.58955098, 0.28995411, 0.8649497 , 0.80289962, 0.79177257,\n",
              "       0.79933949, 0.74107001, 0.81898262, 0.61862061, 0.54744431,\n",
              "       0.77753891, 0.82542242, 0.40741699, 0.58623041, 0.7395153 ,\n",
              "       0.53791968, 0.74097174, 0.75616079, 0.51732957, 0.66669692,\n",
              "       0.80942786, 0.78806441, 0.81956457, 0.56451933, 0.78678707,\n",
              "       0.48377573, 0.47999964, 0.74776938, 0.64021926, 0.83064712,\n",
              "       0.62812012, 0.73487918, 0.79029525, 0.84644818, 0.6561089 ,\n",
              "       0.73346903, 0.69322142, 0.71339343, 0.66559367, 0.50883681,\n",
              "       0.84458983, 0.57113843, 0.16172702, 0.62942126, 0.65506943,\n",
              "       0.5776847 , 0.62315778, 0.72452367, 0.74660901, 0.50523766,\n",
              "       0.70105074, 0.80289962, 0.80551365, 0.51839229, 0.78507464,\n",
              "       0.74264986, 0.88474601, 0.72026443, 0.71048471, 0.7941785 ,\n",
              "       0.73510711, 0.76577864, 0.7894038 , 0.61983715, 0.77398339,\n",
              "       0.79493893, 0.77540718, 0.6738128 , 0.81628112, 0.78454636,\n",
              "       0.75196352, 0.71043854, 0.66742707, 0.74575727, 0.606319  ,\n",
              "       0.75988328, 0.79269256, 0.77666803, 0.81817032, 0.8466828 ,\n",
              "       0.58005616, 0.64768664, 0.83643611, 0.74690408, 0.76533697,\n",
              "       0.57032133, 0.81840776, 0.75058003, 0.55724284, 0.74677891,\n",
              "       0.8770003 , 0.75951372, 0.83007113, 0.6989644 , 0.84940738,\n",
              "       0.61407357, 0.81441557, 0.63608733, 0.81699606, 0.61309816,\n",
              "       0.78598262, 0.72105713, 0.6679712 , 0.83706426, 0.80856276,\n",
              "       0.75169641, 0.76875835, 0.61926119, 0.81782792, 0.57673263,\n",
              "       0.74370859, 0.58717228, 0.6654463 , 0.75490014, 0.65169962,\n",
              "       0.75634248, 0.74911738, 0.55042934, 0.76101782, 0.7915449 ,\n",
              "       0.73546572, 0.80666046, 0.79962891, 0.77025067, 0.69384837,\n",
              "       0.65320256, 0.8310171 , 0.86061979, 0.69083024, 0.74269314,\n",
              "       0.6961079 , 0.81315767, 0.76533697, 0.79177257, 0.69610581,\n",
              "       0.69753773, 0.89182883, 0.79117031, 0.80749817, 0.68164836,\n",
              "       0.83999313, 0.84639443, 0.70730093, 0.68659085, 0.74157509,\n",
              "       0.7481195 , 0.74910783, 0.51194256, 0.7789709 , 0.75175069,\n",
              "       0.84299659, 0.66567259, 0.79295306, 0.84440664, 0.76856028,\n",
              "       0.79911179, 0.74252821, 0.69197716, 0.7502509 , 0.80856276,\n",
              "       0.80814993, 0.63251486, 0.78665385, 0.75746958, 0.83157956,\n",
              "       0.83771484, 0.66464507, 0.74761315, 0.60678619, 0.65179347,\n",
              "       0.82317954, 0.80063714, 0.82320608, 0.81573989, 0.73200834,\n",
              "       0.71886763, 0.85525214, 0.80636144, 0.71174393, 0.80840912,\n",
              "       0.81452273, 0.77002075, 0.70296297, 0.7771712 , 0.70832499,\n",
              "       0.79001738, 0.64830333, 0.73057188, 0.54933289, 0.4885588 ,\n",
              "       0.86251261, 0.76621495, 0.79654704, 0.67810257, 0.83142689,\n",
              "       0.59605815, 0.41535546, 0.73238728, 0.77039167, 0.66742793,\n",
              "       0.77383901, 0.52955295, 0.6921019 , 0.63761915, 0.84761241,\n",
              "       0.69690058, 0.84500425, 0.77036958, 0.81557424, 0.79662466,\n",
              "       0.71577585, 0.6385088 , 0.73510711, 0.69693202, 0.80551365,\n",
              "       0.52092254, 0.80024142, 0.68623919, 0.81078442, 0.59107821,\n",
              "       0.74320091, 0.7749374 , 0.63000817, 0.80421188, 0.79039928,\n",
              "       0.77900421, 0.77826648, 0.75806024, 0.69610581, 0.72491356,\n",
              "       0.7521832 , 0.712023  , 0.7990371 , 0.74867451, 0.81332721,\n",
              "       0.82215234, 0.69872914, 0.86655487, 0.79201597, 0.8058325 ,\n",
              "       0.68498239, 0.65077354, 0.70041137, 0.6632847 , 0.81545169,\n",
              "       0.68216819, 0.79866493, 0.69392452, 0.78658137, 0.75182534,\n",
              "       0.83405537, 0.78387198, 0.84331323, 0.61175267, 0.82762406,\n",
              "       0.48037722, 0.7382492 , 0.75745185, 0.85927866, 0.72260781,\n",
              "       0.79060247, 0.72872464, 0.77666338, 0.76383136, 0.76142388,\n",
              "       0.64939689, 0.79736714, 0.74045722, 0.76096768, 0.78155613,\n",
              "       0.81470907, 0.79656564, 0.8155869 , 0.70170575, 0.86493462,\n",
              "       0.72235986, 0.83884763, 0.81355593, 0.79654704, 0.84002877,\n",
              "       0.79844494, 0.78745288, 0.62926067, 0.59168454, 0.84617876,\n",
              "       0.81332721, 0.74082068, 0.68413059, 0.76533697, 0.82291427,\n",
              "       0.85901545, 0.83785665, 0.84094555, 0.80427697, 0.80190848,\n",
              "       0.62990827, 0.77540718, 0.59087832, 0.82931738, 0.60121848,\n",
              "       0.76374895, 0.57430765, 0.84634782, 0.76621495, 0.72228453,\n",
              "       0.7509101 , 0.80563123, 0.78346583, 0.84912214, 0.74802684,\n",
              "       0.76141196, 0.78168227, 0.85555506, 0.726818  , 0.86955709,\n",
              "       0.79756419, 0.82843275, 0.83089017, 0.51668239, 0.65710089,\n",
              "       0.58493328, 0.66967425, 0.78253661, 0.81701593, 0.81995174,\n",
              "       0.61474068, 0.81234811, 0.67747474, 0.74007372, 0.71360466,\n",
              "       0.69897559, 0.75454234, 0.66232187, 0.66432643, 0.79238316,\n",
              "       0.82430951, 0.66517862, 0.79375079, 0.78990839, 0.78646566,\n",
              "       0.72536114, 0.65975265, 0.66709113, 0.71293302, 0.68623919,\n",
              "       0.74736876, 0.75424571, 0.76312052, 0.7749374 , 0.65721211,\n",
              "       0.73322237, 0.84634782, 0.77177736, 0.76614017, 0.78495834,\n",
              "       0.84503186, 0.73639406, 0.38107439, 0.6579518 , 0.88336278,\n",
              "       0.59317379, 0.74228058, 0.68916041, 0.77109213, 0.73030102,\n",
              "       0.76968698, 0.55041468, 0.77714926, 0.71175046, 0.73349207,\n",
              "       0.81083045, 0.74252821, 0.75497242, 0.67862786, 0.7955518 ,\n",
              "       0.68183638, 0.53284623, 0.81573989, 0.67124572, 0.75884808,\n",
              "       0.73487918, 0.78646566, 0.77388668, 0.65378898, 0.81355593,\n",
              "       0.76776528])"
            ]
          },
          "metadata": {
            "tags": []
          },
          "execution_count": 45
        }
      ]
    },
    {
      "cell_type": "code",
      "metadata": {
        "id": "JTfmIcGROgLn"
      },
      "source": [
        "consolidado['prob'] = prob"
      ],
      "execution_count": 47,
      "outputs": []
    },
    {
      "cell_type": "code",
      "metadata": {
        "id": "P10Ive3gPeg-",
        "outputId": "471b1549-e8a2-4b2d-b1c3-79d2eb55b284",
        "colab": {
          "base_uri": "https://localhost:8080/",
          "height": 224
        }
      },
      "source": [
        "consolidado.head()"
      ],
      "execution_count": 49,
      "outputs": [
        {
          "output_type": "execute_result",
          "data": {
            "text/html": [
              "<div>\n",
              "<style scoped>\n",
              "    .dataframe tbody tr th:only-of-type {\n",
              "        vertical-align: middle;\n",
              "    }\n",
              "\n",
              "    .dataframe tbody tr th {\n",
              "        vertical-align: top;\n",
              "    }\n",
              "\n",
              "    .dataframe thead th {\n",
              "        text-align: right;\n",
              "    }\n",
              "</style>\n",
              "<table border=\"1\" class=\"dataframe\">\n",
              "  <thead>\n",
              "    <tr style=\"text-align: right;\">\n",
              "      <th></th>\n",
              "      <th>ID</th>\n",
              "      <th>DataNascimento</th>\n",
              "      <th>Sexo</th>\n",
              "      <th>TempodeServiço</th>\n",
              "      <th>EstadoCivil</th>\n",
              "      <th>NumerodeFilhos</th>\n",
              "      <th>TempodeResidencia</th>\n",
              "      <th>Conta</th>\n",
              "      <th>salario</th>\n",
              "      <th>Fx_Salarial</th>\n",
              "      <th>default</th>\n",
              "      <th>default1</th>\n",
              "      <th>QtdaParcelas</th>\n",
              "      <th>Atraso</th>\n",
              "      <th>ValorEmprestimo</th>\n",
              "      <th>QtdaPagas</th>\n",
              "      <th>_merge</th>\n",
              "      <th>Compr_Renda</th>\n",
              "      <th>prob</th>\n",
              "    </tr>\n",
              "  </thead>\n",
              "  <tbody>\n",
              "    <tr>\n",
              "      <th>0</th>\n",
              "      <td>1</td>\n",
              "      <td>1952-02-03</td>\n",
              "      <td>Masculino</td>\n",
              "      <td>98</td>\n",
              "      <td>3</td>\n",
              "      <td>0</td>\n",
              "      <td>7</td>\n",
              "      <td>Particular</td>\n",
              "      <td>5700.0</td>\n",
              "      <td>faixa3</td>\n",
              "      <td>Adimplente</td>\n",
              "      <td>0</td>\n",
              "      <td>19</td>\n",
              "      <td>Sim</td>\n",
              "      <td>665</td>\n",
              "      <td>6</td>\n",
              "      <td>both</td>\n",
              "      <td>11.666667</td>\n",
              "      <td>0.701494</td>\n",
              "    </tr>\n",
              "    <tr>\n",
              "      <th>1</th>\n",
              "      <td>2</td>\n",
              "      <td>1958-05-23</td>\n",
              "      <td>Masculino</td>\n",
              "      <td>98</td>\n",
              "      <td>3</td>\n",
              "      <td>0</td>\n",
              "      <td>43</td>\n",
              "      <td>Particular</td>\n",
              "      <td>4020.0</td>\n",
              "      <td>faixa2</td>\n",
              "      <td>Adimplente</td>\n",
              "      <td>0</td>\n",
              "      <td>33</td>\n",
              "      <td>Não</td>\n",
              "      <td>950</td>\n",
              "      <td>11</td>\n",
              "      <td>both</td>\n",
              "      <td>23.631841</td>\n",
              "      <td>0.415373</td>\n",
              "    </tr>\n",
              "    <tr>\n",
              "      <th>2</th>\n",
              "      <td>3</td>\n",
              "      <td>1929-07-26</td>\n",
              "      <td>Feminino</td>\n",
              "      <td>98</td>\n",
              "      <td>1</td>\n",
              "      <td>0</td>\n",
              "      <td>7</td>\n",
              "      <td>empresa</td>\n",
              "      <td>2145.0</td>\n",
              "      <td>faixa1</td>\n",
              "      <td>Adimplente</td>\n",
              "      <td>0</td>\n",
              "      <td>20</td>\n",
              "      <td>Não</td>\n",
              "      <td>700</td>\n",
              "      <td>6</td>\n",
              "      <td>both</td>\n",
              "      <td>32.634033</td>\n",
              "      <td>0.821911</td>\n",
              "    </tr>\n",
              "    <tr>\n",
              "      <th>3</th>\n",
              "      <td>4</td>\n",
              "      <td>1947-04-15</td>\n",
              "      <td>Feminino</td>\n",
              "      <td>98</td>\n",
              "      <td>1</td>\n",
              "      <td>0</td>\n",
              "      <td>13</td>\n",
              "      <td>empresa</td>\n",
              "      <td>2190.0</td>\n",
              "      <td>faixa1</td>\n",
              "      <td>Adimplente</td>\n",
              "      <td>0</td>\n",
              "      <td>21</td>\n",
              "      <td>Sim</td>\n",
              "      <td>735</td>\n",
              "      <td>7</td>\n",
              "      <td>both</td>\n",
              "      <td>33.561644</td>\n",
              "      <td>0.809485</td>\n",
              "    </tr>\n",
              "    <tr>\n",
              "      <th>4</th>\n",
              "      <td>5</td>\n",
              "      <td>1955-02-09</td>\n",
              "      <td>Masculino</td>\n",
              "      <td>98</td>\n",
              "      <td>2</td>\n",
              "      <td>3</td>\n",
              "      <td>8</td>\n",
              "      <td>Particular</td>\n",
              "      <td>4500.0</td>\n",
              "      <td>faixa2</td>\n",
              "      <td>Adimplente</td>\n",
              "      <td>0</td>\n",
              "      <td>18</td>\n",
              "      <td>Sim</td>\n",
              "      <td>630</td>\n",
              "      <td>6</td>\n",
              "      <td>both</td>\n",
              "      <td>14.000000</td>\n",
              "      <td>0.742765</td>\n",
              "    </tr>\n",
              "  </tbody>\n",
              "</table>\n",
              "</div>"
            ],
            "text/plain": [
              "   ID DataNascimento       Sexo  ...  _merge  Compr_Renda      prob\n",
              "0   1     1952-02-03  Masculino  ...    both    11.666667  0.701494\n",
              "1   2     1958-05-23  Masculino  ...    both    23.631841  0.415373\n",
              "2   3     1929-07-26   Feminino  ...    both    32.634033  0.821911\n",
              "3   4     1947-04-15   Feminino  ...    both    33.561644  0.809485\n",
              "4   5     1955-02-09  Masculino  ...    both    14.000000  0.742765\n",
              "\n",
              "[5 rows x 19 columns]"
            ]
          },
          "metadata": {
            "tags": []
          },
          "execution_count": 49
        }
      ]
    },
    {
      "cell_type": "code",
      "metadata": {
        "id": "r9WB3J5GPkcb"
      },
      "source": [
        "lista_temp = []\n",
        "for i in range(len(consolidado)):\n",
        "  if consolidado ['prob'][i] >= 0.5:\n",
        "    lista_temp.append(1)\n",
        "  else:\n",
        "    lista_temp.append(0)"
      ],
      "execution_count": 52,
      "outputs": []
    },
    {
      "cell_type": "code",
      "metadata": {
        "id": "oUUK_LrwQFse"
      },
      "source": [
        "consolidado['classificacao'] = lista_temp"
      ],
      "execution_count": 53,
      "outputs": []
    },
    {
      "cell_type": "code",
      "metadata": {
        "id": "KB7N5Zw2QbWy",
        "outputId": "ac71b50c-918b-4ea2-dd44-6c69b11273bc",
        "colab": {
          "base_uri": "https://localhost:8080/",
          "height": 224
        }
      },
      "source": [
        "consolidado.head()"
      ],
      "execution_count": 55,
      "outputs": [
        {
          "output_type": "execute_result",
          "data": {
            "text/html": [
              "<div>\n",
              "<style scoped>\n",
              "    .dataframe tbody tr th:only-of-type {\n",
              "        vertical-align: middle;\n",
              "    }\n",
              "\n",
              "    .dataframe tbody tr th {\n",
              "        vertical-align: top;\n",
              "    }\n",
              "\n",
              "    .dataframe thead th {\n",
              "        text-align: right;\n",
              "    }\n",
              "</style>\n",
              "<table border=\"1\" class=\"dataframe\">\n",
              "  <thead>\n",
              "    <tr style=\"text-align: right;\">\n",
              "      <th></th>\n",
              "      <th>ID</th>\n",
              "      <th>DataNascimento</th>\n",
              "      <th>Sexo</th>\n",
              "      <th>TempodeServiço</th>\n",
              "      <th>EstadoCivil</th>\n",
              "      <th>NumerodeFilhos</th>\n",
              "      <th>TempodeResidencia</th>\n",
              "      <th>Conta</th>\n",
              "      <th>salario</th>\n",
              "      <th>Fx_Salarial</th>\n",
              "      <th>default</th>\n",
              "      <th>default1</th>\n",
              "      <th>QtdaParcelas</th>\n",
              "      <th>Atraso</th>\n",
              "      <th>ValorEmprestimo</th>\n",
              "      <th>QtdaPagas</th>\n",
              "      <th>_merge</th>\n",
              "      <th>Compr_Renda</th>\n",
              "      <th>prob</th>\n",
              "      <th>classificacao</th>\n",
              "    </tr>\n",
              "  </thead>\n",
              "  <tbody>\n",
              "    <tr>\n",
              "      <th>0</th>\n",
              "      <td>1</td>\n",
              "      <td>1952-02-03</td>\n",
              "      <td>Masculino</td>\n",
              "      <td>98</td>\n",
              "      <td>3</td>\n",
              "      <td>0</td>\n",
              "      <td>7</td>\n",
              "      <td>Particular</td>\n",
              "      <td>5700.0</td>\n",
              "      <td>faixa3</td>\n",
              "      <td>Adimplente</td>\n",
              "      <td>0</td>\n",
              "      <td>19</td>\n",
              "      <td>Sim</td>\n",
              "      <td>665</td>\n",
              "      <td>6</td>\n",
              "      <td>both</td>\n",
              "      <td>11.666667</td>\n",
              "      <td>0.701494</td>\n",
              "      <td>1</td>\n",
              "    </tr>\n",
              "    <tr>\n",
              "      <th>1</th>\n",
              "      <td>2</td>\n",
              "      <td>1958-05-23</td>\n",
              "      <td>Masculino</td>\n",
              "      <td>98</td>\n",
              "      <td>3</td>\n",
              "      <td>0</td>\n",
              "      <td>43</td>\n",
              "      <td>Particular</td>\n",
              "      <td>4020.0</td>\n",
              "      <td>faixa2</td>\n",
              "      <td>Adimplente</td>\n",
              "      <td>0</td>\n",
              "      <td>33</td>\n",
              "      <td>Não</td>\n",
              "      <td>950</td>\n",
              "      <td>11</td>\n",
              "      <td>both</td>\n",
              "      <td>23.631841</td>\n",
              "      <td>0.415373</td>\n",
              "      <td>0</td>\n",
              "    </tr>\n",
              "    <tr>\n",
              "      <th>2</th>\n",
              "      <td>3</td>\n",
              "      <td>1929-07-26</td>\n",
              "      <td>Feminino</td>\n",
              "      <td>98</td>\n",
              "      <td>1</td>\n",
              "      <td>0</td>\n",
              "      <td>7</td>\n",
              "      <td>empresa</td>\n",
              "      <td>2145.0</td>\n",
              "      <td>faixa1</td>\n",
              "      <td>Adimplente</td>\n",
              "      <td>0</td>\n",
              "      <td>20</td>\n",
              "      <td>Não</td>\n",
              "      <td>700</td>\n",
              "      <td>6</td>\n",
              "      <td>both</td>\n",
              "      <td>32.634033</td>\n",
              "      <td>0.821911</td>\n",
              "      <td>1</td>\n",
              "    </tr>\n",
              "    <tr>\n",
              "      <th>3</th>\n",
              "      <td>4</td>\n",
              "      <td>1947-04-15</td>\n",
              "      <td>Feminino</td>\n",
              "      <td>98</td>\n",
              "      <td>1</td>\n",
              "      <td>0</td>\n",
              "      <td>13</td>\n",
              "      <td>empresa</td>\n",
              "      <td>2190.0</td>\n",
              "      <td>faixa1</td>\n",
              "      <td>Adimplente</td>\n",
              "      <td>0</td>\n",
              "      <td>21</td>\n",
              "      <td>Sim</td>\n",
              "      <td>735</td>\n",
              "      <td>7</td>\n",
              "      <td>both</td>\n",
              "      <td>33.561644</td>\n",
              "      <td>0.809485</td>\n",
              "      <td>1</td>\n",
              "    </tr>\n",
              "    <tr>\n",
              "      <th>4</th>\n",
              "      <td>5</td>\n",
              "      <td>1955-02-09</td>\n",
              "      <td>Masculino</td>\n",
              "      <td>98</td>\n",
              "      <td>2</td>\n",
              "      <td>3</td>\n",
              "      <td>8</td>\n",
              "      <td>Particular</td>\n",
              "      <td>4500.0</td>\n",
              "      <td>faixa2</td>\n",
              "      <td>Adimplente</td>\n",
              "      <td>0</td>\n",
              "      <td>18</td>\n",
              "      <td>Sim</td>\n",
              "      <td>630</td>\n",
              "      <td>6</td>\n",
              "      <td>both</td>\n",
              "      <td>14.000000</td>\n",
              "      <td>0.742765</td>\n",
              "      <td>1</td>\n",
              "    </tr>\n",
              "  </tbody>\n",
              "</table>\n",
              "</div>"
            ],
            "text/plain": [
              "   ID DataNascimento       Sexo  ...  Compr_Renda      prob  classificacao\n",
              "0   1     1952-02-03  Masculino  ...    11.666667  0.701494              1\n",
              "1   2     1958-05-23  Masculino  ...    23.631841  0.415373              0\n",
              "2   3     1929-07-26   Feminino  ...    32.634033  0.821911              1\n",
              "3   4     1947-04-15   Feminino  ...    33.561644  0.809485              1\n",
              "4   5     1955-02-09  Masculino  ...    14.000000  0.742765              1\n",
              "\n",
              "[5 rows x 20 columns]"
            ]
          },
          "metadata": {
            "tags": []
          },
          "execution_count": 55
        }
      ]
    },
    {
      "cell_type": "code",
      "metadata": {
        "id": "VTxmxsgUQfq2",
        "outputId": "db6b26a8-2e05-43a3-f3ce-7975a2dcc00d",
        "colab": {
          "base_uri": "https://localhost:8080/",
          "height": 142
        }
      },
      "source": [
        "pd.crosstab(consolidado.default1, consolidado.classificacao)"
      ],
      "execution_count": 57,
      "outputs": [
        {
          "output_type": "execute_result",
          "data": {
            "text/html": [
              "<div>\n",
              "<style scoped>\n",
              "    .dataframe tbody tr th:only-of-type {\n",
              "        vertical-align: middle;\n",
              "    }\n",
              "\n",
              "    .dataframe tbody tr th {\n",
              "        vertical-align: top;\n",
              "    }\n",
              "\n",
              "    .dataframe thead th {\n",
              "        text-align: right;\n",
              "    }\n",
              "</style>\n",
              "<table border=\"1\" class=\"dataframe\">\n",
              "  <thead>\n",
              "    <tr style=\"text-align: right;\">\n",
              "      <th>classificacao</th>\n",
              "      <th>0</th>\n",
              "      <th>1</th>\n",
              "    </tr>\n",
              "    <tr>\n",
              "      <th>default1</th>\n",
              "      <th></th>\n",
              "      <th></th>\n",
              "    </tr>\n",
              "  </thead>\n",
              "  <tbody>\n",
              "    <tr>\n",
              "      <th>0</th>\n",
              "      <td>20</td>\n",
              "      <td>240</td>\n",
              "    </tr>\n",
              "    <tr>\n",
              "      <th>1</th>\n",
              "      <td>8</td>\n",
              "      <td>678</td>\n",
              "    </tr>\n",
              "  </tbody>\n",
              "</table>\n",
              "</div>"
            ],
            "text/plain": [
              "classificacao   0    1\n",
              "default1              \n",
              "0              20  240\n",
              "1               8  678"
            ]
          },
          "metadata": {
            "tags": []
          },
          "execution_count": 57
        }
      ]
    },
    {
      "cell_type": "code",
      "metadata": {
        "id": "rob-0eJIQus0",
        "outputId": "7da6bc53-afad-4d01-922c-66f036df714d",
        "colab": {
          "base_uri": "https://localhost:8080/",
          "height": 34
        }
      },
      "source": [
        "(678+20) / (946)"
      ],
      "execution_count": 58,
      "outputs": [
        {
          "output_type": "execute_result",
          "data": {
            "text/plain": [
              "0.7378435517970402"
            ]
          },
          "metadata": {
            "tags": []
          },
          "execution_count": 58
        }
      ]
    }
  ]
}