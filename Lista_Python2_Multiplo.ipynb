{
  "nbformat": 4,
  "nbformat_minor": 0,
  "metadata": {
    "colab": {
      "name": "Lista_Python2_Multiplo.ipynb",
      "provenance": [],
      "collapsed_sections": [],
      "authorship_tag": "ABX9TyPqZtENHqpN45ImouXcjfm4",
      "include_colab_link": true
    },
    "kernelspec": {
      "name": "python3",
      "display_name": "Python 3"
    }
  },
  "cells": [
    {
      "cell_type": "markdown",
      "metadata": {
        "id": "view-in-github",
        "colab_type": "text"
      },
      "source": [
        "<a href=\"https://colab.research.google.com/github/wjunior83/statsmodels/blob/master/Lista_Python2_Multiplo.ipynb\" target=\"_parent\"><img src=\"https://colab.research.google.com/assets/colab-badge.svg\" alt=\"Open In Colab\"/></a>"
      ]
    },
    {
      "cell_type": "code",
      "metadata": {
        "id": "p6DJihuyr_Eg",
        "outputId": "d400a63f-1e36-4c22-c450-99bba050d405",
        "colab": {
          "base_uri": "https://localhost:8080/",
          "height": 71
        }
      },
      "source": [
        "import pandas as pd\n",
        "import matplotlib.pyplot as plt\n",
        "import statsmodels.api as sm"
      ],
      "execution_count": 1,
      "outputs": [
        {
          "output_type": "stream",
          "text": [
            "/usr/local/lib/python3.6/dist-packages/statsmodels/tools/_testing.py:19: FutureWarning: pandas.util.testing is deprecated. Use the functions in the public API at pandas.testing instead.\n",
            "  import pandas.util.testing as tm\n"
          ],
          "name": "stderr"
        }
      ]
    },
    {
      "cell_type": "code",
      "metadata": {
        "id": "AVl5apYDsPJB",
        "outputId": "1dee2f0e-0d7f-4bf7-a774-fb55be28545d",
        "colab": {
          "base_uri": "https://localhost:8080/",
          "height": 204
        }
      },
      "source": [
        "salario = pd.read_excel('/content/salario_python.xlsx')\n",
        "salario.head()"
      ],
      "execution_count": 2,
      "outputs": [
        {
          "output_type": "execute_result",
          "data": {
            "text/html": [
              "<div>\n",
              "<style scoped>\n",
              "    .dataframe tbody tr th:only-of-type {\n",
              "        vertical-align: middle;\n",
              "    }\n",
              "\n",
              "    .dataframe tbody tr th {\n",
              "        vertical-align: top;\n",
              "    }\n",
              "\n",
              "    .dataframe thead th {\n",
              "        text-align: right;\n",
              "    }\n",
              "</style>\n",
              "<table border=\"1\" class=\"dataframe\">\n",
              "  <thead>\n",
              "    <tr style=\"text-align: right;\">\n",
              "      <th></th>\n",
              "      <th>id</th>\n",
              "      <th>salbeg</th>\n",
              "      <th>time</th>\n",
              "      <th>age</th>\n",
              "      <th>edlevel</th>\n",
              "    </tr>\n",
              "  </thead>\n",
              "  <tbody>\n",
              "    <tr>\n",
              "      <th>0</th>\n",
              "      <td>628</td>\n",
              "      <td>8400</td>\n",
              "      <td>81</td>\n",
              "      <td>28.50</td>\n",
              "      <td>16</td>\n",
              "    </tr>\n",
              "    <tr>\n",
              "      <th>1</th>\n",
              "      <td>630</td>\n",
              "      <td>24000</td>\n",
              "      <td>73</td>\n",
              "      <td>40.33</td>\n",
              "      <td>16</td>\n",
              "    </tr>\n",
              "    <tr>\n",
              "      <th>2</th>\n",
              "      <td>632</td>\n",
              "      <td>10200</td>\n",
              "      <td>83</td>\n",
              "      <td>31.08</td>\n",
              "      <td>15</td>\n",
              "    </tr>\n",
              "    <tr>\n",
              "      <th>3</th>\n",
              "      <td>633</td>\n",
              "      <td>8700</td>\n",
              "      <td>93</td>\n",
              "      <td>31.17</td>\n",
              "      <td>16</td>\n",
              "    </tr>\n",
              "    <tr>\n",
              "      <th>4</th>\n",
              "      <td>635</td>\n",
              "      <td>17400</td>\n",
              "      <td>83</td>\n",
              "      <td>41.92</td>\n",
              "      <td>19</td>\n",
              "    </tr>\n",
              "  </tbody>\n",
              "</table>\n",
              "</div>"
            ],
            "text/plain": [
              "    id  salbeg  time    age  edlevel\n",
              "0  628    8400    81  28.50       16\n",
              "1  630   24000    73  40.33       16\n",
              "2  632   10200    83  31.08       15\n",
              "3  633    8700    93  31.17       16\n",
              "4  635   17400    83  41.92       19"
            ]
          },
          "metadata": {
            "tags": []
          },
          "execution_count": 2
        }
      ]
    },
    {
      "cell_type": "code",
      "metadata": {
        "id": "S3-wArOFvw72"
      },
      "source": [
        "salario = salario[['salbeg','time','age','edlevel']]"
      ],
      "execution_count": 3,
      "outputs": []
    },
    {
      "cell_type": "code",
      "metadata": {
        "id": "0ylsCHnHsXFl",
        "outputId": "74ab7eca-2e33-445e-8de1-abaf6b2fc79a",
        "colab": {
          "base_uri": "https://localhost:8080/",
          "height": 297
        }
      },
      "source": [
        "salario.describe()"
      ],
      "execution_count": 4,
      "outputs": [
        {
          "output_type": "execute_result",
          "data": {
            "text/html": [
              "<div>\n",
              "<style scoped>\n",
              "    .dataframe tbody tr th:only-of-type {\n",
              "        vertical-align: middle;\n",
              "    }\n",
              "\n",
              "    .dataframe tbody tr th {\n",
              "        vertical-align: top;\n",
              "    }\n",
              "\n",
              "    .dataframe thead th {\n",
              "        text-align: right;\n",
              "    }\n",
              "</style>\n",
              "<table border=\"1\" class=\"dataframe\">\n",
              "  <thead>\n",
              "    <tr style=\"text-align: right;\">\n",
              "      <th></th>\n",
              "      <th>salbeg</th>\n",
              "      <th>time</th>\n",
              "      <th>age</th>\n",
              "      <th>edlevel</th>\n",
              "    </tr>\n",
              "  </thead>\n",
              "  <tbody>\n",
              "    <tr>\n",
              "      <th>count</th>\n",
              "      <td>474.000000</td>\n",
              "      <td>474.000000</td>\n",
              "      <td>474.000000</td>\n",
              "      <td>474.000000</td>\n",
              "    </tr>\n",
              "    <tr>\n",
              "      <th>mean</th>\n",
              "      <td>6806.434599</td>\n",
              "      <td>81.109705</td>\n",
              "      <td>37.186139</td>\n",
              "      <td>13.491561</td>\n",
              "    </tr>\n",
              "    <tr>\n",
              "      <th>std</th>\n",
              "      <td>3148.255262</td>\n",
              "      <td>10.060945</td>\n",
              "      <td>11.787242</td>\n",
              "      <td>2.884846</td>\n",
              "    </tr>\n",
              "    <tr>\n",
              "      <th>min</th>\n",
              "      <td>3600.000000</td>\n",
              "      <td>63.000000</td>\n",
              "      <td>23.000000</td>\n",
              "      <td>8.000000</td>\n",
              "    </tr>\n",
              "    <tr>\n",
              "      <th>25%</th>\n",
              "      <td>4995.000000</td>\n",
              "      <td>72.000000</td>\n",
              "      <td>28.500000</td>\n",
              "      <td>12.000000</td>\n",
              "    </tr>\n",
              "    <tr>\n",
              "      <th>50%</th>\n",
              "      <td>6000.000000</td>\n",
              "      <td>81.000000</td>\n",
              "      <td>32.000000</td>\n",
              "      <td>12.000000</td>\n",
              "    </tr>\n",
              "    <tr>\n",
              "      <th>75%</th>\n",
              "      <td>6996.000000</td>\n",
              "      <td>90.000000</td>\n",
              "      <td>45.980000</td>\n",
              "      <td>15.000000</td>\n",
              "    </tr>\n",
              "    <tr>\n",
              "      <th>max</th>\n",
              "      <td>31992.000000</td>\n",
              "      <td>98.000000</td>\n",
              "      <td>64.500000</td>\n",
              "      <td>21.000000</td>\n",
              "    </tr>\n",
              "  </tbody>\n",
              "</table>\n",
              "</div>"
            ],
            "text/plain": [
              "             salbeg        time         age     edlevel\n",
              "count    474.000000  474.000000  474.000000  474.000000\n",
              "mean    6806.434599   81.109705   37.186139   13.491561\n",
              "std     3148.255262   10.060945   11.787242    2.884846\n",
              "min     3600.000000   63.000000   23.000000    8.000000\n",
              "25%     4995.000000   72.000000   28.500000   12.000000\n",
              "50%     6000.000000   81.000000   32.000000   12.000000\n",
              "75%     6996.000000   90.000000   45.980000   15.000000\n",
              "max    31992.000000   98.000000   64.500000   21.000000"
            ]
          },
          "metadata": {
            "tags": []
          },
          "execution_count": 4
        }
      ]
    },
    {
      "cell_type": "code",
      "metadata": {
        "id": "15ZNvui6uJcV",
        "outputId": "13a36471-7c54-4633-8b6e-e726ada903b2",
        "colab": {
          "base_uri": "https://localhost:8080/",
          "height": 173
        }
      },
      "source": [
        "#variável \"edlevel\" tem correlação de moderada para forte, pois é a que mais se aproxima de 1\n",
        "salario.corr()"
      ],
      "execution_count": 5,
      "outputs": [
        {
          "output_type": "execute_result",
          "data": {
            "text/html": [
              "<div>\n",
              "<style scoped>\n",
              "    .dataframe tbody tr th:only-of-type {\n",
              "        vertical-align: middle;\n",
              "    }\n",
              "\n",
              "    .dataframe tbody tr th {\n",
              "        vertical-align: top;\n",
              "    }\n",
              "\n",
              "    .dataframe thead th {\n",
              "        text-align: right;\n",
              "    }\n",
              "</style>\n",
              "<table border=\"1\" class=\"dataframe\">\n",
              "  <thead>\n",
              "    <tr style=\"text-align: right;\">\n",
              "      <th></th>\n",
              "      <th>salbeg</th>\n",
              "      <th>time</th>\n",
              "      <th>age</th>\n",
              "      <th>edlevel</th>\n",
              "    </tr>\n",
              "  </thead>\n",
              "  <tbody>\n",
              "    <tr>\n",
              "      <th>salbeg</th>\n",
              "      <td>1.000000</td>\n",
              "      <td>-0.019753</td>\n",
              "      <td>-0.011040</td>\n",
              "      <td>0.633196</td>\n",
              "    </tr>\n",
              "    <tr>\n",
              "      <th>time</th>\n",
              "      <td>-0.019753</td>\n",
              "      <td>1.000000</td>\n",
              "      <td>0.051630</td>\n",
              "      <td>0.047379</td>\n",
              "    </tr>\n",
              "    <tr>\n",
              "      <th>age</th>\n",
              "      <td>-0.011040</td>\n",
              "      <td>0.051630</td>\n",
              "      <td>1.000000</td>\n",
              "      <td>-0.280842</td>\n",
              "    </tr>\n",
              "    <tr>\n",
              "      <th>edlevel</th>\n",
              "      <td>0.633196</td>\n",
              "      <td>0.047379</td>\n",
              "      <td>-0.280842</td>\n",
              "      <td>1.000000</td>\n",
              "    </tr>\n",
              "  </tbody>\n",
              "</table>\n",
              "</div>"
            ],
            "text/plain": [
              "           salbeg      time       age   edlevel\n",
              "salbeg   1.000000 -0.019753 -0.011040  0.633196\n",
              "time    -0.019753  1.000000  0.051630  0.047379\n",
              "age     -0.011040  0.051630  1.000000 -0.280842\n",
              "edlevel  0.633196  0.047379 -0.280842  1.000000"
            ]
          },
          "metadata": {
            "tags": []
          },
          "execution_count": 5
        }
      ]
    },
    {
      "cell_type": "code",
      "metadata": {
        "id": "1watDWtzwJd3",
        "outputId": "d1d7fd7e-8bd7-4082-ebbe-39ad9976d33e",
        "colab": {
          "base_uri": "https://localhost:8080/",
          "height": 204
        }
      },
      "source": [
        "# modelo utilizando todas as variáveis\n",
        "x = salario[['time','age','edlevel']]\n",
        "x.head()"
      ],
      "execution_count": 7,
      "outputs": [
        {
          "output_type": "execute_result",
          "data": {
            "text/html": [
              "<div>\n",
              "<style scoped>\n",
              "    .dataframe tbody tr th:only-of-type {\n",
              "        vertical-align: middle;\n",
              "    }\n",
              "\n",
              "    .dataframe tbody tr th {\n",
              "        vertical-align: top;\n",
              "    }\n",
              "\n",
              "    .dataframe thead th {\n",
              "        text-align: right;\n",
              "    }\n",
              "</style>\n",
              "<table border=\"1\" class=\"dataframe\">\n",
              "  <thead>\n",
              "    <tr style=\"text-align: right;\">\n",
              "      <th></th>\n",
              "      <th>time</th>\n",
              "      <th>age</th>\n",
              "      <th>edlevel</th>\n",
              "    </tr>\n",
              "  </thead>\n",
              "  <tbody>\n",
              "    <tr>\n",
              "      <th>0</th>\n",
              "      <td>81</td>\n",
              "      <td>28.50</td>\n",
              "      <td>16</td>\n",
              "    </tr>\n",
              "    <tr>\n",
              "      <th>1</th>\n",
              "      <td>73</td>\n",
              "      <td>40.33</td>\n",
              "      <td>16</td>\n",
              "    </tr>\n",
              "    <tr>\n",
              "      <th>2</th>\n",
              "      <td>83</td>\n",
              "      <td>31.08</td>\n",
              "      <td>15</td>\n",
              "    </tr>\n",
              "    <tr>\n",
              "      <th>3</th>\n",
              "      <td>93</td>\n",
              "      <td>31.17</td>\n",
              "      <td>16</td>\n",
              "    </tr>\n",
              "    <tr>\n",
              "      <th>4</th>\n",
              "      <td>83</td>\n",
              "      <td>41.92</td>\n",
              "      <td>19</td>\n",
              "    </tr>\n",
              "  </tbody>\n",
              "</table>\n",
              "</div>"
            ],
            "text/plain": [
              "   time    age  edlevel\n",
              "0    81  28.50       16\n",
              "1    73  40.33       16\n",
              "2    83  31.08       15\n",
              "3    93  31.17       16\n",
              "4    83  41.92       19"
            ]
          },
          "metadata": {
            "tags": []
          },
          "execution_count": 7
        }
      ]
    },
    {
      "cell_type": "code",
      "metadata": {
        "id": "d48b4dpyw0gW",
        "outputId": "117b4fff-abb2-4d7e-8dc2-e40946eabe9a",
        "colab": {
          "base_uri": "https://localhost:8080/",
          "height": 204
        }
      },
      "source": [
        "x = sm.add_constant(x)\n",
        "x.head()"
      ],
      "execution_count": 8,
      "outputs": [
        {
          "output_type": "execute_result",
          "data": {
            "text/html": [
              "<div>\n",
              "<style scoped>\n",
              "    .dataframe tbody tr th:only-of-type {\n",
              "        vertical-align: middle;\n",
              "    }\n",
              "\n",
              "    .dataframe tbody tr th {\n",
              "        vertical-align: top;\n",
              "    }\n",
              "\n",
              "    .dataframe thead th {\n",
              "        text-align: right;\n",
              "    }\n",
              "</style>\n",
              "<table border=\"1\" class=\"dataframe\">\n",
              "  <thead>\n",
              "    <tr style=\"text-align: right;\">\n",
              "      <th></th>\n",
              "      <th>const</th>\n",
              "      <th>time</th>\n",
              "      <th>age</th>\n",
              "      <th>edlevel</th>\n",
              "    </tr>\n",
              "  </thead>\n",
              "  <tbody>\n",
              "    <tr>\n",
              "      <th>0</th>\n",
              "      <td>1.0</td>\n",
              "      <td>81</td>\n",
              "      <td>28.50</td>\n",
              "      <td>16</td>\n",
              "    </tr>\n",
              "    <tr>\n",
              "      <th>1</th>\n",
              "      <td>1.0</td>\n",
              "      <td>73</td>\n",
              "      <td>40.33</td>\n",
              "      <td>16</td>\n",
              "    </tr>\n",
              "    <tr>\n",
              "      <th>2</th>\n",
              "      <td>1.0</td>\n",
              "      <td>83</td>\n",
              "      <td>31.08</td>\n",
              "      <td>15</td>\n",
              "    </tr>\n",
              "    <tr>\n",
              "      <th>3</th>\n",
              "      <td>1.0</td>\n",
              "      <td>93</td>\n",
              "      <td>31.17</td>\n",
              "      <td>16</td>\n",
              "    </tr>\n",
              "    <tr>\n",
              "      <th>4</th>\n",
              "      <td>1.0</td>\n",
              "      <td>83</td>\n",
              "      <td>41.92</td>\n",
              "      <td>19</td>\n",
              "    </tr>\n",
              "  </tbody>\n",
              "</table>\n",
              "</div>"
            ],
            "text/plain": [
              "   const  time    age  edlevel\n",
              "0    1.0    81  28.50       16\n",
              "1    1.0    73  40.33       16\n",
              "2    1.0    83  31.08       15\n",
              "3    1.0    93  31.17       16\n",
              "4    1.0    83  41.92       19"
            ]
          },
          "metadata": {
            "tags": []
          },
          "execution_count": 8
        }
      ]
    },
    {
      "cell_type": "code",
      "metadata": {
        "id": "nHSOSbA-w4ZX",
        "outputId": "1fc1769d-e946-45a2-c46a-6c63c5004271",
        "colab": {
          "base_uri": "https://localhost:8080/",
          "height": 119
        }
      },
      "source": [
        "y = salario['salbeg']\n",
        "y.head()"
      ],
      "execution_count": 9,
      "outputs": [
        {
          "output_type": "execute_result",
          "data": {
            "text/plain": [
              "0     8400\n",
              "1    24000\n",
              "2    10200\n",
              "3     8700\n",
              "4    17400\n",
              "Name: salbeg, dtype: int64"
            ]
          },
          "metadata": {
            "tags": []
          },
          "execution_count": 9
        }
      ]
    },
    {
      "cell_type": "code",
      "metadata": {
        "id": "ZmuJLc7exNZa"
      },
      "source": [
        "modelo = sm.OLS(y,x)"
      ],
      "execution_count": 10,
      "outputs": []
    },
    {
      "cell_type": "code",
      "metadata": {
        "id": "1Eh-sNV6xSNN"
      },
      "source": [
        "ajuste = modelo.fit()"
      ],
      "execution_count": 11,
      "outputs": []
    },
    {
      "cell_type": "code",
      "metadata": {
        "id": "LhyhIjn7xXEp",
        "outputId": "6bb440d0-0129-41de-a4de-e442eea12cb1",
        "colab": {
          "base_uri": "https://localhost:8080/",
          "height": 486
        }
      },
      "source": [
        "ajuste.summary()"
      ],
      "execution_count": 12,
      "outputs": [
        {
          "output_type": "execute_result",
          "data": {
            "text/html": [
              "<table class=\"simpletable\">\n",
              "<caption>OLS Regression Results</caption>\n",
              "<tr>\n",
              "  <th>Dep. Variable:</th>         <td>salbeg</td>      <th>  R-squared:         </th> <td>   0.435</td>\n",
              "</tr>\n",
              "<tr>\n",
              "  <th>Model:</th>                   <td>OLS</td>       <th>  Adj. R-squared:    </th> <td>   0.431</td>\n",
              "</tr>\n",
              "<tr>\n",
              "  <th>Method:</th>             <td>Least Squares</td>  <th>  F-statistic:       </th> <td>   120.6</td>\n",
              "</tr>\n",
              "<tr>\n",
              "  <th>Date:</th>             <td>Wed, 28 Oct 2020</td> <th>  Prob (F-statistic):</th> <td>6.31e-58</td>\n",
              "</tr>\n",
              "<tr>\n",
              "  <th>Time:</th>                 <td>01:29:53</td>     <th>  Log-Likelihood:    </th> <td> -4354.7</td>\n",
              "</tr>\n",
              "<tr>\n",
              "  <th>No. Observations:</th>      <td>   474</td>      <th>  AIC:               </th> <td>   8717.</td>\n",
              "</tr>\n",
              "<tr>\n",
              "  <th>Df Residuals:</th>          <td>   470</td>      <th>  BIC:               </th> <td>   8734.</td>\n",
              "</tr>\n",
              "<tr>\n",
              "  <th>Df Model:</th>              <td>     3</td>      <th>                     </th>     <td> </td>   \n",
              "</tr>\n",
              "<tr>\n",
              "  <th>Covariance Type:</th>      <td>nonrobust</td>    <th>                     </th>     <td> </td>   \n",
              "</tr>\n",
              "</table>\n",
              "<table class=\"simpletable\">\n",
              "<tr>\n",
              "     <td></td>        <th>coef</th>     <th>std err</th>      <th>t</th>      <th>P>|t|</th>  <th>[0.025</th>    <th>0.975]</th>  \n",
              "</tr>\n",
              "<tr>\n",
              "  <th>const</th>   <td>-3596.1771</td> <td> 1100.100</td> <td>   -3.269</td> <td> 0.001</td> <td>-5757.901</td> <td>-1434.454</td>\n",
              "</tr>\n",
              "<tr>\n",
              "  <th>time</th>    <td>  -19.3803</td> <td>   10.887</td> <td>   -1.780</td> <td> 0.076</td> <td>  -40.774</td> <td>    2.013</td>\n",
              "</tr>\n",
              "<tr>\n",
              "  <th>age</th>     <td>   49.5278</td> <td>    9.671</td> <td>    5.121</td> <td> 0.000</td> <td>   30.523</td> <td>   68.532</td>\n",
              "</tr>\n",
              "<tr>\n",
              "  <th>edlevel</th> <td>  751.0466</td> <td>   39.508</td> <td>   19.010</td> <td> 0.000</td> <td>  673.411</td> <td>  828.682</td>\n",
              "</tr>\n",
              "</table>\n",
              "<table class=\"simpletable\">\n",
              "<tr>\n",
              "  <th>Omnibus:</th>       <td>330.952</td> <th>  Durbin-Watson:     </th> <td>   1.698</td>\n",
              "</tr>\n",
              "<tr>\n",
              "  <th>Prob(Omnibus):</th> <td> 0.000</td>  <th>  Jarque-Bera (JB):  </th> <td>6268.054</td>\n",
              "</tr>\n",
              "<tr>\n",
              "  <th>Skew:</th>          <td> 2.752</td>  <th>  Prob(JB):          </th> <td>    0.00</td>\n",
              "</tr>\n",
              "<tr>\n",
              "  <th>Kurtosis:</th>      <td>19.943</td>  <th>  Cond. No.          </th> <td>    917.</td>\n",
              "</tr>\n",
              "</table><br/><br/>Warnings:<br/>[1] Standard Errors assume that the covariance matrix of the errors is correctly specified."
            ],
            "text/plain": [
              "<class 'statsmodels.iolib.summary.Summary'>\n",
              "\"\"\"\n",
              "                            OLS Regression Results                            \n",
              "==============================================================================\n",
              "Dep. Variable:                 salbeg   R-squared:                       0.435\n",
              "Model:                            OLS   Adj. R-squared:                  0.431\n",
              "Method:                 Least Squares   F-statistic:                     120.6\n",
              "Date:                Wed, 28 Oct 2020   Prob (F-statistic):           6.31e-58\n",
              "Time:                        01:29:53   Log-Likelihood:                -4354.7\n",
              "No. Observations:                 474   AIC:                             8717.\n",
              "Df Residuals:                     470   BIC:                             8734.\n",
              "Df Model:                           3                                         \n",
              "Covariance Type:            nonrobust                                         \n",
              "==============================================================================\n",
              "                 coef    std err          t      P>|t|      [0.025      0.975]\n",
              "------------------------------------------------------------------------------\n",
              "const      -3596.1771   1100.100     -3.269      0.001   -5757.901   -1434.454\n",
              "time         -19.3803     10.887     -1.780      0.076     -40.774       2.013\n",
              "age           49.5278      9.671      5.121      0.000      30.523      68.532\n",
              "edlevel      751.0466     39.508     19.010      0.000     673.411     828.682\n",
              "==============================================================================\n",
              "Omnibus:                      330.952   Durbin-Watson:                   1.698\n",
              "Prob(Omnibus):                  0.000   Jarque-Bera (JB):             6268.054\n",
              "Skew:                           2.752   Prob(JB):                         0.00\n",
              "Kurtosis:                      19.943   Cond. No.                         917.\n",
              "==============================================================================\n",
              "\n",
              "Warnings:\n",
              "[1] Standard Errors assume that the covariance matrix of the errors is correctly specified.\n",
              "\"\"\""
            ]
          },
          "metadata": {
            "tags": []
          },
          "execution_count": 12
        }
      ]
    },
    {
      "cell_type": "code",
      "metadata": {
        "id": "PXb25pWL1jPj",
        "outputId": "0757aa37-9288-46be-e750-282c6d6db337",
        "colab": {
          "base_uri": "https://localhost:8080/",
          "height": 34
        }
      },
      "source": [
        "# y = a + b1*x1 + b2*x2 + b3*x3\n",
        "# previsao2 = a + b1 inclinacao * time + b2 inclinacao * age + b3 inclinacao * edlevel\n",
        "previsao2 = (-3596.1771) + (-19.3803) * 100 + 49.5278 * 40 + 751.0466 * 20\n",
        "previsao2"
      ],
      "execution_count": 19,
      "outputs": [
        {
          "output_type": "execute_result",
          "data": {
            "text/plain": [
              "11467.836900000002"
            ]
          },
          "metadata": {
            "tags": []
          },
          "execution_count": 19
        }
      ]
    },
    {
      "cell_type": "code",
      "metadata": {
        "id": "SpCCvt9Exld3",
        "outputId": "a80739c1-ac3d-43ed-e331-2f71937bec94",
        "colab": {
          "base_uri": "https://localhost:8080/",
          "height": 1000
        }
      },
      "source": [
        "previsao = modelo.predict(ajuste.params)\n",
        "previsao"
      ],
      "execution_count": 13,
      "outputs": [
        {
          "output_type": "execute_result",
          "data": {
            "text/plain": [
              "array([ 8262.30971476,  9003.26557933,  7600.28436311,  8161.98590875,\n",
              "       11141.35195256,  9833.31089565,  7525.25975473,  7794.96862901,\n",
              "        7167.06934524,  6545.11328224,  7700.76138147,  6401.76470324,\n",
              "        8970.48471961,  7809.31605982, 11014.2987663 ,  5885.29858452,\n",
              "       10626.88695615,  7892.21633532,  9210.27985525,  9139.13687611,\n",
              "        8445.48623672,  8553.89962135, 11919.50998472,  8547.62985053,\n",
              "       11382.72117043, 10651.84408815,  9057.30719814,  6263.75099043,\n",
              "        9653.31174632,  7641.73450086,  7506.61241433, 10508.20155608,\n",
              "        9281.64373165,  5438.12260212, 10792.50303373,  5117.42448643,\n",
              "       10761.13167827,  7630.77835417,  4057.93281763,  5710.67870204,\n",
              "        7311.19523666,  7499.96055709,  7912.13626612,  8287.95973775,\n",
              "        8137.22200988,  8312.03074564,  3925.30713139,  7502.65019051,\n",
              "        5290.42533302,  8376.6345061 ,  7647.99989182,  8282.76932418,\n",
              "        7669.3412455 ,  8085.4835582 , 10339.89146521, 11268.7916051 ,\n",
              "        7553.79264428,  9031.4120026 ,  7771.62615303,  7541.41069484,\n",
              "        7618.73847036,  7228.12162346, 10816.92048711,  7671.14913466,\n",
              "        4997.5672159 , 10903.59413316,  8854.83539846,  7794.96862901,\n",
              "        6871.3076832 ,  7640.65952346,  2054.55778934,  5585.97308357,\n",
              "        5495.33721371,  7596.32213929,  5248.08907115, 10439.88950409,\n",
              "       11462.1107674 ,  7430.31959542,  7496.19156641,  5756.97280787,\n",
              "        7699.33995858,  7852.91615237,  6187.30495917,  8290.84260431,\n",
              "        9133.40678392,  6920.34075597,  3641.4484393 ,  5142.38161844,\n",
              "        8328.52813124,  8565.74189216,  8285.26572446,  7354.41324279,\n",
              "        7500.84230135,  5027.90799461,  5329.72551598,  7518.45468514,\n",
              "       10065.68506834,  7750.48241235, 13277.07883937,  8091.65643596,\n",
              "        9575.62177982,  4017.8997229 ,  8664.45104214,  7410.25083214,\n",
              "       10764.35661046, 11385.22195058,  5325.41684667,  7876.25862835,\n",
              "        6657.04993199,  6714.88919665, 10363.38715355,  5678.22798932,\n",
              "        9321.96695258, 10610.3939504 ,  5025.36719368,  9836.34697456,\n",
              "        4123.07187685,  6800.2496785 , 10442.43030502,  6568.26252509,\n",
              "        7708.64142846,  9284.434638  , 10841.87761912,  6867.97011246,\n",
              "        7650.6939051 ,  8116.42033483,  5557.24696088,  2098.01342926,\n",
              "        8354.56024065,  7362.14445728,  7562.59883617, 10777.97112951,\n",
              "        4137.95022657,  6787.36862423,  8351.13769546,  7402.3263845 ,\n",
              "        8617.95932332,  7478.42597027,  6913.45071193,  7577.82363138,\n",
              "        6001.58009751, 11232.18105556, 10223.41671908,  7677.07683986,\n",
              "       11037.99206764,  6348.81436031,  8451.46150147,  8699.25370252,\n",
              "        8377.17418472,  7753.17204577,  5404.35927822,  5171.64303989,\n",
              "        7933.13117431,  6296.59254929,  5109.00476081,  7273.60222294,\n",
              "        8301.07021909,  3908.27444702, 11203.7969985 , 10487.99587894,\n",
              "        5676.6133333 ,  5249.85693953,  3958.87722215,  8273.42345366,\n",
              "        7432.66716321,  8397.77824677,  7720.48369926,  3517.62894495,\n",
              "        7439.66546594,  7271.8950537 ,  7959.89619548, 11122.7002323 ,\n",
              "        7676.72601451,  7512.14927339,  7798.19794106,  9647.52971471,\n",
              "       10478.65000842,  5386.59368208,  7855.4569533 ,  8899.96201368,\n",
              "        5495.87689234,  7611.20486886, 10821.57122205, 10647.6886312 ,\n",
              "        5316.99712106,  7522.57012131,  7894.02422449,  7669.73209164,\n",
              "        7493.84399862, 11065.98089869,  7439.12578731,  7782.05138081,\n",
              "        7354.41324279,  2096.00792709,  8469.71483682,  6711.6598846 ,\n",
              "        5079.392514  ,  5295.80459987,  2812.01103951,  2068.20794931,\n",
              "        7607.62473146,  5271.77361277,  8358.13599819,  3781.41887376,\n",
              "        5070.97278839,  6008.23195475,  5933.01411323,  6751.68859947,\n",
              "        5230.66554064,  5276.23111456,  5305.15047039,  7002.16605407,\n",
              "        8087.69421214,  4893.32120685,  5076.35643509,  6311.66851201,\n",
              "        5235.85595421,  7405.94216283,  7360.87186689,  8875.97160038,\n",
              "        2226.47927868,  5072.39421127,  6130.24355993,  7257.89844824,\n",
              "        5106.11751439,  5043.66808859,  5104.15641287,  6696.23747639,\n",
              "        5239.08526626,  5329.18583735,  3665.82149202,  5934.47993677,\n",
              "        8481.22258077,  4866.74941882,  6429.56030116,  6726.53823432,\n",
              "        5108.11863669,  4216.93705877,  3706.58749852,  7195.98870107,\n",
              "        5255.42943951,  3378.00495597,  9295.93484318,  5108.11863669,\n",
              "        3821.79403411,  6517.5065376 ,  6480.16745616,  4880.93925742,\n",
              "        7334.49331199,  4933.50313407,  3825.17217865,  3419.79715935,\n",
              "        5170.91012812,  5120.84703162,  8990.09877871,  3369.73406285,\n",
              "        7496.72686518,  5386.44046973,  1888.20879998,  7521.68399719,\n",
              "        5422.3181075 ,  5234.62776446,  8509.06257934,  8594.41169557,\n",
              "        4062.77678571,  4897.77870865,  6497.05130804,  3714.46754551,\n",
              "        4892.39506195,  3641.25082629,  5163.03008114,  5145.95299611,\n",
              "        5383.8996688 ,  2062.28900384,  6651.55364673,  5311.95991984,\n",
              "        6982.09729079,  5191.17650441,  6436.90504938,  8415.73707605,\n",
              "        4315.25974248,  5095.73668726,  8586.73680035,  6798.86882941,\n",
              "        5060.01226184,  5293.11496645,  5070.97278839,  7417.5912005 ,\n",
              "        5251.46721569,  2047.40627426,  3865.39850652,  5239.08526626,\n",
              "        3512.39413073,  5265.31498867,  6207.03603669,  5063.97448566,\n",
              "       10509.61106034,  8704.96749622,  5763.28259948,  5088.73838453,\n",
              "        5097.15811014,  8364.40138915,  8534.36615684,  5080.81393689,\n",
              "        8297.10799527,  8158.21691807,  6325.12543884,  5051.20606994,\n",
              "        6604.86869476,  6785.41190258,  8126.78924333,  5063.97448566,\n",
              "        8406.58443867,  5064.51416429,  7185.59212845,  7712.25720679,\n",
              "        8276.11308708,  5129.11354488,  8178.330082  ,  3365.96507217,\n",
              "        5861.26759742,  5812.62154394,  7445.39117828,  6820.40341623,\n",
              "        3941.30485915,  5296.3442785 ,  5087.1237285 ,  5437.58292349,\n",
              "        5250.3922383 ,  8055.24349942,  7308.84766887,  8683.83129431,\n",
              "        6406.22220504,  8338.75574602,  8797.91091309,  9356.70891382,\n",
              "        7639.92661169,  6680.08653628,  5090.35304055,  4896.35728577,\n",
              "        8616.53790043,  5107.19249178,  7349.22282922,  8227.85787974,\n",
              "        5258.46551842,  5876.14594714,  8182.98081694,  5288.613064  ,\n",
              "        3729.73674136,  6400.83855833,  5104.15641287,  6668.5863311 ,\n",
              "        8468.68741898,  6879.96559561,  8696.56406909,  5222.39902738,\n",
              "        7574.59431933,  7569.40390576,  5355.21794676,  4864.59508417,\n",
              "        5374.59819892,  4970.84221551,  5251.46721569,  3802.22054881,\n",
              "        5251.46721569,  7869.45355876,  3993.8687358 ,  3835.93947206,\n",
              "        6497.73981916,  5039.21058679,  5192.79116043,  5512.22544545,\n",
              "        9185.91434129,  5996.38968395,  3660.43784532,  1891.28927955,\n",
              "        7913.40447665,  6165.43268659,  5169.64191759,  8273.36713438,\n",
              "        3283.25364994,  3634.06367029,  9039.62657645,  2724.79333498,\n",
              "       10159.14748549,  2685.15108639,  5202.3302641 ,  7465.8507877 ,\n",
              "        8584.4336332 ,  7518.80113063,  5529.45136296,  5154.95680101,\n",
              "        7836.42314662,  9398.46930313,  8211.45738721,  6697.46566614,\n",
              "        7823.6947517 ,  7485.61750614,  5133.57104668,  5645.53526295,\n",
              "        5189.02216975,  6371.9592233 ,  5772.43523686,  7464.08291932,\n",
              "        5916.86317312,  5346.604988  ,  5072.39421127,  7389.94443506,\n",
              "        5163.71859225,  9403.84856997,  7982.12367328,  5307.30918491,\n",
              "       10326.09247275,  6302.51587462,  8891.28835579,  3620.60236359,\n",
              "        5906.29349271,  7979.27644765,  8997.88193263,  3453.90692875,\n",
              "        6645.09502263,  6907.07706227,  8811.90751855,  6889.61295797,\n",
              "        8013.88587488,  7437.85757678,  2502.84876992,  3222.07681454,\n",
              "        2035.17753717,  5835.03787501,  8219.24492098, 11257.28702006,\n",
              "        7799.61936395,  7862.26202289,  5150.45489856,  7656.4239973 ,\n",
              "        6324.04608158,  3291.13369693,  8568.37958616,  5267.81138895,\n",
              "        7197.21689081,  5921.02300994,  8774.02875848,  5034.36661871,\n",
              "        6093.43977726,  5444.58560609,  5170.5680625 ,  7990.58779955,\n",
              "        6049.49323922,  7133.71676292,  8830.9976445 ,  5639.07663885,\n",
              "        6219.41360626,  6541.34867143,  6571.68507028,  6513.73754692,\n",
              "        3393.07653883,  4947.30650639,  5678.91650044,  9149.15933913,\n",
              "        8008.69546131,  5070.77955525,  8344.28068645,  1901.51689433,\n",
              "        4896.35728577,  6374.99530221,  6555.53413016,  8805.44889445,\n",
              "        6451.9810121 ,  5144.72918623,  5328.83939186,  5058.39760581,\n",
              "        6294.97789327,  5991.34810287])"
            ]
          },
          "metadata": {
            "tags": []
          },
          "execution_count": 13
        }
      ]
    },
    {
      "cell_type": "code",
      "metadata": {
        "id": "HKCKzll2xyst",
        "outputId": "afc4d6f6-29d6-4d55-d757-ae46197f767d",
        "colab": {
          "base_uri": "https://localhost:8080/",
          "height": 204
        }
      },
      "source": [
        "salario['previsao'] = previsao\n",
        "salario.head()"
      ],
      "execution_count": 14,
      "outputs": [
        {
          "output_type": "execute_result",
          "data": {
            "text/html": [
              "<div>\n",
              "<style scoped>\n",
              "    .dataframe tbody tr th:only-of-type {\n",
              "        vertical-align: middle;\n",
              "    }\n",
              "\n",
              "    .dataframe tbody tr th {\n",
              "        vertical-align: top;\n",
              "    }\n",
              "\n",
              "    .dataframe thead th {\n",
              "        text-align: right;\n",
              "    }\n",
              "</style>\n",
              "<table border=\"1\" class=\"dataframe\">\n",
              "  <thead>\n",
              "    <tr style=\"text-align: right;\">\n",
              "      <th></th>\n",
              "      <th>salbeg</th>\n",
              "      <th>time</th>\n",
              "      <th>age</th>\n",
              "      <th>edlevel</th>\n",
              "      <th>previsao</th>\n",
              "    </tr>\n",
              "  </thead>\n",
              "  <tbody>\n",
              "    <tr>\n",
              "      <th>0</th>\n",
              "      <td>8400</td>\n",
              "      <td>81</td>\n",
              "      <td>28.50</td>\n",
              "      <td>16</td>\n",
              "      <td>8262.309715</td>\n",
              "    </tr>\n",
              "    <tr>\n",
              "      <th>1</th>\n",
              "      <td>24000</td>\n",
              "      <td>73</td>\n",
              "      <td>40.33</td>\n",
              "      <td>16</td>\n",
              "      <td>9003.265579</td>\n",
              "    </tr>\n",
              "    <tr>\n",
              "      <th>2</th>\n",
              "      <td>10200</td>\n",
              "      <td>83</td>\n",
              "      <td>31.08</td>\n",
              "      <td>15</td>\n",
              "      <td>7600.284363</td>\n",
              "    </tr>\n",
              "    <tr>\n",
              "      <th>3</th>\n",
              "      <td>8700</td>\n",
              "      <td>93</td>\n",
              "      <td>31.17</td>\n",
              "      <td>16</td>\n",
              "      <td>8161.985909</td>\n",
              "    </tr>\n",
              "    <tr>\n",
              "      <th>4</th>\n",
              "      <td>17400</td>\n",
              "      <td>83</td>\n",
              "      <td>41.92</td>\n",
              "      <td>19</td>\n",
              "      <td>11141.351953</td>\n",
              "    </tr>\n",
              "  </tbody>\n",
              "</table>\n",
              "</div>"
            ],
            "text/plain": [
              "   salbeg  time    age  edlevel      previsao\n",
              "0    8400    81  28.50       16   8262.309715\n",
              "1   24000    73  40.33       16   9003.265579\n",
              "2   10200    83  31.08       15   7600.284363\n",
              "3    8700    93  31.17       16   8161.985909\n",
              "4   17400    83  41.92       19  11141.351953"
            ]
          },
          "metadata": {
            "tags": []
          },
          "execution_count": 14
        }
      ]
    },
    {
      "cell_type": "code",
      "metadata": {
        "id": "EeuIGfbmyDFj",
        "outputId": "604ad336-acd4-4d54-ba34-e6811a28163e",
        "colab": {
          "base_uri": "https://localhost:8080/",
          "height": 204
        }
      },
      "source": [
        "salario['erro'] = salario.salbeg - salario.previsao\n",
        "salario.head()"
      ],
      "execution_count": 15,
      "outputs": [
        {
          "output_type": "execute_result",
          "data": {
            "text/html": [
              "<div>\n",
              "<style scoped>\n",
              "    .dataframe tbody tr th:only-of-type {\n",
              "        vertical-align: middle;\n",
              "    }\n",
              "\n",
              "    .dataframe tbody tr th {\n",
              "        vertical-align: top;\n",
              "    }\n",
              "\n",
              "    .dataframe thead th {\n",
              "        text-align: right;\n",
              "    }\n",
              "</style>\n",
              "<table border=\"1\" class=\"dataframe\">\n",
              "  <thead>\n",
              "    <tr style=\"text-align: right;\">\n",
              "      <th></th>\n",
              "      <th>salbeg</th>\n",
              "      <th>time</th>\n",
              "      <th>age</th>\n",
              "      <th>edlevel</th>\n",
              "      <th>previsao</th>\n",
              "      <th>erro</th>\n",
              "    </tr>\n",
              "  </thead>\n",
              "  <tbody>\n",
              "    <tr>\n",
              "      <th>0</th>\n",
              "      <td>8400</td>\n",
              "      <td>81</td>\n",
              "      <td>28.50</td>\n",
              "      <td>16</td>\n",
              "      <td>8262.309715</td>\n",
              "      <td>137.690285</td>\n",
              "    </tr>\n",
              "    <tr>\n",
              "      <th>1</th>\n",
              "      <td>24000</td>\n",
              "      <td>73</td>\n",
              "      <td>40.33</td>\n",
              "      <td>16</td>\n",
              "      <td>9003.265579</td>\n",
              "      <td>14996.734421</td>\n",
              "    </tr>\n",
              "    <tr>\n",
              "      <th>2</th>\n",
              "      <td>10200</td>\n",
              "      <td>83</td>\n",
              "      <td>31.08</td>\n",
              "      <td>15</td>\n",
              "      <td>7600.284363</td>\n",
              "      <td>2599.715637</td>\n",
              "    </tr>\n",
              "    <tr>\n",
              "      <th>3</th>\n",
              "      <td>8700</td>\n",
              "      <td>93</td>\n",
              "      <td>31.17</td>\n",
              "      <td>16</td>\n",
              "      <td>8161.985909</td>\n",
              "      <td>538.014091</td>\n",
              "    </tr>\n",
              "    <tr>\n",
              "      <th>4</th>\n",
              "      <td>17400</td>\n",
              "      <td>83</td>\n",
              "      <td>41.92</td>\n",
              "      <td>19</td>\n",
              "      <td>11141.351953</td>\n",
              "      <td>6258.648047</td>\n",
              "    </tr>\n",
              "  </tbody>\n",
              "</table>\n",
              "</div>"
            ],
            "text/plain": [
              "   salbeg  time    age  edlevel      previsao          erro\n",
              "0    8400    81  28.50       16   8262.309715    137.690285\n",
              "1   24000    73  40.33       16   9003.265579  14996.734421\n",
              "2   10200    83  31.08       15   7600.284363   2599.715637\n",
              "3    8700    93  31.17       16   8161.985909    538.014091\n",
              "4   17400    83  41.92       19  11141.351953   6258.648047"
            ]
          },
          "metadata": {
            "tags": []
          },
          "execution_count": 15
        }
      ]
    },
    {
      "cell_type": "code",
      "metadata": {
        "id": "NXGNX17tyRNg",
        "outputId": "515a374e-bda1-4e2b-9497-d74a9d3699f5",
        "colab": {
          "base_uri": "https://localhost:8080/",
          "height": 297
        }
      },
      "source": [
        "salario.describe()"
      ],
      "execution_count": 16,
      "outputs": [
        {
          "output_type": "execute_result",
          "data": {
            "text/html": [
              "<div>\n",
              "<style scoped>\n",
              "    .dataframe tbody tr th:only-of-type {\n",
              "        vertical-align: middle;\n",
              "    }\n",
              "\n",
              "    .dataframe tbody tr th {\n",
              "        vertical-align: top;\n",
              "    }\n",
              "\n",
              "    .dataframe thead th {\n",
              "        text-align: right;\n",
              "    }\n",
              "</style>\n",
              "<table border=\"1\" class=\"dataframe\">\n",
              "  <thead>\n",
              "    <tr style=\"text-align: right;\">\n",
              "      <th></th>\n",
              "      <th>salbeg</th>\n",
              "      <th>time</th>\n",
              "      <th>age</th>\n",
              "      <th>edlevel</th>\n",
              "      <th>previsao</th>\n",
              "      <th>erro</th>\n",
              "    </tr>\n",
              "  </thead>\n",
              "  <tbody>\n",
              "    <tr>\n",
              "      <th>count</th>\n",
              "      <td>474.000000</td>\n",
              "      <td>474.000000</td>\n",
              "      <td>474.000000</td>\n",
              "      <td>474.000000</td>\n",
              "      <td>474.000000</td>\n",
              "      <td>4.740000e+02</td>\n",
              "    </tr>\n",
              "    <tr>\n",
              "      <th>mean</th>\n",
              "      <td>6806.434599</td>\n",
              "      <td>81.109705</td>\n",
              "      <td>37.186139</td>\n",
              "      <td>13.491561</td>\n",
              "      <td>6806.434599</td>\n",
              "      <td>-1.695229e-11</td>\n",
              "    </tr>\n",
              "    <tr>\n",
              "      <th>std</th>\n",
              "      <td>3148.255262</td>\n",
              "      <td>10.060945</td>\n",
              "      <td>11.787242</td>\n",
              "      <td>2.884846</td>\n",
              "      <td>2076.288919</td>\n",
              "      <td>2.366545e+03</td>\n",
              "    </tr>\n",
              "    <tr>\n",
              "      <th>min</th>\n",
              "      <td>3600.000000</td>\n",
              "      <td>63.000000</td>\n",
              "      <td>23.000000</td>\n",
              "      <td>8.000000</td>\n",
              "      <td>1888.208800</td>\n",
              "      <td>-5.409611e+03</td>\n",
              "    </tr>\n",
              "    <tr>\n",
              "      <th>25%</th>\n",
              "      <td>4995.000000</td>\n",
              "      <td>72.000000</td>\n",
              "      <td>28.500000</td>\n",
              "      <td>12.000000</td>\n",
              "      <td>5236.663282</td>\n",
              "      <td>-1.339892e+03</td>\n",
              "    </tr>\n",
              "    <tr>\n",
              "      <th>50%</th>\n",
              "      <td>6000.000000</td>\n",
              "      <td>81.000000</td>\n",
              "      <td>32.000000</td>\n",
              "      <td>12.000000</td>\n",
              "      <td>6869.638898</td>\n",
              "      <td>-4.729313e+02</td>\n",
              "    </tr>\n",
              "    <tr>\n",
              "      <th>75%</th>\n",
              "      <td>6996.000000</td>\n",
              "      <td>90.000000</td>\n",
              "      <td>45.980000</td>\n",
              "      <td>15.000000</td>\n",
              "      <td>8181.818133</td>\n",
              "      <td>7.514690e+02</td>\n",
              "    </tr>\n",
              "    <tr>\n",
              "      <th>max</th>\n",
              "      <td>31992.000000</td>\n",
              "      <td>98.000000</td>\n",
              "      <td>64.500000</td>\n",
              "      <td>21.000000</td>\n",
              "      <td>13277.078839</td>\n",
              "      <td>2.072321e+04</td>\n",
              "    </tr>\n",
              "  </tbody>\n",
              "</table>\n",
              "</div>"
            ],
            "text/plain": [
              "             salbeg        time  ...      previsao          erro\n",
              "count    474.000000  474.000000  ...    474.000000  4.740000e+02\n",
              "mean    6806.434599   81.109705  ...   6806.434599 -1.695229e-11\n",
              "std     3148.255262   10.060945  ...   2076.288919  2.366545e+03\n",
              "min     3600.000000   63.000000  ...   1888.208800 -5.409611e+03\n",
              "25%     4995.000000   72.000000  ...   5236.663282 -1.339892e+03\n",
              "50%     6000.000000   81.000000  ...   6869.638898 -4.729313e+02\n",
              "75%     6996.000000   90.000000  ...   8181.818133  7.514690e+02\n",
              "max    31992.000000   98.000000  ...  13277.078839  2.072321e+04\n",
              "\n",
              "[8 rows x 6 columns]"
            ]
          },
          "metadata": {
            "tags": []
          },
          "execution_count": 16
        }
      ]
    },
    {
      "cell_type": "code",
      "metadata": {
        "id": "BYMPxonSyYGi",
        "outputId": "755c221e-97a6-48f2-fe69-025683eba120",
        "colab": {
          "base_uri": "https://localhost:8080/",
          "height": 401
        }
      },
      "source": [
        "plt.boxplot(salario.erro)"
      ],
      "execution_count": 17,
      "outputs": [
        {
          "output_type": "execute_result",
          "data": {
            "text/plain": [
              "{'boxes': [<matplotlib.lines.Line2D at 0x7f51ea588860>],\n",
              " 'caps': [<matplotlib.lines.Line2D at 0x7f51ea59d2b0>,\n",
              "  <matplotlib.lines.Line2D at 0x7f51ea59d630>],\n",
              " 'fliers': [<matplotlib.lines.Line2D at 0x7f51ea59dd30>],\n",
              " 'means': [],\n",
              " 'medians': [<matplotlib.lines.Line2D at 0x7f51ea59d9b0>],\n",
              " 'whiskers': [<matplotlib.lines.Line2D at 0x7f51ea588b70>,\n",
              "  <matplotlib.lines.Line2D at 0x7f51ea588ef0>]}"
            ]
          },
          "metadata": {
            "tags": []
          },
          "execution_count": 17
        },
        {
          "output_type": "display_data",
          "data": {
            "image/png": "[encoded data removed]",
            "text/plain": [
              "<Figure size 432x288 with 1 Axes>"
            ]
          },
          "metadata": {
            "tags": [],
            "needs_background": "light"
          }
        }
      ]
    }
  ]
}