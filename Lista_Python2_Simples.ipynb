{
  "nbformat": 4,
  "nbformat_minor": 0,
  "metadata": {
    "colab": {
      "name": "Lista_Python2_Simples.ipynb",
      "provenance": [],
      "collapsed_sections": [],
      "authorship_tag": "ABX9TyOLLAPqlo0oenVfuVyE6jP4",
      "include_colab_link": true
    },
    "kernelspec": {
      "name": "python3",
      "display_name": "Python 3"
    }
  },
  "cells": [
    {
      "cell_type": "markdown",
      "metadata": {
        "id": "view-in-github",
        "colab_type": "text"
      },
      "source": [
        "<a href=\"https://colab.research.google.com/github/wjunior83/statsmodels/blob/master/Lista_Python2_Simples.ipynb\" target=\"_parent\"><img src=\"https://colab.research.google.com/assets/colab-badge.svg\" alt=\"Open In Colab\"/></a>"
      ]
    },
    {
      "cell_type": "code",
      "metadata": {
        "id": "p6DJihuyr_Eg"
      },
      "source": [
        "import pandas as pd\n",
        "import matplotlib.pyplot as plt\n",
        "import statsmodels.api as sm"
      ],
      "execution_count": null,
      "outputs": []
    },
    {
      "cell_type": "code",
      "metadata": {
        "id": "AVl5apYDsPJB",
        "outputId": "b6737e94-b975-4163-96a0-3f592547a79d",
        "colab": {
          "base_uri": "https://localhost:8080/",
          "height": 204
        }
      },
      "source": [
        "salario = pd.read_excel('/content/salario_python.xlsx')\n",
        "salario.head()"
      ],
      "execution_count": null,
      "outputs": [
        {
          "output_type": "execute_result",
          "data": {
            "text/html": [
              "<div>\n",
              "<style scoped>\n",
              "    .dataframe tbody tr th:only-of-type {\n",
              "        vertical-align: middle;\n",
              "    }\n",
              "\n",
              "    .dataframe tbody tr th {\n",
              "        vertical-align: top;\n",
              "    }\n",
              "\n",
              "    .dataframe thead th {\n",
              "        text-align: right;\n",
              "    }\n",
              "</style>\n",
              "<table border=\"1\" class=\"dataframe\">\n",
              "  <thead>\n",
              "    <tr style=\"text-align: right;\">\n",
              "      <th></th>\n",
              "      <th>id</th>\n",
              "      <th>salbeg</th>\n",
              "      <th>time</th>\n",
              "      <th>age</th>\n",
              "      <th>edlevel</th>\n",
              "    </tr>\n",
              "  </thead>\n",
              "  <tbody>\n",
              "    <tr>\n",
              "      <th>0</th>\n",
              "      <td>628</td>\n",
              "      <td>8400</td>\n",
              "      <td>81</td>\n",
              "      <td>28.50</td>\n",
              "      <td>16</td>\n",
              "    </tr>\n",
              "    <tr>\n",
              "      <th>1</th>\n",
              "      <td>630</td>\n",
              "      <td>24000</td>\n",
              "      <td>73</td>\n",
              "      <td>40.33</td>\n",
              "      <td>16</td>\n",
              "    </tr>\n",
              "    <tr>\n",
              "      <th>2</th>\n",
              "      <td>632</td>\n",
              "      <td>10200</td>\n",
              "      <td>83</td>\n",
              "      <td>31.08</td>\n",
              "      <td>15</td>\n",
              "    </tr>\n",
              "    <tr>\n",
              "      <th>3</th>\n",
              "      <td>633</td>\n",
              "      <td>8700</td>\n",
              "      <td>93</td>\n",
              "      <td>31.17</td>\n",
              "      <td>16</td>\n",
              "    </tr>\n",
              "    <tr>\n",
              "      <th>4</th>\n",
              "      <td>635</td>\n",
              "      <td>17400</td>\n",
              "      <td>83</td>\n",
              "      <td>41.92</td>\n",
              "      <td>19</td>\n",
              "    </tr>\n",
              "  </tbody>\n",
              "</table>\n",
              "</div>"
            ],
            "text/plain": [
              "    id  salbeg  time    age  edlevel\n",
              "0  628    8400    81  28.50       16\n",
              "1  630   24000    73  40.33       16\n",
              "2  632   10200    83  31.08       15\n",
              "3  633    8700    93  31.17       16\n",
              "4  635   17400    83  41.92       19"
            ]
          },
          "metadata": {
            "tags": []
          },
          "execution_count": 50
        }
      ]
    },
    {
      "cell_type": "code",
      "metadata": {
        "id": "S3-wArOFvw72"
      },
      "source": [
        "salario = salario[['salbeg','time','age','edlevel']]"
      ],
      "execution_count": null,
      "outputs": []
    },
    {
      "cell_type": "code",
      "metadata": {
        "id": "0ylsCHnHsXFl",
        "outputId": "59b20946-47bb-433e-aa8d-6081d483b35b",
        "colab": {
          "base_uri": "https://localhost:8080/",
          "height": 297
        }
      },
      "source": [
        "salario.describe()"
      ],
      "execution_count": null,
      "outputs": [
        {
          "output_type": "execute_result",
          "data": {
            "text/html": [
              "<div>\n",
              "<style scoped>\n",
              "    .dataframe tbody tr th:only-of-type {\n",
              "        vertical-align: middle;\n",
              "    }\n",
              "\n",
              "    .dataframe tbody tr th {\n",
              "        vertical-align: top;\n",
              "    }\n",
              "\n",
              "    .dataframe thead th {\n",
              "        text-align: right;\n",
              "    }\n",
              "</style>\n",
              "<table border=\"1\" class=\"dataframe\">\n",
              "  <thead>\n",
              "    <tr style=\"text-align: right;\">\n",
              "      <th></th>\n",
              "      <th>salbeg</th>\n",
              "      <th>time</th>\n",
              "      <th>age</th>\n",
              "      <th>edlevel</th>\n",
              "    </tr>\n",
              "  </thead>\n",
              "  <tbody>\n",
              "    <tr>\n",
              "      <th>count</th>\n",
              "      <td>474.000000</td>\n",
              "      <td>474.000000</td>\n",
              "      <td>474.000000</td>\n",
              "      <td>474.000000</td>\n",
              "    </tr>\n",
              "    <tr>\n",
              "      <th>mean</th>\n",
              "      <td>6806.434599</td>\n",
              "      <td>81.109705</td>\n",
              "      <td>37.186139</td>\n",
              "      <td>13.491561</td>\n",
              "    </tr>\n",
              "    <tr>\n",
              "      <th>std</th>\n",
              "      <td>3148.255262</td>\n",
              "      <td>10.060945</td>\n",
              "      <td>11.787242</td>\n",
              "      <td>2.884846</td>\n",
              "    </tr>\n",
              "    <tr>\n",
              "      <th>min</th>\n",
              "      <td>3600.000000</td>\n",
              "      <td>63.000000</td>\n",
              "      <td>23.000000</td>\n",
              "      <td>8.000000</td>\n",
              "    </tr>\n",
              "    <tr>\n",
              "      <th>25%</th>\n",
              "      <td>4995.000000</td>\n",
              "      <td>72.000000</td>\n",
              "      <td>28.500000</td>\n",
              "      <td>12.000000</td>\n",
              "    </tr>\n",
              "    <tr>\n",
              "      <th>50%</th>\n",
              "      <td>6000.000000</td>\n",
              "      <td>81.000000</td>\n",
              "      <td>32.000000</td>\n",
              "      <td>12.000000</td>\n",
              "    </tr>\n",
              "    <tr>\n",
              "      <th>75%</th>\n",
              "      <td>6996.000000</td>\n",
              "      <td>90.000000</td>\n",
              "      <td>45.980000</td>\n",
              "      <td>15.000000</td>\n",
              "    </tr>\n",
              "    <tr>\n",
              "      <th>max</th>\n",
              "      <td>31992.000000</td>\n",
              "      <td>98.000000</td>\n",
              "      <td>64.500000</td>\n",
              "      <td>21.000000</td>\n",
              "    </tr>\n",
              "  </tbody>\n",
              "</table>\n",
              "</div>"
            ],
            "text/plain": [
              "             salbeg        time         age     edlevel\n",
              "count    474.000000  474.000000  474.000000  474.000000\n",
              "mean    6806.434599   81.109705   37.186139   13.491561\n",
              "std     3148.255262   10.060945   11.787242    2.884846\n",
              "min     3600.000000   63.000000   23.000000    8.000000\n",
              "25%     4995.000000   72.000000   28.500000   12.000000\n",
              "50%     6000.000000   81.000000   32.000000   12.000000\n",
              "75%     6996.000000   90.000000   45.980000   15.000000\n",
              "max    31992.000000   98.000000   64.500000   21.000000"
            ]
          },
          "metadata": {
            "tags": []
          },
          "execution_count": 52
        }
      ]
    },
    {
      "cell_type": "code",
      "metadata": {
        "id": "15ZNvui6uJcV",
        "outputId": "205158f6-e476-4a4a-8a62-dd457bfe3ac7",
        "colab": {
          "base_uri": "https://localhost:8080/",
          "height": 173
        }
      },
      "source": [
        "#variável \"edlevel\" tem correlação de moderada para forte, pois é a que mais se aproxima de 1\n",
        "salario.corr()"
      ],
      "execution_count": null,
      "outputs": [
        {
          "output_type": "execute_result",
          "data": {
            "text/html": [
              "<div>\n",
              "<style scoped>\n",
              "    .dataframe tbody tr th:only-of-type {\n",
              "        vertical-align: middle;\n",
              "    }\n",
              "\n",
              "    .dataframe tbody tr th {\n",
              "        vertical-align: top;\n",
              "    }\n",
              "\n",
              "    .dataframe thead th {\n",
              "        text-align: right;\n",
              "    }\n",
              "</style>\n",
              "<table border=\"1\" class=\"dataframe\">\n",
              "  <thead>\n",
              "    <tr style=\"text-align: right;\">\n",
              "      <th></th>\n",
              "      <th>salbeg</th>\n",
              "      <th>time</th>\n",
              "      <th>age</th>\n",
              "      <th>edlevel</th>\n",
              "    </tr>\n",
              "  </thead>\n",
              "  <tbody>\n",
              "    <tr>\n",
              "      <th>salbeg</th>\n",
              "      <td>1.000000</td>\n",
              "      <td>-0.019753</td>\n",
              "      <td>-0.011040</td>\n",
              "      <td>0.633196</td>\n",
              "    </tr>\n",
              "    <tr>\n",
              "      <th>time</th>\n",
              "      <td>-0.019753</td>\n",
              "      <td>1.000000</td>\n",
              "      <td>0.051630</td>\n",
              "      <td>0.047379</td>\n",
              "    </tr>\n",
              "    <tr>\n",
              "      <th>age</th>\n",
              "      <td>-0.011040</td>\n",
              "      <td>0.051630</td>\n",
              "      <td>1.000000</td>\n",
              "      <td>-0.280842</td>\n",
              "    </tr>\n",
              "    <tr>\n",
              "      <th>edlevel</th>\n",
              "      <td>0.633196</td>\n",
              "      <td>0.047379</td>\n",
              "      <td>-0.280842</td>\n",
              "      <td>1.000000</td>\n",
              "    </tr>\n",
              "  </tbody>\n",
              "</table>\n",
              "</div>"
            ],
            "text/plain": [
              "           salbeg      time       age   edlevel\n",
              "salbeg   1.000000 -0.019753 -0.011040  0.633196\n",
              "time    -0.019753  1.000000  0.051630  0.047379\n",
              "age     -0.011040  0.051630  1.000000 -0.280842\n",
              "edlevel  0.633196  0.047379 -0.280842  1.000000"
            ]
          },
          "metadata": {
            "tags": []
          },
          "execution_count": 53
        }
      ]
    },
    {
      "cell_type": "code",
      "metadata": {
        "id": "1watDWtzwJd3",
        "outputId": "7120649f-5fc2-4244-f1b5-b51a458fe31f",
        "colab": {
          "base_uri": "https://localhost:8080/",
          "height": 119
        }
      },
      "source": [
        "# modelo utilizando a variável que possui melhor correlação\n",
        "x = salario['edlevel']\n",
        "x.head()"
      ],
      "execution_count": null,
      "outputs": [
        {
          "output_type": "execute_result",
          "data": {
            "text/plain": [
              "0    16\n",
              "1    16\n",
              "2    15\n",
              "3    16\n",
              "4    19\n",
              "Name: edlevel, dtype: int64"
            ]
          },
          "metadata": {
            "tags": []
          },
          "execution_count": 54
        }
      ]
    },
    {
      "cell_type": "code",
      "metadata": {
        "id": "d48b4dpyw0gW",
        "outputId": "92694b07-4448-475d-d419-a7cea8e94497",
        "colab": {
          "base_uri": "https://localhost:8080/",
          "height": 204
        }
      },
      "source": [
        "x = sm.add_constant(x)\n",
        "x.head()"
      ],
      "execution_count": null,
      "outputs": [
        {
          "output_type": "execute_result",
          "data": {
            "text/html": [
              "<div>\n",
              "<style scoped>\n",
              "    .dataframe tbody tr th:only-of-type {\n",
              "        vertical-align: middle;\n",
              "    }\n",
              "\n",
              "    .dataframe tbody tr th {\n",
              "        vertical-align: top;\n",
              "    }\n",
              "\n",
              "    .dataframe thead th {\n",
              "        text-align: right;\n",
              "    }\n",
              "</style>\n",
              "<table border=\"1\" class=\"dataframe\">\n",
              "  <thead>\n",
              "    <tr style=\"text-align: right;\">\n",
              "      <th></th>\n",
              "      <th>const</th>\n",
              "      <th>edlevel</th>\n",
              "    </tr>\n",
              "  </thead>\n",
              "  <tbody>\n",
              "    <tr>\n",
              "      <th>0</th>\n",
              "      <td>1.0</td>\n",
              "      <td>16</td>\n",
              "    </tr>\n",
              "    <tr>\n",
              "      <th>1</th>\n",
              "      <td>1.0</td>\n",
              "      <td>16</td>\n",
              "    </tr>\n",
              "    <tr>\n",
              "      <th>2</th>\n",
              "      <td>1.0</td>\n",
              "      <td>15</td>\n",
              "    </tr>\n",
              "    <tr>\n",
              "      <th>3</th>\n",
              "      <td>1.0</td>\n",
              "      <td>16</td>\n",
              "    </tr>\n",
              "    <tr>\n",
              "      <th>4</th>\n",
              "      <td>1.0</td>\n",
              "      <td>19</td>\n",
              "    </tr>\n",
              "  </tbody>\n",
              "</table>\n",
              "</div>"
            ],
            "text/plain": [
              "   const  edlevel\n",
              "0    1.0       16\n",
              "1    1.0       16\n",
              "2    1.0       15\n",
              "3    1.0       16\n",
              "4    1.0       19"
            ]
          },
          "metadata": {
            "tags": []
          },
          "execution_count": 55
        }
      ]
    },
    {
      "cell_type": "code",
      "metadata": {
        "id": "nHSOSbA-w4ZX",
        "outputId": "368b0619-abb9-4313-ed47-6ff4dea9580f",
        "colab": {
          "base_uri": "https://localhost:8080/",
          "height": 119
        }
      },
      "source": [
        "y = salario['salbeg']\n",
        "y.head()"
      ],
      "execution_count": null,
      "outputs": [
        {
          "output_type": "execute_result",
          "data": {
            "text/plain": [
              "0     8400\n",
              "1    24000\n",
              "2    10200\n",
              "3     8700\n",
              "4    17400\n",
              "Name: salbeg, dtype: int64"
            ]
          },
          "metadata": {
            "tags": []
          },
          "execution_count": 56
        }
      ]
    },
    {
      "cell_type": "code",
      "metadata": {
        "id": "ZmuJLc7exNZa"
      },
      "source": [
        "modelo = sm.OLS(y,x)"
      ],
      "execution_count": null,
      "outputs": []
    },
    {
      "cell_type": "code",
      "metadata": {
        "id": "1Eh-sNV6xSNN"
      },
      "source": [
        "ajuste = modelo.fit()"
      ],
      "execution_count": null,
      "outputs": []
    },
    {
      "cell_type": "code",
      "metadata": {
        "id": "LhyhIjn7xXEp",
        "outputId": "794d3620-807d-428c-8a48-c6ad816f7336",
        "colab": {
          "base_uri": "https://localhost:8080/",
          "height": 444
        }
      },
      "source": [
        "ajuste.summary()"
      ],
      "execution_count": null,
      "outputs": [
        {
          "output_type": "execute_result",
          "data": {
            "text/html": [
              "<table class=\"simpletable\">\n",
              "<caption>OLS Regression Results</caption>\n",
              "<tr>\n",
              "  <th>Dep. Variable:</th>         <td>salbeg</td>      <th>  R-squared:         </th> <td>   0.401</td>\n",
              "</tr>\n",
              "<tr>\n",
              "  <th>Model:</th>                   <td>OLS</td>       <th>  Adj. R-squared:    </th> <td>   0.400</td>\n",
              "</tr>\n",
              "<tr>\n",
              "  <th>Method:</th>             <td>Least Squares</td>  <th>  F-statistic:       </th> <td>   315.9</td>\n",
              "</tr>\n",
              "<tr>\n",
              "  <th>Date:</th>             <td>Wed, 28 Oct 2020</td> <th>  Prob (F-statistic):</th> <td>1.76e-54</td>\n",
              "</tr>\n",
              "<tr>\n",
              "  <th>Time:</th>                 <td>01:26:14</td>     <th>  Log-Likelihood:    </th> <td> -4368.5</td>\n",
              "</tr>\n",
              "<tr>\n",
              "  <th>No. Observations:</th>      <td>   474</td>      <th>  AIC:               </th> <td>   8741.</td>\n",
              "</tr>\n",
              "<tr>\n",
              "  <th>Df Residuals:</th>          <td>   472</td>      <th>  BIC:               </th> <td>   8749.</td>\n",
              "</tr>\n",
              "<tr>\n",
              "  <th>Df Model:</th>              <td>     1</td>      <th>                     </th>     <td> </td>   \n",
              "</tr>\n",
              "<tr>\n",
              "  <th>Covariance Type:</th>      <td>nonrobust</td>    <th>                     </th>     <td> </td>   \n",
              "</tr>\n",
              "</table>\n",
              "<table class=\"simpletable\">\n",
              "<tr>\n",
              "     <td></td>        <th>coef</th>     <th>std err</th>      <th>t</th>      <th>P>|t|</th>  <th>[0.025</th>    <th>0.975]</th>  \n",
              "</tr>\n",
              "<tr>\n",
              "  <th>const</th>   <td>-2516.3869</td> <td>  536.368</td> <td>   -4.692</td> <td> 0.000</td> <td>-3570.351</td> <td>-1462.423</td>\n",
              "</tr>\n",
              "<tr>\n",
              "  <th>edlevel</th> <td>  691.0113</td> <td>   38.879</td> <td>   17.773</td> <td> 0.000</td> <td>  614.614</td> <td>  767.408</td>\n",
              "</tr>\n",
              "</table>\n",
              "<table class=\"simpletable\">\n",
              "<tr>\n",
              "  <th>Omnibus:</th>       <td>346.497</td> <th>  Durbin-Watson:     </th> <td>   1.686</td>\n",
              "</tr>\n",
              "<tr>\n",
              "  <th>Prob(Omnibus):</th> <td> 0.000</td>  <th>  Jarque-Bera (JB):  </th> <td>6564.617</td>\n",
              "</tr>\n",
              "<tr>\n",
              "  <th>Skew:</th>          <td> 2.948</td>  <th>  Prob(JB):          </th> <td>    0.00</td>\n",
              "</tr>\n",
              "<tr>\n",
              "  <th>Kurtosis:</th>      <td>20.252</td>  <th>  Cond. No.          </th> <td>    66.4</td>\n",
              "</tr>\n",
              "</table><br/><br/>Warnings:<br/>[1] Standard Errors assume that the covariance matrix of the errors is correctly specified."
            ],
            "text/plain": [
              "<class 'statsmodels.iolib.summary.Summary'>\n",
              "\"\"\"\n",
              "                            OLS Regression Results                            \n",
              "==============================================================================\n",
              "Dep. Variable:                 salbeg   R-squared:                       0.401\n",
              "Model:                            OLS   Adj. R-squared:                  0.400\n",
              "Method:                 Least Squares   F-statistic:                     315.9\n",
              "Date:                Wed, 28 Oct 2020   Prob (F-statistic):           1.76e-54\n",
              "Time:                        01:26:14   Log-Likelihood:                -4368.5\n",
              "No. Observations:                 474   AIC:                             8741.\n",
              "Df Residuals:                     472   BIC:                             8749.\n",
              "Df Model:                           1                                         \n",
              "Covariance Type:            nonrobust                                         \n",
              "==============================================================================\n",
              "                 coef    std err          t      P>|t|      [0.025      0.975]\n",
              "------------------------------------------------------------------------------\n",
              "const      -2516.3869    536.368     -4.692      0.000   -3570.351   -1462.423\n",
              "edlevel      691.0113     38.879     17.773      0.000     614.614     767.408\n",
              "==============================================================================\n",
              "Omnibus:                      346.497   Durbin-Watson:                   1.686\n",
              "Prob(Omnibus):                  0.000   Jarque-Bera (JB):             6564.617\n",
              "Skew:                           2.948   Prob(JB):                         0.00\n",
              "Kurtosis:                      20.252   Cond. No.                         66.4\n",
              "==============================================================================\n",
              "\n",
              "Warnings:\n",
              "[1] Standard Errors assume that the covariance matrix of the errors is correctly specified.\n",
              "\"\"\""
            ]
          },
          "metadata": {
            "tags": []
          },
          "execution_count": 59
        }
      ]
    },
    {
      "cell_type": "code",
      "metadata": {
        "id": "SpCCvt9Exld3",
        "outputId": "edc574aa-37e9-411c-aa29-1866925157bd",
        "colab": {
          "base_uri": "https://localhost:8080/",
          "height": 1000
        }
      },
      "source": [
        "previsao = modelo.predict(ajuste.params)\n",
        "previsao"
      ],
      "execution_count": null,
      "outputs": [
        {
          "output_type": "execute_result",
          "data": {
            "text/plain": [
              "array([ 8539.7942199 ,  8539.7942199 ,  7848.78289927,  8539.7942199 ,\n",
              "       10612.8281818 ,  9921.81686117,  7848.78289927,  7848.78289927,\n",
              "        7848.78289927,  5775.74893737,  7848.78289927,  5775.74893737,\n",
              "        9230.80554053,  7848.78289927, 10612.8281818 ,  5775.74893737,\n",
              "       10612.8281818 ,  7848.78289927,  7848.78289927,  9230.80554053,\n",
              "        7848.78289927,  8539.7942199 , 11303.83950243,  8539.7942199 ,\n",
              "       10612.8281818 , 10612.8281818 ,  9230.80554053,  5775.74893737,\n",
              "        9921.81686117,  7848.78289927,  7848.78289927,  9921.81686117,\n",
              "        9230.80554053,  5775.74893737, 10612.8281818 ,  5775.74893737,\n",
              "       10612.8281818 ,  7848.78289927,  3011.70365483,  5775.74893737,\n",
              "        7848.78289927,  7848.78289927,  7848.78289927,  8539.7942199 ,\n",
              "        8539.7942199 ,  8539.7942199 ,  3011.70365483,  7848.78289927,\n",
              "        5775.74893737,  8539.7942199 ,  7848.78289927,  8539.7942199 ,\n",
              "        7848.78289927,  7848.78289927,  9921.81686117, 10612.8281818 ,\n",
              "        7848.78289927,  8539.7942199 ,  7848.78289927,  7848.78289927,\n",
              "        7848.78289927,  5775.74893737, 10612.8281818 ,  7848.78289927,\n",
              "        5775.74893737, 10612.8281818 ,  8539.7942199 ,  7848.78289927,\n",
              "        7157.77157863,  7848.78289927,  3011.70365483,  5775.74893737,\n",
              "        5775.74893737,  7848.78289927,  5775.74893737, 10612.8281818 ,\n",
              "       11303.83950243,  7848.78289927,  7848.78289927,  5775.74893737,\n",
              "        7848.78289927,  7848.78289927,  5775.74893737,  8539.7942199 ,\n",
              "        9230.80554053,  5775.74893737,  3011.70365483,  5775.74893737,\n",
              "        8539.7942199 ,  8539.7942199 ,  8539.7942199 ,  7848.78289927,\n",
              "        7848.78289927,  5775.74893737,  5775.74893737,  7848.78289927,\n",
              "        9921.81686117,  7848.78289927, 11994.85082307,  8539.7942199 ,\n",
              "        7848.78289927,  3011.70365483,  8539.7942199 ,  7848.78289927,\n",
              "       10612.8281818 , 10612.8281818 ,  5775.74893737,  7848.78289927,\n",
              "        7157.77157863,  5775.74893737,  9921.81686117,  5775.74893737,\n",
              "        8539.7942199 , 10612.8281818 ,  5775.74893737,  9921.81686117,\n",
              "        3011.70365483,  7157.77157863, 10612.8281818 ,  5775.74893737,\n",
              "        7848.78289927,  8539.7942199 , 10612.8281818 ,  5775.74893737,\n",
              "        7848.78289927,  8539.7942199 ,  5775.74893737,  3011.70365483,\n",
              "        8539.7942199 ,  7848.78289927,  7848.78289927, 10612.8281818 ,\n",
              "        3011.70365483,  5775.74893737,  8539.7942199 ,  7848.78289927,\n",
              "        8539.7942199 ,  7848.78289927,  7157.77157863,  7848.78289927,\n",
              "        5775.74893737, 10612.8281818 ,  9921.81686117,  7848.78289927,\n",
              "       10612.8281818 ,  5775.74893737,  8539.7942199 ,  8539.7942199 ,\n",
              "        8539.7942199 ,  7848.78289927,  5775.74893737,  5775.74893737,\n",
              "        7848.78289927,  5775.74893737,  5775.74893737,  7157.77157863,\n",
              "        8539.7942199 ,  3011.70365483, 10612.8281818 , 10612.8281818 ,\n",
              "        5775.74893737,  5775.74893737,  3011.70365483,  8539.7942199 ,\n",
              "        7848.78289927,  8539.7942199 ,  7848.78289927,  3011.70365483,\n",
              "        7848.78289927,  7848.78289927,  7848.78289927, 10612.8281818 ,\n",
              "        7848.78289927,  7848.78289927,  7848.78289927,  9230.80554053,\n",
              "       10612.8281818 ,  5775.74893737,  7848.78289927,  9230.80554053,\n",
              "        5775.74893737,  7848.78289927, 10612.8281818 , 10612.8281818 ,\n",
              "        5775.74893737,  7848.78289927,  7848.78289927,  7848.78289927,\n",
              "        7848.78289927, 10612.8281818 ,  7848.78289927,  7848.78289927,\n",
              "        7848.78289927,  3011.70365483,  7848.78289927,  5775.74893737,\n",
              "        5775.74893737,  5775.74893737,  3011.70365483,  3011.70365483,\n",
              "        7848.78289927,  5775.74893737,  8539.7942199 ,  3011.70365483,\n",
              "        5775.74893737,  5775.74893737,  5775.74893737,  5775.74893737,\n",
              "        5775.74893737,  5775.74893737,  5775.74893737,  5775.74893737,\n",
              "        8539.7942199 ,  5775.74893737,  5775.74893737,  5775.74893737,\n",
              "        5775.74893737,  7848.78289927,  7848.78289927,  7848.78289927,\n",
              "        3011.70365483,  5775.74893737,  5775.74893737,  7848.78289927,\n",
              "        5775.74893737,  5775.74893737,  5775.74893737,  5775.74893737,\n",
              "        5775.74893737,  5775.74893737,  3011.70365483,  5775.74893737,\n",
              "        8539.7942199 ,  5775.74893737,  5775.74893737,  5775.74893737,\n",
              "        5775.74893737,  3011.70365483,  3011.70365483,  7848.78289927,\n",
              "        5775.74893737,  3011.70365483,  8539.7942199 ,  5775.74893737,\n",
              "        3011.70365483,  5775.74893737,  5775.74893737,  5775.74893737,\n",
              "        7848.78289927,  5775.74893737,  3011.70365483,  3011.70365483,\n",
              "        5775.74893737,  5775.74893737,  7848.78289927,  3011.70365483,\n",
              "        7848.78289927,  5775.74893737,  3011.70365483,  7848.78289927,\n",
              "        5775.74893737,  5775.74893737,  8539.7942199 ,  7848.78289927,\n",
              "        3011.70365483,  5775.74893737,  5775.74893737,  3011.70365483,\n",
              "        5775.74893737,  3011.70365483,  5775.74893737,  5775.74893737,\n",
              "        5775.74893737,  3011.70365483,  5775.74893737,  5775.74893737,\n",
              "        5775.74893737,  5775.74893737,  5775.74893737,  8539.7942199 ,\n",
              "        3011.70365483,  5775.74893737,  8539.7942199 ,  5775.74893737,\n",
              "        5775.74893737,  5775.74893737,  5775.74893737,  7848.78289927,\n",
              "        5775.74893737,  3011.70365483,  3011.70365483,  5775.74893737,\n",
              "        3011.70365483,  5775.74893737,  5775.74893737,  5775.74893737,\n",
              "        9230.80554053,  7848.78289927,  5775.74893737,  5775.74893737,\n",
              "        5775.74893737,  8539.7942199 ,  8539.7942199 ,  5775.74893737,\n",
              "        8539.7942199 ,  8539.7942199 ,  5775.74893737,  5775.74893737,\n",
              "        5775.74893737,  5775.74893737,  7848.78289927,  5775.74893737,\n",
              "        8539.7942199 ,  5775.74893737,  5775.74893737,  7848.78289927,\n",
              "        8539.7942199 ,  5775.74893737,  8539.7942199 ,  3011.70365483,\n",
              "        5775.74893737,  5775.74893737,  7848.78289927,  5775.74893737,\n",
              "        3011.70365483,  5775.74893737,  5775.74893737,  5775.74893737,\n",
              "        5775.74893737,  8539.7942199 ,  7848.78289927,  8539.7942199 ,\n",
              "        5775.74893737,  8539.7942199 ,  7848.78289927,  7848.78289927,\n",
              "        7848.78289927,  5775.74893737,  5775.74893737,  5775.74893737,\n",
              "        8539.7942199 ,  5775.74893737,  7848.78289927,  8539.7942199 ,\n",
              "        5775.74893737,  5775.74893737,  8539.7942199 ,  5775.74893737,\n",
              "        3011.70365483,  5775.74893737,  5775.74893737,  5775.74893737,\n",
              "        8539.7942199 ,  5775.74893737,  8539.7942199 ,  5775.74893737,\n",
              "        7848.78289927,  7848.78289927,  5775.74893737,  5775.74893737,\n",
              "        5775.74893737,  5775.74893737,  5775.74893737,  3011.70365483,\n",
              "        5775.74893737,  7848.78289927,  3011.70365483,  3011.70365483,\n",
              "        5775.74893737,  5775.74893737,  5775.74893737,  5775.74893737,\n",
              "        8539.7942199 ,  5775.74893737,  3011.70365483,  3011.70365483,\n",
              "        7848.78289927,  5775.74893737,  5775.74893737,  7848.78289927,\n",
              "        3011.70365483,  3011.70365483,  7848.78289927,  3011.70365483,\n",
              "        9230.80554053,  3011.70365483,  5775.74893737,  7848.78289927,\n",
              "        8539.7942199 ,  7848.78289927,  5775.74893737,  5775.74893737,\n",
              "        7848.78289927,  9230.80554053,  7848.78289927,  5775.74893737,\n",
              "        7848.78289927,  7848.78289927,  5775.74893737,  5775.74893737,\n",
              "        5775.74893737,  5775.74893737,  5775.74893737,  7848.78289927,\n",
              "        5775.74893737,  5775.74893737,  5775.74893737,  7848.78289927,\n",
              "        5775.74893737,  9230.80554053,  7848.78289927,  5775.74893737,\n",
              "        9921.81686117,  5775.74893737,  8539.7942199 ,  3011.70365483,\n",
              "        5775.74893737,  7848.78289927,  8539.7942199 ,  3011.70365483,\n",
              "        5775.74893737,  5775.74893737,  7848.78289927,  7157.77157863,\n",
              "        7848.78289927,  7848.78289927,  3011.70365483,  3011.70365483,\n",
              "        3011.70365483,  5775.74893737,  8539.7942199 , 10612.8281818 ,\n",
              "        7848.78289927,  7848.78289927,  5775.74893737,  7848.78289927,\n",
              "        5775.74893737,  3011.70365483,  7848.78289927,  5775.74893737,\n",
              "        7848.78289927,  5775.74893737,  7848.78289927,  5775.74893737,\n",
              "        5775.74893737,  5775.74893737,  5775.74893737,  7848.78289927,\n",
              "        5775.74893737,  5775.74893737,  8539.7942199 ,  5775.74893737,\n",
              "        5775.74893737,  5775.74893737,  5775.74893737,  5775.74893737,\n",
              "        3011.70365483,  5775.74893737,  5775.74893737,  8539.7942199 ,\n",
              "        7848.78289927,  5775.74893737,  7848.78289927,  3011.70365483,\n",
              "        5775.74893737,  5775.74893737,  5775.74893737,  7848.78289927,\n",
              "        5775.74893737,  5775.74893737,  5775.74893737,  5775.74893737,\n",
              "        5775.74893737,  5775.74893737])"
            ]
          },
          "metadata": {
            "tags": []
          },
          "execution_count": 60
        }
      ]
    },
    {
      "cell_type": "code",
      "metadata": {
        "id": "HKCKzll2xyst",
        "outputId": "7dceb32d-9205-4e98-a2a6-54b46dc5bf76",
        "colab": {
          "base_uri": "https://localhost:8080/",
          "height": 204
        }
      },
      "source": [
        "salario['previsao'] = previsao\n",
        "salario.head()"
      ],
      "execution_count": null,
      "outputs": [
        {
          "output_type": "execute_result",
          "data": {
            "text/html": [
              "<div>\n",
              "<style scoped>\n",
              "    .dataframe tbody tr th:only-of-type {\n",
              "        vertical-align: middle;\n",
              "    }\n",
              "\n",
              "    .dataframe tbody tr th {\n",
              "        vertical-align: top;\n",
              "    }\n",
              "\n",
              "    .dataframe thead th {\n",
              "        text-align: right;\n",
              "    }\n",
              "</style>\n",
              "<table border=\"1\" class=\"dataframe\">\n",
              "  <thead>\n",
              "    <tr style=\"text-align: right;\">\n",
              "      <th></th>\n",
              "      <th>salbeg</th>\n",
              "      <th>time</th>\n",
              "      <th>age</th>\n",
              "      <th>edlevel</th>\n",
              "      <th>previsao</th>\n",
              "    </tr>\n",
              "  </thead>\n",
              "  <tbody>\n",
              "    <tr>\n",
              "      <th>0</th>\n",
              "      <td>8400</td>\n",
              "      <td>81</td>\n",
              "      <td>28.50</td>\n",
              "      <td>16</td>\n",
              "      <td>8539.794220</td>\n",
              "    </tr>\n",
              "    <tr>\n",
              "      <th>1</th>\n",
              "      <td>24000</td>\n",
              "      <td>73</td>\n",
              "      <td>40.33</td>\n",
              "      <td>16</td>\n",
              "      <td>8539.794220</td>\n",
              "    </tr>\n",
              "    <tr>\n",
              "      <th>2</th>\n",
              "      <td>10200</td>\n",
              "      <td>83</td>\n",
              "      <td>31.08</td>\n",
              "      <td>15</td>\n",
              "      <td>7848.782899</td>\n",
              "    </tr>\n",
              "    <tr>\n",
              "      <th>3</th>\n",
              "      <td>8700</td>\n",
              "      <td>93</td>\n",
              "      <td>31.17</td>\n",
              "      <td>16</td>\n",
              "      <td>8539.794220</td>\n",
              "    </tr>\n",
              "    <tr>\n",
              "      <th>4</th>\n",
              "      <td>17400</td>\n",
              "      <td>83</td>\n",
              "      <td>41.92</td>\n",
              "      <td>19</td>\n",
              "      <td>10612.828182</td>\n",
              "    </tr>\n",
              "  </tbody>\n",
              "</table>\n",
              "</div>"
            ],
            "text/plain": [
              "   salbeg  time    age  edlevel      previsao\n",
              "0    8400    81  28.50       16   8539.794220\n",
              "1   24000    73  40.33       16   8539.794220\n",
              "2   10200    83  31.08       15   7848.782899\n",
              "3    8700    93  31.17       16   8539.794220\n",
              "4   17400    83  41.92       19  10612.828182"
            ]
          },
          "metadata": {
            "tags": []
          },
          "execution_count": 61
        }
      ]
    },
    {
      "cell_type": "code",
      "metadata": {
        "id": "EeuIGfbmyDFj",
        "outputId": "b1b0b85c-ca14-402d-fb26-fd77d6e6f094",
        "colab": {
          "base_uri": "https://localhost:8080/",
          "height": 204
        }
      },
      "source": [
        "salario['erro'] = salario.salbeg - salario.previsao\n",
        "salario.head()"
      ],
      "execution_count": null,
      "outputs": [
        {
          "output_type": "execute_result",
          "data": {
            "text/html": [
              "<div>\n",
              "<style scoped>\n",
              "    .dataframe tbody tr th:only-of-type {\n",
              "        vertical-align: middle;\n",
              "    }\n",
              "\n",
              "    .dataframe tbody tr th {\n",
              "        vertical-align: top;\n",
              "    }\n",
              "\n",
              "    .dataframe thead th {\n",
              "        text-align: right;\n",
              "    }\n",
              "</style>\n",
              "<table border=\"1\" class=\"dataframe\">\n",
              "  <thead>\n",
              "    <tr style=\"text-align: right;\">\n",
              "      <th></th>\n",
              "      <th>salbeg</th>\n",
              "      <th>time</th>\n",
              "      <th>age</th>\n",
              "      <th>edlevel</th>\n",
              "      <th>previsao</th>\n",
              "      <th>erro</th>\n",
              "    </tr>\n",
              "  </thead>\n",
              "  <tbody>\n",
              "    <tr>\n",
              "      <th>0</th>\n",
              "      <td>8400</td>\n",
              "      <td>81</td>\n",
              "      <td>28.50</td>\n",
              "      <td>16</td>\n",
              "      <td>8539.794220</td>\n",
              "      <td>-139.794220</td>\n",
              "    </tr>\n",
              "    <tr>\n",
              "      <th>1</th>\n",
              "      <td>24000</td>\n",
              "      <td>73</td>\n",
              "      <td>40.33</td>\n",
              "      <td>16</td>\n",
              "      <td>8539.794220</td>\n",
              "      <td>15460.205780</td>\n",
              "    </tr>\n",
              "    <tr>\n",
              "      <th>2</th>\n",
              "      <td>10200</td>\n",
              "      <td>83</td>\n",
              "      <td>31.08</td>\n",
              "      <td>15</td>\n",
              "      <td>7848.782899</td>\n",
              "      <td>2351.217101</td>\n",
              "    </tr>\n",
              "    <tr>\n",
              "      <th>3</th>\n",
              "      <td>8700</td>\n",
              "      <td>93</td>\n",
              "      <td>31.17</td>\n",
              "      <td>16</td>\n",
              "      <td>8539.794220</td>\n",
              "      <td>160.205780</td>\n",
              "    </tr>\n",
              "    <tr>\n",
              "      <th>4</th>\n",
              "      <td>17400</td>\n",
              "      <td>83</td>\n",
              "      <td>41.92</td>\n",
              "      <td>19</td>\n",
              "      <td>10612.828182</td>\n",
              "      <td>6787.171818</td>\n",
              "    </tr>\n",
              "  </tbody>\n",
              "</table>\n",
              "</div>"
            ],
            "text/plain": [
              "   salbeg  time    age  edlevel      previsao          erro\n",
              "0    8400    81  28.50       16   8539.794220   -139.794220\n",
              "1   24000    73  40.33       16   8539.794220  15460.205780\n",
              "2   10200    83  31.08       15   7848.782899   2351.217101\n",
              "3    8700    93  31.17       16   8539.794220    160.205780\n",
              "4   17400    83  41.92       19  10612.828182   6787.171818"
            ]
          },
          "metadata": {
            "tags": []
          },
          "execution_count": 62
        }
      ]
    },
    {
      "cell_type": "code",
      "metadata": {
        "id": "NXGNX17tyRNg",
        "outputId": "3eeafa4d-c591-45d9-b161-cc1c498a5e63",
        "colab": {
          "base_uri": "https://localhost:8080/",
          "height": 297
        }
      },
      "source": [
        "salario.describe()"
      ],
      "execution_count": null,
      "outputs": [
        {
          "output_type": "execute_result",
          "data": {
            "text/html": [
              "<div>\n",
              "<style scoped>\n",
              "    .dataframe tbody tr th:only-of-type {\n",
              "        vertical-align: middle;\n",
              "    }\n",
              "\n",
              "    .dataframe tbody tr th {\n",
              "        vertical-align: top;\n",
              "    }\n",
              "\n",
              "    .dataframe thead th {\n",
              "        text-align: right;\n",
              "    }\n",
              "</style>\n",
              "<table border=\"1\" class=\"dataframe\">\n",
              "  <thead>\n",
              "    <tr style=\"text-align: right;\">\n",
              "      <th></th>\n",
              "      <th>salbeg</th>\n",
              "      <th>time</th>\n",
              "      <th>age</th>\n",
              "      <th>edlevel</th>\n",
              "      <th>previsao</th>\n",
              "      <th>erro</th>\n",
              "    </tr>\n",
              "  </thead>\n",
              "  <tbody>\n",
              "    <tr>\n",
              "      <th>count</th>\n",
              "      <td>474.000000</td>\n",
              "      <td>474.000000</td>\n",
              "      <td>474.000000</td>\n",
              "      <td>474.000000</td>\n",
              "      <td>474.000000</td>\n",
              "      <td>4.740000e+02</td>\n",
              "    </tr>\n",
              "    <tr>\n",
              "      <th>mean</th>\n",
              "      <td>6806.434599</td>\n",
              "      <td>81.109705</td>\n",
              "      <td>37.186139</td>\n",
              "      <td>13.491561</td>\n",
              "      <td>6806.434599</td>\n",
              "      <td>1.688513e-13</td>\n",
              "    </tr>\n",
              "    <tr>\n",
              "      <th>std</th>\n",
              "      <td>3148.255262</td>\n",
              "      <td>10.060945</td>\n",
              "      <td>11.787242</td>\n",
              "      <td>2.884846</td>\n",
              "      <td>1993.461525</td>\n",
              "      <td>2.436724e+03</td>\n",
              "    </tr>\n",
              "    <tr>\n",
              "      <th>min</th>\n",
              "      <td>3600.000000</td>\n",
              "      <td>63.000000</td>\n",
              "      <td>23.000000</td>\n",
              "      <td>8.000000</td>\n",
              "      <td>3011.703655</td>\n",
              "      <td>-4.248783e+03</td>\n",
              "    </tr>\n",
              "    <tr>\n",
              "      <th>25%</th>\n",
              "      <td>4995.000000</td>\n",
              "      <td>72.000000</td>\n",
              "      <td>28.500000</td>\n",
              "      <td>12.000000</td>\n",
              "      <td>5775.748937</td>\n",
              "      <td>-1.422041e+03</td>\n",
              "    </tr>\n",
              "    <tr>\n",
              "      <th>50%</th>\n",
              "      <td>6000.000000</td>\n",
              "      <td>81.000000</td>\n",
              "      <td>32.000000</td>\n",
              "      <td>12.000000</td>\n",
              "      <td>5775.748937</td>\n",
              "      <td>-5.577716e+02</td>\n",
              "    </tr>\n",
              "    <tr>\n",
              "      <th>75%</th>\n",
              "      <td>6996.000000</td>\n",
              "      <td>90.000000</td>\n",
              "      <td>45.980000</td>\n",
              "      <td>15.000000</td>\n",
              "      <td>7848.782899</td>\n",
              "      <td>8.684416e+02</td>\n",
              "    </tr>\n",
              "    <tr>\n",
              "      <th>max</th>\n",
              "      <td>31992.000000</td>\n",
              "      <td>98.000000</td>\n",
              "      <td>64.500000</td>\n",
              "      <td>21.000000</td>\n",
              "      <td>11994.850823</td>\n",
              "      <td>2.137917e+04</td>\n",
              "    </tr>\n",
              "  </tbody>\n",
              "</table>\n",
              "</div>"
            ],
            "text/plain": [
              "             salbeg        time  ...      previsao          erro\n",
              "count    474.000000  474.000000  ...    474.000000  4.740000e+02\n",
              "mean    6806.434599   81.109705  ...   6806.434599  1.688513e-13\n",
              "std     3148.255262   10.060945  ...   1993.461525  2.436724e+03\n",
              "min     3600.000000   63.000000  ...   3011.703655 -4.248783e+03\n",
              "25%     4995.000000   72.000000  ...   5775.748937 -1.422041e+03\n",
              "50%     6000.000000   81.000000  ...   5775.748937 -5.577716e+02\n",
              "75%     6996.000000   90.000000  ...   7848.782899  8.684416e+02\n",
              "max    31992.000000   98.000000  ...  11994.850823  2.137917e+04\n",
              "\n",
              "[8 rows x 6 columns]"
            ]
          },
          "metadata": {
            "tags": []
          },
          "execution_count": 65
        }
      ]
    },
    {
      "cell_type": "code",
      "metadata": {
        "id": "BYMPxonSyYGi",
        "outputId": "8b30e8cd-b261-4bb6-dc82-a596ad9ac422",
        "colab": {
          "base_uri": "https://localhost:8080/",
          "height": 401
        }
      },
      "source": [
        "plt.boxplot(salario.erro)"
      ],
      "execution_count": null,
      "outputs": [
        {
          "output_type": "execute_result",
          "data": {
            "text/plain": [
              "{'boxes': [<matplotlib.lines.Line2D at 0x7fa8e7c65128>],\n",
              " 'caps': [<matplotlib.lines.Line2D at 0x7fa8e7c65b38>,\n",
              "  <matplotlib.lines.Line2D at 0x7fa8e7c65eb8>],\n",
              " 'fliers': [<matplotlib.lines.Line2D at 0x7fa8e7c705f8>],\n",
              " 'means': [],\n",
              " 'medians': [<matplotlib.lines.Line2D at 0x7fa8e7c70278>],\n",
              " 'whiskers': [<matplotlib.lines.Line2D at 0x7fa8e7c65438>,\n",
              "  <matplotlib.lines.Line2D at 0x7fa8e7c657b8>]}"
            ]
          },
          "metadata": {
            "tags": []
          },
          "execution_count": 66
        },
        {
          "output_type": "display_data",
          "data": {
            "image/png": "[encoded data removed]",
            "text/plain": [
              "<Figure size 432x288 with 1 Axes>"
            ]
          },
          "metadata": {
            "tags": [],
            "needs_background": "light"
          }
        }
      ]
    }
  ]
}