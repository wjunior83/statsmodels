{
  "nbformat": 4,
  "nbformat_minor": 0,
  "metadata": {
    "colab": {
      "name": "Lista_Python.ipynb",
      "provenance": [],
      "collapsed_sections": [],
      "authorship_tag": "ABX9TyNvsZXUtrOLk6l4eUi59Xai",
      "include_colab_link": true
    },
    "kernelspec": {
      "name": "python3",
      "display_name": "Python 3"
    }
  },
  "cells": [
    {
      "cell_type": "markdown",
      "metadata": {
        "id": "view-in-github",
        "colab_type": "text"
      },
      "source": [
        "<a href=\"https://colab.research.google.com/github/wjunior83/statsmodels/blob/master/Lista_Python.ipynb\" target=\"_parent\"><img src=\"https://colab.research.google.com/assets/colab-badge.svg\" alt=\"Open In Colab\"/></a>"
      ]
    },
    {
      "cell_type": "code",
      "metadata": {
        "id": "jnlmkoIObimm",
        "outputId": "8ccbcb1d-d1a6-46b2-d96d-8368a71a5507",
        "colab": {
          "base_uri": "https://localhost:8080/",
          "height": 71
        }
      },
      "source": [
        "#Importando bibliotecas\n",
        "import pandas as pd\n",
        "import statsmodels.api as sm\n",
        "import math"
      ],
      "execution_count": 1,
      "outputs": [
        {
          "output_type": "stream",
          "text": [
            "/usr/local/lib/python3.6/dist-packages/statsmodels/tools/_testing.py:19: FutureWarning: pandas.util.testing is deprecated. Use the functions in the public API at pandas.testing instead.\n",
            "  import pandas.util.testing as tm\n"
          ],
          "name": "stderr"
        }
      ]
    },
    {
      "cell_type": "code",
      "metadata": {
        "id": "h8sVetMPcejT"
      },
      "source": [
        "#Lendo arquivo cadastral\n",
        "cadastral = pd.read_excel('/content/cadastral.xlsx')"
      ],
      "execution_count": 4,
      "outputs": []
    },
    {
      "cell_type": "code",
      "metadata": {
        "id": "i03drl6Ics3j",
        "outputId": "dce0526d-29e4-4c77-bd15-53af678ef2c8",
        "colab": {
          "base_uri": "https://localhost:8080/",
          "height": 68
        }
      },
      "source": [
        "#1 - Tire uma tabela de frequência na variável Sexo\n",
        "cadastral[\"Sexo\"].value_counts()"
      ],
      "execution_count": 11,
      "outputs": [
        {
          "output_type": "execute_result",
          "data": {
            "text/plain": [
              "Masculino    514\n",
              "Feminino     432\n",
              "Name: Sexo, dtype: int64"
            ]
          },
          "metadata": {
            "tags": []
          },
          "execution_count": 11
        }
      ]
    },
    {
      "cell_type": "code",
      "metadata": {
        "id": "RcRUefj-dSRL",
        "outputId": "455bcb09-4112-469d-f8eb-52664521e400",
        "colab": {
          "base_uri": "https://localhost:8080/",
          "height": 419
        }
      },
      "source": [
        "#2 - Ordenar o arquivo pela variável ID\n",
        "cadastral.sort_values(by='ID')"
      ],
      "execution_count": 13,
      "outputs": [
        {
          "output_type": "execute_result",
          "data": {
            "text/html": [
              "<div>\n",
              "<style scoped>\n",
              "    .dataframe tbody tr th:only-of-type {\n",
              "        vertical-align: middle;\n",
              "    }\n",
              "\n",
              "    .dataframe tbody tr th {\n",
              "        vertical-align: top;\n",
              "    }\n",
              "\n",
              "    .dataframe thead th {\n",
              "        text-align: right;\n",
              "    }\n",
              "</style>\n",
              "<table border=\"1\" class=\"dataframe\">\n",
              "  <thead>\n",
              "    <tr style=\"text-align: right;\">\n",
              "      <th></th>\n",
              "      <th>ID</th>\n",
              "      <th>DataNascimento</th>\n",
              "      <th>Sexo</th>\n",
              "      <th>TempodeServiço</th>\n",
              "      <th>EstadoCivil</th>\n",
              "      <th>NumerodeFilhos</th>\n",
              "      <th>TempodeResidencia</th>\n",
              "      <th>Conta</th>\n",
              "      <th>salario</th>\n",
              "    </tr>\n",
              "  </thead>\n",
              "  <tbody>\n",
              "    <tr>\n",
              "      <th>0</th>\n",
              "      <td>1</td>\n",
              "      <td>1952-02-03</td>\n",
              "      <td>Masculino</td>\n",
              "      <td>98</td>\n",
              "      <td>3</td>\n",
              "      <td>0</td>\n",
              "      <td>7</td>\n",
              "      <td>Particular</td>\n",
              "      <td>5700.0</td>\n",
              "    </tr>\n",
              "    <tr>\n",
              "      <th>473</th>\n",
              "      <td>1</td>\n",
              "      <td>1952-02-03</td>\n",
              "      <td>Masculino</td>\n",
              "      <td>98</td>\n",
              "      <td>3</td>\n",
              "      <td>0</td>\n",
              "      <td>7</td>\n",
              "      <td>Particular</td>\n",
              "      <td>5700.0</td>\n",
              "    </tr>\n",
              "    <tr>\n",
              "      <th>1</th>\n",
              "      <td>2</td>\n",
              "      <td>1958-05-23</td>\n",
              "      <td>Masculino</td>\n",
              "      <td>98</td>\n",
              "      <td>3</td>\n",
              "      <td>0</td>\n",
              "      <td>43</td>\n",
              "      <td>Particular</td>\n",
              "      <td>4020.0</td>\n",
              "    </tr>\n",
              "    <tr>\n",
              "      <th>474</th>\n",
              "      <td>2</td>\n",
              "      <td>1958-05-23</td>\n",
              "      <td>Masculino</td>\n",
              "      <td>98</td>\n",
              "      <td>3</td>\n",
              "      <td>0</td>\n",
              "      <td>43</td>\n",
              "      <td>Particular</td>\n",
              "      <td>4020.0</td>\n",
              "    </tr>\n",
              "    <tr>\n",
              "      <th>2</th>\n",
              "      <td>3</td>\n",
              "      <td>1929-07-26</td>\n",
              "      <td>Feminino</td>\n",
              "      <td>98</td>\n",
              "      <td>1</td>\n",
              "      <td>0</td>\n",
              "      <td>7</td>\n",
              "      <td>empresa</td>\n",
              "      <td>2145.0</td>\n",
              "    </tr>\n",
              "    <tr>\n",
              "      <th>...</th>\n",
              "      <td>...</td>\n",
              "      <td>...</td>\n",
              "      <td>...</td>\n",
              "      <td>...</td>\n",
              "      <td>...</td>\n",
              "      <td>...</td>\n",
              "      <td>...</td>\n",
              "      <td>...</td>\n",
              "      <td>...</td>\n",
              "    </tr>\n",
              "    <tr>\n",
              "      <th>470</th>\n",
              "      <td>472</td>\n",
              "      <td>1966-02-21</td>\n",
              "      <td>Masculino</td>\n",
              "      <td>63</td>\n",
              "      <td>3</td>\n",
              "      <td>0</td>\n",
              "      <td>9</td>\n",
              "      <td>Particular</td>\n",
              "      <td>3915.0</td>\n",
              "    </tr>\n",
              "    <tr>\n",
              "      <th>944</th>\n",
              "      <td>473</td>\n",
              "      <td>1937-11-25</td>\n",
              "      <td>Feminino</td>\n",
              "      <td>63</td>\n",
              "      <td>3</td>\n",
              "      <td>0</td>\n",
              "      <td>29</td>\n",
              "      <td>empresa</td>\n",
              "      <td>2145.0</td>\n",
              "    </tr>\n",
              "    <tr>\n",
              "      <th>471</th>\n",
              "      <td>473</td>\n",
              "      <td>1937-11-25</td>\n",
              "      <td>Feminino</td>\n",
              "      <td>63</td>\n",
              "      <td>3</td>\n",
              "      <td>0</td>\n",
              "      <td>29</td>\n",
              "      <td>empresa</td>\n",
              "      <td>2145.0</td>\n",
              "    </tr>\n",
              "    <tr>\n",
              "      <th>472</th>\n",
              "      <td>474</td>\n",
              "      <td>1968-11-05</td>\n",
              "      <td>Feminino</td>\n",
              "      <td>63</td>\n",
              "      <td>2</td>\n",
              "      <td>6</td>\n",
              "      <td>12</td>\n",
              "      <td>empresa</td>\n",
              "      <td>2940.0</td>\n",
              "    </tr>\n",
              "    <tr>\n",
              "      <th>945</th>\n",
              "      <td>474</td>\n",
              "      <td>1968-11-05</td>\n",
              "      <td>Feminino</td>\n",
              "      <td>63</td>\n",
              "      <td>2</td>\n",
              "      <td>6</td>\n",
              "      <td>12</td>\n",
              "      <td>empresa</td>\n",
              "      <td>2940.0</td>\n",
              "    </tr>\n",
              "  </tbody>\n",
              "</table>\n",
              "<p>946 rows × 9 columns</p>\n",
              "</div>"
            ],
            "text/plain": [
              "      ID DataNascimento       Sexo  ...  TempodeResidencia       Conta  salario\n",
              "0      1     1952-02-03  Masculino  ...                  7  Particular   5700.0\n",
              "473    1     1952-02-03  Masculino  ...                  7  Particular   5700.0\n",
              "1      2     1958-05-23  Masculino  ...                 43  Particular   4020.0\n",
              "474    2     1958-05-23  Masculino  ...                 43  Particular   4020.0\n",
              "2      3     1929-07-26   Feminino  ...                  7     empresa   2145.0\n",
              "..   ...            ...        ...  ...                ...         ...      ...\n",
              "470  472     1966-02-21  Masculino  ...                  9  Particular   3915.0\n",
              "944  473     1937-11-25   Feminino  ...                 29     empresa   2145.0\n",
              "471  473     1937-11-25   Feminino  ...                 29     empresa   2145.0\n",
              "472  474     1968-11-05   Feminino  ...                 12     empresa   2940.0\n",
              "945  474     1968-11-05   Feminino  ...                 12     empresa   2940.0\n",
              "\n",
              "[946 rows x 9 columns]"
            ]
          },
          "metadata": {
            "tags": []
          },
          "execution_count": 13
        }
      ]
    },
    {
      "cell_type": "code",
      "metadata": {
        "id": "_K3RJGj3dkSw",
        "outputId": "b1ecf5de-17b7-4e24-de6e-ae683b47e290",
        "colab": {
          "base_uri": "https://localhost:8080/",
          "height": 34
        }
      },
      "source": [
        "#6 - Verifique se a variável salario é numérica\n",
        "cadastral[\"salario\"].dtypes"
      ],
      "execution_count": 17,
      "outputs": [
        {
          "output_type": "execute_result",
          "data": {
            "text/plain": [
              "dtype('float64')"
            ]
          },
          "metadata": {
            "tags": []
          },
          "execution_count": 17
        }
      ]
    },
    {
      "cell_type": "code",
      "metadata": {
        "id": "g-IaH4aGgJtm",
        "outputId": "1945040a-0cab-4c00-c4ee-426c4ee1e5d3",
        "colab": {
          "base_uri": "https://localhost:8080/",
          "height": 170
        }
      },
      "source": [
        "#7 - Mostre o mínimo e o máximo da variável salario\n",
        "cadastral[\"salario\"].describe()"
      ],
      "execution_count": 34,
      "outputs": [
        {
          "output_type": "execute_result",
          "data": {
            "text/plain": [
              "count      946.000000\n",
              "mean      3441.844609\n",
              "std       1708.467635\n",
              "min       1575.000000\n",
              "25%       2400.000000\n",
              "50%       2880.000000\n",
              "75%       3705.000000\n",
              "max      13500.000000\n",
              "Name: salario, dtype: float64"
            ]
          },
          "metadata": {
            "tags": []
          },
          "execution_count": 34
        }
      ]
    },
    {
      "cell_type": "code",
      "metadata": {
        "id": "aAve2DvejWoX"
      },
      "source": [
        "#8 - criando as quebras\n",
        "bins = [1574,3000,5000,7000,13500]"
      ],
      "execution_count": 36,
      "outputs": []
    },
    {
      "cell_type": "code",
      "metadata": {
        "id": "VAVsHziijj2x"
      },
      "source": [
        "#8 - criando as labels\n",
        "grupo = ['faixa1','faixa2','faixa3','faixa4']"
      ],
      "execution_count": 39,
      "outputs": []
    },
    {
      "cell_type": "code",
      "metadata": {
        "id": "kUZBXzCKhvjt",
        "outputId": "85d64a72-7ec0-4b13-d7b9-a9cd27e7da1d",
        "colab": {
          "base_uri": "https://localhost:8080/",
          "height": 204
        }
      },
      "source": [
        "#8 - Crie uma variável faixa de salario com as seguintes quebras: 1574, 3000, 5000, 7000, 13500\n",
        "cadastral[\"Fx_Salarial\"] = pd.cut(cadastral['salario'], bins, labels = grupo)\n",
        "cadastral.head()"
      ],
      "execution_count": 41,
      "outputs": [
        {
          "output_type": "execute_result",
          "data": {
            "text/html": [
              "<div>\n",
              "<style scoped>\n",
              "    .dataframe tbody tr th:only-of-type {\n",
              "        vertical-align: middle;\n",
              "    }\n",
              "\n",
              "    .dataframe tbody tr th {\n",
              "        vertical-align: top;\n",
              "    }\n",
              "\n",
              "    .dataframe thead th {\n",
              "        text-align: right;\n",
              "    }\n",
              "</style>\n",
              "<table border=\"1\" class=\"dataframe\">\n",
              "  <thead>\n",
              "    <tr style=\"text-align: right;\">\n",
              "      <th></th>\n",
              "      <th>ID</th>\n",
              "      <th>DataNascimento</th>\n",
              "      <th>Sexo</th>\n",
              "      <th>TempodeServiço</th>\n",
              "      <th>EstadoCivil</th>\n",
              "      <th>NumerodeFilhos</th>\n",
              "      <th>TempodeResidencia</th>\n",
              "      <th>Conta</th>\n",
              "      <th>salario</th>\n",
              "      <th>Fx_Salarial</th>\n",
              "    </tr>\n",
              "  </thead>\n",
              "  <tbody>\n",
              "    <tr>\n",
              "      <th>0</th>\n",
              "      <td>1</td>\n",
              "      <td>1952-02-03</td>\n",
              "      <td>Masculino</td>\n",
              "      <td>98</td>\n",
              "      <td>3</td>\n",
              "      <td>0</td>\n",
              "      <td>7</td>\n",
              "      <td>Particular</td>\n",
              "      <td>5700.0</td>\n",
              "      <td>faixa3</td>\n",
              "    </tr>\n",
              "    <tr>\n",
              "      <th>1</th>\n",
              "      <td>2</td>\n",
              "      <td>1958-05-23</td>\n",
              "      <td>Masculino</td>\n",
              "      <td>98</td>\n",
              "      <td>3</td>\n",
              "      <td>0</td>\n",
              "      <td>43</td>\n",
              "      <td>Particular</td>\n",
              "      <td>4020.0</td>\n",
              "      <td>faixa2</td>\n",
              "    </tr>\n",
              "    <tr>\n",
              "      <th>2</th>\n",
              "      <td>3</td>\n",
              "      <td>1929-07-26</td>\n",
              "      <td>Feminino</td>\n",
              "      <td>98</td>\n",
              "      <td>1</td>\n",
              "      <td>0</td>\n",
              "      <td>7</td>\n",
              "      <td>empresa</td>\n",
              "      <td>2145.0</td>\n",
              "      <td>faixa1</td>\n",
              "    </tr>\n",
              "    <tr>\n",
              "      <th>3</th>\n",
              "      <td>4</td>\n",
              "      <td>1947-04-15</td>\n",
              "      <td>Feminino</td>\n",
              "      <td>98</td>\n",
              "      <td>1</td>\n",
              "      <td>0</td>\n",
              "      <td>13</td>\n",
              "      <td>empresa</td>\n",
              "      <td>2190.0</td>\n",
              "      <td>faixa1</td>\n",
              "    </tr>\n",
              "    <tr>\n",
              "      <th>4</th>\n",
              "      <td>5</td>\n",
              "      <td>1955-02-09</td>\n",
              "      <td>Masculino</td>\n",
              "      <td>98</td>\n",
              "      <td>2</td>\n",
              "      <td>3</td>\n",
              "      <td>8</td>\n",
              "      <td>Particular</td>\n",
              "      <td>4500.0</td>\n",
              "      <td>faixa2</td>\n",
              "    </tr>\n",
              "  </tbody>\n",
              "</table>\n",
              "</div>"
            ],
            "text/plain": [
              "   ID DataNascimento       Sexo  ...       Conta  salario  Fx_Salarial\n",
              "0   1     1952-02-03  Masculino  ...  Particular   5700.0       faixa3\n",
              "1   2     1958-05-23  Masculino  ...  Particular   4020.0       faixa2\n",
              "2   3     1929-07-26   Feminino  ...     empresa   2145.0       faixa1\n",
              "3   4     1947-04-15   Feminino  ...     empresa   2190.0       faixa1\n",
              "4   5     1955-02-09  Masculino  ...  Particular   4500.0       faixa2\n",
              "\n",
              "[5 rows x 10 columns]"
            ]
          },
          "metadata": {
            "tags": []
          },
          "execution_count": 41
        }
      ]
    },
    {
      "cell_type": "code",
      "metadata": {
        "id": "n546uT5ojxNH",
        "outputId": "41dd14a4-87d5-479d-fa3b-e95ea89f89c0",
        "colab": {
          "base_uri": "https://localhost:8080/",
          "height": 204
        }
      },
      "source": [
        "#Lendo arquivo transacional\n",
        "transacional = pd.read_excel('/content/transacional.xlsx')\n",
        "transacional.head()"
      ],
      "execution_count": 44,
      "outputs": [
        {
          "output_type": "execute_result",
          "data": {
            "text/html": [
              "<div>\n",
              "<style scoped>\n",
              "    .dataframe tbody tr th:only-of-type {\n",
              "        vertical-align: middle;\n",
              "    }\n",
              "\n",
              "    .dataframe tbody tr th {\n",
              "        vertical-align: top;\n",
              "    }\n",
              "\n",
              "    .dataframe thead th {\n",
              "        text-align: right;\n",
              "    }\n",
              "</style>\n",
              "<table border=\"1\" class=\"dataframe\">\n",
              "  <thead>\n",
              "    <tr style=\"text-align: right;\">\n",
              "      <th></th>\n",
              "      <th>ID</th>\n",
              "      <th>default</th>\n",
              "      <th>default1</th>\n",
              "      <th>QtdaParcelas</th>\n",
              "      <th>Atraso</th>\n",
              "      <th>ValorEmprestimo</th>\n",
              "      <th>QtdaPagas</th>\n",
              "    </tr>\n",
              "  </thead>\n",
              "  <tbody>\n",
              "    <tr>\n",
              "      <th>0</th>\n",
              "      <td>1</td>\n",
              "      <td>Adimplente</td>\n",
              "      <td>0</td>\n",
              "      <td>19</td>\n",
              "      <td>Sim</td>\n",
              "      <td>665</td>\n",
              "      <td>6</td>\n",
              "    </tr>\n",
              "    <tr>\n",
              "      <th>1</th>\n",
              "      <td>2</td>\n",
              "      <td>Adimplente</td>\n",
              "      <td>0</td>\n",
              "      <td>33</td>\n",
              "      <td>Não</td>\n",
              "      <td>950</td>\n",
              "      <td>11</td>\n",
              "    </tr>\n",
              "    <tr>\n",
              "      <th>2</th>\n",
              "      <td>3</td>\n",
              "      <td>Adimplente</td>\n",
              "      <td>0</td>\n",
              "      <td>20</td>\n",
              "      <td>Não</td>\n",
              "      <td>700</td>\n",
              "      <td>6</td>\n",
              "    </tr>\n",
              "    <tr>\n",
              "      <th>3</th>\n",
              "      <td>4</td>\n",
              "      <td>Adimplente</td>\n",
              "      <td>0</td>\n",
              "      <td>21</td>\n",
              "      <td>Sim</td>\n",
              "      <td>735</td>\n",
              "      <td>7</td>\n",
              "    </tr>\n",
              "    <tr>\n",
              "      <th>4</th>\n",
              "      <td>5</td>\n",
              "      <td>Adimplente</td>\n",
              "      <td>0</td>\n",
              "      <td>18</td>\n",
              "      <td>Sim</td>\n",
              "      <td>630</td>\n",
              "      <td>6</td>\n",
              "    </tr>\n",
              "  </tbody>\n",
              "</table>\n",
              "</div>"
            ],
            "text/plain": [
              "   ID     default  default1  QtdaParcelas Atraso  ValorEmprestimo  QtdaPagas\n",
              "0   1  Adimplente         0            19    Sim              665          6\n",
              "1   2  Adimplente         0            33    Não              950         11\n",
              "2   3  Adimplente         0            20    Não              700          6\n",
              "3   4  Adimplente         0            21    Sim              735          7\n",
              "4   5  Adimplente         0            18    Sim              630          6"
            ]
          },
          "metadata": {
            "tags": []
          },
          "execution_count": 44
        }
      ]
    },
    {
      "cell_type": "code",
      "metadata": {
        "id": "c8OizxkpkapV",
        "outputId": "9ed095e4-d279-49d9-cbe3-ae6d87a85b44",
        "colab": {
          "base_uri": "https://localhost:8080/",
          "height": 224
        }
      },
      "source": [
        "#11 - Crie um arquivo chamado consolidado e faça uma união dos arquivos cadastral e Transacional através do Left join\n",
        "consolidado = pd.merge(cadastral, transacional, on='ID')\n",
        "consolidado.head()"
      ],
      "execution_count": 48,
      "outputs": [
        {
          "output_type": "execute_result",
          "data": {
            "text/html": [
              "<div>\n",
              "<style scoped>\n",
              "    .dataframe tbody tr th:only-of-type {\n",
              "        vertical-align: middle;\n",
              "    }\n",
              "\n",
              "    .dataframe tbody tr th {\n",
              "        vertical-align: top;\n",
              "    }\n",
              "\n",
              "    .dataframe thead th {\n",
              "        text-align: right;\n",
              "    }\n",
              "</style>\n",
              "<table border=\"1\" class=\"dataframe\">\n",
              "  <thead>\n",
              "    <tr style=\"text-align: right;\">\n",
              "      <th></th>\n",
              "      <th>ID</th>\n",
              "      <th>DataNascimento</th>\n",
              "      <th>Sexo</th>\n",
              "      <th>TempodeServiço</th>\n",
              "      <th>EstadoCivil</th>\n",
              "      <th>NumerodeFilhos</th>\n",
              "      <th>TempodeResidencia</th>\n",
              "      <th>Conta</th>\n",
              "      <th>salario</th>\n",
              "      <th>Fx_Salarial</th>\n",
              "      <th>default</th>\n",
              "      <th>default1</th>\n",
              "      <th>QtdaParcelas</th>\n",
              "      <th>Atraso</th>\n",
              "      <th>ValorEmprestimo</th>\n",
              "      <th>QtdaPagas</th>\n",
              "    </tr>\n",
              "  </thead>\n",
              "  <tbody>\n",
              "    <tr>\n",
              "      <th>0</th>\n",
              "      <td>1</td>\n",
              "      <td>1952-02-03</td>\n",
              "      <td>Masculino</td>\n",
              "      <td>98</td>\n",
              "      <td>3</td>\n",
              "      <td>0</td>\n",
              "      <td>7</td>\n",
              "      <td>Particular</td>\n",
              "      <td>5700.0</td>\n",
              "      <td>faixa3</td>\n",
              "      <td>Adimplente</td>\n",
              "      <td>0</td>\n",
              "      <td>19</td>\n",
              "      <td>Sim</td>\n",
              "      <td>665</td>\n",
              "      <td>6</td>\n",
              "    </tr>\n",
              "    <tr>\n",
              "      <th>1</th>\n",
              "      <td>1</td>\n",
              "      <td>1952-02-03</td>\n",
              "      <td>Masculino</td>\n",
              "      <td>98</td>\n",
              "      <td>3</td>\n",
              "      <td>0</td>\n",
              "      <td>7</td>\n",
              "      <td>Particular</td>\n",
              "      <td>5700.0</td>\n",
              "      <td>faixa3</td>\n",
              "      <td>Adimplente</td>\n",
              "      <td>0</td>\n",
              "      <td>19</td>\n",
              "      <td>Sim</td>\n",
              "      <td>665</td>\n",
              "      <td>6</td>\n",
              "    </tr>\n",
              "    <tr>\n",
              "      <th>2</th>\n",
              "      <td>2</td>\n",
              "      <td>1958-05-23</td>\n",
              "      <td>Masculino</td>\n",
              "      <td>98</td>\n",
              "      <td>3</td>\n",
              "      <td>0</td>\n",
              "      <td>43</td>\n",
              "      <td>Particular</td>\n",
              "      <td>4020.0</td>\n",
              "      <td>faixa2</td>\n",
              "      <td>Adimplente</td>\n",
              "      <td>0</td>\n",
              "      <td>33</td>\n",
              "      <td>Não</td>\n",
              "      <td>950</td>\n",
              "      <td>11</td>\n",
              "    </tr>\n",
              "    <tr>\n",
              "      <th>3</th>\n",
              "      <td>2</td>\n",
              "      <td>1958-05-23</td>\n",
              "      <td>Masculino</td>\n",
              "      <td>98</td>\n",
              "      <td>3</td>\n",
              "      <td>0</td>\n",
              "      <td>43</td>\n",
              "      <td>Particular</td>\n",
              "      <td>4020.0</td>\n",
              "      <td>faixa2</td>\n",
              "      <td>Adimplente</td>\n",
              "      <td>0</td>\n",
              "      <td>33</td>\n",
              "      <td>Não</td>\n",
              "      <td>950</td>\n",
              "      <td>11</td>\n",
              "    </tr>\n",
              "    <tr>\n",
              "      <th>4</th>\n",
              "      <td>3</td>\n",
              "      <td>1929-07-26</td>\n",
              "      <td>Feminino</td>\n",
              "      <td>98</td>\n",
              "      <td>1</td>\n",
              "      <td>0</td>\n",
              "      <td>7</td>\n",
              "      <td>empresa</td>\n",
              "      <td>2145.0</td>\n",
              "      <td>faixa1</td>\n",
              "      <td>Adimplente</td>\n",
              "      <td>0</td>\n",
              "      <td>20</td>\n",
              "      <td>Não</td>\n",
              "      <td>700</td>\n",
              "      <td>6</td>\n",
              "    </tr>\n",
              "  </tbody>\n",
              "</table>\n",
              "</div>"
            ],
            "text/plain": [
              "   ID DataNascimento       Sexo  ...  Atraso  ValorEmprestimo  QtdaPagas\n",
              "0   1     1952-02-03  Masculino  ...     Sim              665          6\n",
              "1   1     1952-02-03  Masculino  ...     Sim              665          6\n",
              "2   2     1958-05-23  Masculino  ...     Não              950         11\n",
              "3   2     1958-05-23  Masculino  ...     Não              950         11\n",
              "4   3     1929-07-26   Feminino  ...     Não              700          6\n",
              "\n",
              "[5 rows x 16 columns]"
            ]
          },
          "metadata": {
            "tags": []
          },
          "execution_count": 48
        }
      ]
    },
    {
      "cell_type": "code",
      "metadata": {
        "id": "KkbEK6I-mWRs",
        "outputId": "ff0079ca-b749-43d7-d28f-ca6fd2661e6a",
        "colab": {
          "base_uri": "https://localhost:8080/",
          "height": 224
        }
      },
      "source": [
        "#12 - Crie uma variável comprometimento de renda usando as variáveis ValorEmprestimo e Salario.  Para isso utilize a expressão. (ValorEmprestimo / salario)*100\n",
        "consolidado['Compr_Renda'] = (consolidado['ValorEmprestimo']/consolidado['salario'])/100\n",
        "consolidado.head()"
      ],
      "execution_count": 63,
      "outputs": [
        {
          "output_type": "execute_result",
          "data": {
            "text/html": [
              "<div>\n",
              "<style scoped>\n",
              "    .dataframe tbody tr th:only-of-type {\n",
              "        vertical-align: middle;\n",
              "    }\n",
              "\n",
              "    .dataframe tbody tr th {\n",
              "        vertical-align: top;\n",
              "    }\n",
              "\n",
              "    .dataframe thead th {\n",
              "        text-align: right;\n",
              "    }\n",
              "</style>\n",
              "<table border=\"1\" class=\"dataframe\">\n",
              "  <thead>\n",
              "    <tr style=\"text-align: right;\">\n",
              "      <th></th>\n",
              "      <th>ID</th>\n",
              "      <th>DataNascimento</th>\n",
              "      <th>Sexo</th>\n",
              "      <th>TempodeServiço</th>\n",
              "      <th>EstadoCivil</th>\n",
              "      <th>NumerodeFilhos</th>\n",
              "      <th>TempodeResidencia</th>\n",
              "      <th>Conta</th>\n",
              "      <th>salario</th>\n",
              "      <th>Fx_Salarial</th>\n",
              "      <th>default</th>\n",
              "      <th>default1</th>\n",
              "      <th>QtdaParcelas</th>\n",
              "      <th>Atraso</th>\n",
              "      <th>ValorEmprestimo</th>\n",
              "      <th>QtdaPagas</th>\n",
              "      <th>Compr_Renda</th>\n",
              "    </tr>\n",
              "  </thead>\n",
              "  <tbody>\n",
              "    <tr>\n",
              "      <th>0</th>\n",
              "      <td>1</td>\n",
              "      <td>1952-02-03</td>\n",
              "      <td>Masculino</td>\n",
              "      <td>98</td>\n",
              "      <td>3</td>\n",
              "      <td>0</td>\n",
              "      <td>7</td>\n",
              "      <td>Particular</td>\n",
              "      <td>5700.0</td>\n",
              "      <td>faixa3</td>\n",
              "      <td>Adimplente</td>\n",
              "      <td>0</td>\n",
              "      <td>19</td>\n",
              "      <td>Sim</td>\n",
              "      <td>665</td>\n",
              "      <td>6</td>\n",
              "      <td>0.001167</td>\n",
              "    </tr>\n",
              "    <tr>\n",
              "      <th>1</th>\n",
              "      <td>1</td>\n",
              "      <td>1952-02-03</td>\n",
              "      <td>Masculino</td>\n",
              "      <td>98</td>\n",
              "      <td>3</td>\n",
              "      <td>0</td>\n",
              "      <td>7</td>\n",
              "      <td>Particular</td>\n",
              "      <td>5700.0</td>\n",
              "      <td>faixa3</td>\n",
              "      <td>Adimplente</td>\n",
              "      <td>0</td>\n",
              "      <td>19</td>\n",
              "      <td>Sim</td>\n",
              "      <td>665</td>\n",
              "      <td>6</td>\n",
              "      <td>0.001167</td>\n",
              "    </tr>\n",
              "    <tr>\n",
              "      <th>2</th>\n",
              "      <td>2</td>\n",
              "      <td>1958-05-23</td>\n",
              "      <td>Masculino</td>\n",
              "      <td>98</td>\n",
              "      <td>3</td>\n",
              "      <td>0</td>\n",
              "      <td>43</td>\n",
              "      <td>Particular</td>\n",
              "      <td>4020.0</td>\n",
              "      <td>faixa2</td>\n",
              "      <td>Adimplente</td>\n",
              "      <td>0</td>\n",
              "      <td>33</td>\n",
              "      <td>Não</td>\n",
              "      <td>950</td>\n",
              "      <td>11</td>\n",
              "      <td>0.002363</td>\n",
              "    </tr>\n",
              "    <tr>\n",
              "      <th>3</th>\n",
              "      <td>2</td>\n",
              "      <td>1958-05-23</td>\n",
              "      <td>Masculino</td>\n",
              "      <td>98</td>\n",
              "      <td>3</td>\n",
              "      <td>0</td>\n",
              "      <td>43</td>\n",
              "      <td>Particular</td>\n",
              "      <td>4020.0</td>\n",
              "      <td>faixa2</td>\n",
              "      <td>Adimplente</td>\n",
              "      <td>0</td>\n",
              "      <td>33</td>\n",
              "      <td>Não</td>\n",
              "      <td>950</td>\n",
              "      <td>11</td>\n",
              "      <td>0.002363</td>\n",
              "    </tr>\n",
              "    <tr>\n",
              "      <th>4</th>\n",
              "      <td>3</td>\n",
              "      <td>1929-07-26</td>\n",
              "      <td>Feminino</td>\n",
              "      <td>98</td>\n",
              "      <td>1</td>\n",
              "      <td>0</td>\n",
              "      <td>7</td>\n",
              "      <td>empresa</td>\n",
              "      <td>2145.0</td>\n",
              "      <td>faixa1</td>\n",
              "      <td>Adimplente</td>\n",
              "      <td>0</td>\n",
              "      <td>20</td>\n",
              "      <td>Não</td>\n",
              "      <td>700</td>\n",
              "      <td>6</td>\n",
              "      <td>0.003263</td>\n",
              "    </tr>\n",
              "  </tbody>\n",
              "</table>\n",
              "</div>"
            ],
            "text/plain": [
              "   ID DataNascimento       Sexo  ...  ValorEmprestimo  QtdaPagas  Compr_Renda\n",
              "0   1     1952-02-03  Masculino  ...              665          6     0.001167\n",
              "1   1     1952-02-03  Masculino  ...              665          6     0.001167\n",
              "2   2     1958-05-23  Masculino  ...              950         11     0.002363\n",
              "3   2     1958-05-23  Masculino  ...              950         11     0.002363\n",
              "4   3     1929-07-26   Feminino  ...              700          6     0.003263\n",
              "\n",
              "[5 rows x 17 columns]"
            ]
          },
          "metadata": {
            "tags": []
          },
          "execution_count": 63
        }
      ]
    },
    {
      "cell_type": "code",
      "metadata": {
        "id": "qBJbmszanbvZ",
        "outputId": "5d370241-904a-460b-c56d-cc6501b65abd",
        "colab": {
          "base_uri": "https://localhost:8080/",
          "height": 68
        }
      },
      "source": [
        "#13 - Tire uma frequência separadamente das variáveis Sexo e default. Quantos Homens , Mulheres, Adimplente e Inadimplente possui. Os valores precisam ser mostrados separadamente.\n",
        "consolidado['Sexo'].value_counts()"
      ],
      "execution_count": 57,
      "outputs": [
        {
          "output_type": "execute_result",
          "data": {
            "text/plain": [
              "Masculino    514\n",
              "Feminino     432\n",
              "Name: Sexo, dtype: int64"
            ]
          },
          "metadata": {
            "tags": []
          },
          "execution_count": 57
        }
      ]
    },
    {
      "cell_type": "code",
      "metadata": {
        "id": "X-WiKWs5oBSy",
        "outputId": "e82e6f5f-8096-4313-f72b-f43f1c541679",
        "colab": {
          "base_uri": "https://localhost:8080/",
          "height": 68
        }
      },
      "source": [
        "#13 - Tire uma frequência separadamente das variáveis Sexo e default. Quantos Homens , Mulheres, Adimplente e Inadimplente possui. Os valores precisam ser mostrados separadamente.\n",
        "consolidado['default'].value_counts()"
      ],
      "execution_count": 59,
      "outputs": [
        {
          "output_type": "execute_result",
          "data": {
            "text/plain": [
              "Inadimplente    686\n",
              "Adimplente      260\n",
              "Name: default, dtype: int64"
            ]
          },
          "metadata": {
            "tags": []
          },
          "execution_count": 59
        }
      ]
    },
    {
      "cell_type": "code",
      "metadata": {
        "id": "tJCu-VFBoky7",
        "outputId": "8a87a22b-d53e-476c-c6f1-b00558f617c3",
        "colab": {
          "base_uri": "https://localhost:8080/",
          "height": 142
        }
      },
      "source": [
        "#14 - Faça uma estatística Bivariada utilizando a função CrossTable ente Sexo e default\n",
        "pd.crosstab(consolidado.Sexo,consolidado.default)"
      ],
      "execution_count": 64,
      "outputs": [
        {
          "output_type": "execute_result",
          "data": {
            "text/html": [
              "<div>\n",
              "<style scoped>\n",
              "    .dataframe tbody tr th:only-of-type {\n",
              "        vertical-align: middle;\n",
              "    }\n",
              "\n",
              "    .dataframe tbody tr th {\n",
              "        vertical-align: top;\n",
              "    }\n",
              "\n",
              "    .dataframe thead th {\n",
              "        text-align: right;\n",
              "    }\n",
              "</style>\n",
              "<table border=\"1\" class=\"dataframe\">\n",
              "  <thead>\n",
              "    <tr style=\"text-align: right;\">\n",
              "      <th>default</th>\n",
              "      <th>Adimplente</th>\n",
              "      <th>Inadimplente</th>\n",
              "    </tr>\n",
              "    <tr>\n",
              "      <th>Sexo</th>\n",
              "      <th></th>\n",
              "      <th></th>\n",
              "    </tr>\n",
              "  </thead>\n",
              "  <tbody>\n",
              "    <tr>\n",
              "      <th>Feminino</th>\n",
              "      <td>98</td>\n",
              "      <td>334</td>\n",
              "    </tr>\n",
              "    <tr>\n",
              "      <th>Masculino</th>\n",
              "      <td>162</td>\n",
              "      <td>352</td>\n",
              "    </tr>\n",
              "  </tbody>\n",
              "</table>\n",
              "</div>"
            ],
            "text/plain": [
              "default    Adimplente  Inadimplente\n",
              "Sexo                               \n",
              "Feminino           98           334\n",
              "Masculino         162           352"
            ]
          },
          "metadata": {
            "tags": []
          },
          "execution_count": 64
        }
      ]
    },
    {
      "cell_type": "code",
      "metadata": {
        "id": "PoAnlOy2rRXl"
      },
      "source": [
        "#15 - Faça um modelo regressão logística e apresente o resultado"
      ],
      "execution_count": 65,
      "outputs": []
    },
    {
      "cell_type": "code",
      "metadata": {
        "id": "B3kvAWDDrZ_x",
        "outputId": "8211f3e9-4853-4e7c-a7f7-9cda59f4856d",
        "colab": {
          "base_uri": "https://localhost:8080/",
          "height": 204
        }
      },
      "source": [
        "x = consolidado[['TempodeServiço','NumerodeFilhos','TempodeResidencia','salario','QtdaParcelas','ValorEmprestimo','QtdaPagas','Compr_Renda']]\n",
        "x.head()"
      ],
      "execution_count": 106,
      "outputs": [
        {
          "output_type": "execute_result",
          "data": {
            "text/html": [
              "<div>\n",
              "<style scoped>\n",
              "    .dataframe tbody tr th:only-of-type {\n",
              "        vertical-align: middle;\n",
              "    }\n",
              "\n",
              "    .dataframe tbody tr th {\n",
              "        vertical-align: top;\n",
              "    }\n",
              "\n",
              "    .dataframe thead th {\n",
              "        text-align: right;\n",
              "    }\n",
              "</style>\n",
              "<table border=\"1\" class=\"dataframe\">\n",
              "  <thead>\n",
              "    <tr style=\"text-align: right;\">\n",
              "      <th></th>\n",
              "      <th>TempodeServiço</th>\n",
              "      <th>NumerodeFilhos</th>\n",
              "      <th>TempodeResidencia</th>\n",
              "      <th>salario</th>\n",
              "      <th>QtdaParcelas</th>\n",
              "      <th>ValorEmprestimo</th>\n",
              "      <th>QtdaPagas</th>\n",
              "      <th>Compr_Renda</th>\n",
              "    </tr>\n",
              "  </thead>\n",
              "  <tbody>\n",
              "    <tr>\n",
              "      <th>0</th>\n",
              "      <td>98</td>\n",
              "      <td>0</td>\n",
              "      <td>7</td>\n",
              "      <td>5700.0</td>\n",
              "      <td>19</td>\n",
              "      <td>665</td>\n",
              "      <td>6</td>\n",
              "      <td>0.001167</td>\n",
              "    </tr>\n",
              "    <tr>\n",
              "      <th>1</th>\n",
              "      <td>98</td>\n",
              "      <td>0</td>\n",
              "      <td>7</td>\n",
              "      <td>5700.0</td>\n",
              "      <td>19</td>\n",
              "      <td>665</td>\n",
              "      <td>6</td>\n",
              "      <td>0.001167</td>\n",
              "    </tr>\n",
              "    <tr>\n",
              "      <th>2</th>\n",
              "      <td>98</td>\n",
              "      <td>0</td>\n",
              "      <td>43</td>\n",
              "      <td>4020.0</td>\n",
              "      <td>33</td>\n",
              "      <td>950</td>\n",
              "      <td>11</td>\n",
              "      <td>0.002363</td>\n",
              "    </tr>\n",
              "    <tr>\n",
              "      <th>3</th>\n",
              "      <td>98</td>\n",
              "      <td>0</td>\n",
              "      <td>43</td>\n",
              "      <td>4020.0</td>\n",
              "      <td>33</td>\n",
              "      <td>950</td>\n",
              "      <td>11</td>\n",
              "      <td>0.002363</td>\n",
              "    </tr>\n",
              "    <tr>\n",
              "      <th>4</th>\n",
              "      <td>98</td>\n",
              "      <td>0</td>\n",
              "      <td>7</td>\n",
              "      <td>2145.0</td>\n",
              "      <td>20</td>\n",
              "      <td>700</td>\n",
              "      <td>6</td>\n",
              "      <td>0.003263</td>\n",
              "    </tr>\n",
              "  </tbody>\n",
              "</table>\n",
              "</div>"
            ],
            "text/plain": [
              "   TempodeServiço  NumerodeFilhos  ...  QtdaPagas  Compr_Renda\n",
              "0              98               0  ...          6     0.001167\n",
              "1              98               0  ...          6     0.001167\n",
              "2              98               0  ...         11     0.002363\n",
              "3              98               0  ...         11     0.002363\n",
              "4              98               0  ...          6     0.003263\n",
              "\n",
              "[5 rows x 8 columns]"
            ]
          },
          "metadata": {
            "tags": []
          },
          "execution_count": 106
        }
      ]
    },
    {
      "cell_type": "code",
      "metadata": {
        "id": "qVU77m2DssKW",
        "outputId": "20b0066c-c305-4b8b-e296-e824055a688e",
        "colab": {
          "base_uri": "https://localhost:8080/",
          "height": 204
        }
      },
      "source": [
        "x = sm.add_constant(x)\n",
        "x.head()"
      ],
      "execution_count": 107,
      "outputs": [
        {
          "output_type": "execute_result",
          "data": {
            "text/html": [
              "<div>\n",
              "<style scoped>\n",
              "    .dataframe tbody tr th:only-of-type {\n",
              "        vertical-align: middle;\n",
              "    }\n",
              "\n",
              "    .dataframe tbody tr th {\n",
              "        vertical-align: top;\n",
              "    }\n",
              "\n",
              "    .dataframe thead th {\n",
              "        text-align: right;\n",
              "    }\n",
              "</style>\n",
              "<table border=\"1\" class=\"dataframe\">\n",
              "  <thead>\n",
              "    <tr style=\"text-align: right;\">\n",
              "      <th></th>\n",
              "      <th>const</th>\n",
              "      <th>TempodeServiço</th>\n",
              "      <th>NumerodeFilhos</th>\n",
              "      <th>TempodeResidencia</th>\n",
              "      <th>salario</th>\n",
              "      <th>QtdaParcelas</th>\n",
              "      <th>ValorEmprestimo</th>\n",
              "      <th>QtdaPagas</th>\n",
              "      <th>Compr_Renda</th>\n",
              "    </tr>\n",
              "  </thead>\n",
              "  <tbody>\n",
              "    <tr>\n",
              "      <th>0</th>\n",
              "      <td>1.0</td>\n",
              "      <td>98</td>\n",
              "      <td>0</td>\n",
              "      <td>7</td>\n",
              "      <td>5700.0</td>\n",
              "      <td>19</td>\n",
              "      <td>665</td>\n",
              "      <td>6</td>\n",
              "      <td>0.001167</td>\n",
              "    </tr>\n",
              "    <tr>\n",
              "      <th>1</th>\n",
              "      <td>1.0</td>\n",
              "      <td>98</td>\n",
              "      <td>0</td>\n",
              "      <td>7</td>\n",
              "      <td>5700.0</td>\n",
              "      <td>19</td>\n",
              "      <td>665</td>\n",
              "      <td>6</td>\n",
              "      <td>0.001167</td>\n",
              "    </tr>\n",
              "    <tr>\n",
              "      <th>2</th>\n",
              "      <td>1.0</td>\n",
              "      <td>98</td>\n",
              "      <td>0</td>\n",
              "      <td>43</td>\n",
              "      <td>4020.0</td>\n",
              "      <td>33</td>\n",
              "      <td>950</td>\n",
              "      <td>11</td>\n",
              "      <td>0.002363</td>\n",
              "    </tr>\n",
              "    <tr>\n",
              "      <th>3</th>\n",
              "      <td>1.0</td>\n",
              "      <td>98</td>\n",
              "      <td>0</td>\n",
              "      <td>43</td>\n",
              "      <td>4020.0</td>\n",
              "      <td>33</td>\n",
              "      <td>950</td>\n",
              "      <td>11</td>\n",
              "      <td>0.002363</td>\n",
              "    </tr>\n",
              "    <tr>\n",
              "      <th>4</th>\n",
              "      <td>1.0</td>\n",
              "      <td>98</td>\n",
              "      <td>0</td>\n",
              "      <td>7</td>\n",
              "      <td>2145.0</td>\n",
              "      <td>20</td>\n",
              "      <td>700</td>\n",
              "      <td>6</td>\n",
              "      <td>0.003263</td>\n",
              "    </tr>\n",
              "  </tbody>\n",
              "</table>\n",
              "</div>"
            ],
            "text/plain": [
              "   const  TempodeServiço  ...  QtdaPagas  Compr_Renda\n",
              "0    1.0              98  ...          6     0.001167\n",
              "1    1.0              98  ...          6     0.001167\n",
              "2    1.0              98  ...         11     0.002363\n",
              "3    1.0              98  ...         11     0.002363\n",
              "4    1.0              98  ...          6     0.003263\n",
              "\n",
              "[5 rows x 9 columns]"
            ]
          },
          "metadata": {
            "tags": []
          },
          "execution_count": 107
        }
      ]
    },
    {
      "cell_type": "code",
      "metadata": {
        "id": "4AsZ5r3QsyWm",
        "outputId": "e2dfd49e-8e18-4810-8693-47a8982f35b1",
        "colab": {
          "base_uri": "https://localhost:8080/",
          "height": 119
        }
      },
      "source": [
        "y = consolidado['default1']\n",
        "y.head()"
      ],
      "execution_count": 108,
      "outputs": [
        {
          "output_type": "execute_result",
          "data": {
            "text/plain": [
              "0    0\n",
              "1    0\n",
              "2    0\n",
              "3    0\n",
              "4    0\n",
              "Name: default1, dtype: int64"
            ]
          },
          "metadata": {
            "tags": []
          },
          "execution_count": 108
        }
      ]
    },
    {
      "cell_type": "code",
      "metadata": {
        "id": "o6ORd_tms3nn"
      },
      "source": [
        "logistico = sm.Logit(y,x)"
      ],
      "execution_count": 109,
      "outputs": []
    },
    {
      "cell_type": "code",
      "metadata": {
        "id": "Ss6YmU6ys6fN",
        "outputId": "72837f09-c09c-4a5f-f642-36faf7fbb799",
        "colab": {
          "base_uri": "https://localhost:8080/",
          "height": 459
        }
      },
      "source": [
        "ajuste = logistico.fit()"
      ],
      "execution_count": 105,
      "outputs": [
        {
          "output_type": "stream",
          "text": [
            "Warning: Maximum number of iterations has been exceeded.\n",
            "         Current function value: inf\n",
            "         Iterations: 35\n"
          ],
          "name": "stdout"
        },
        {
          "output_type": "stream",
          "text": [
            "/usr/local/lib/python3.6/dist-packages/statsmodels/discrete/discrete_model.py:1736: RuntimeWarning: overflow encountered in exp\n",
            "  return 1/(1+np.exp(-X))\n",
            "/usr/local/lib/python3.6/dist-packages/statsmodels/discrete/discrete_model.py:1789: RuntimeWarning: divide by zero encountered in log\n",
            "  return np.sum(np.log(self.cdf(q*np.dot(X,params))))\n"
          ],
          "name": "stderr"
        },
        {
          "output_type": "error",
          "ename": "LinAlgError",
          "evalue": "ignored",
          "traceback": [
            "\u001b[0;31m---------------------------------------------------------------------------\u001b[0m",
            "\u001b[0;31mLinAlgError\u001b[0m                               Traceback (most recent call last)",
            "\u001b[0;32m<ipython-input-105-0d3d8c2a2a77>\u001b[0m in \u001b[0;36m<module>\u001b[0;34m()\u001b[0m\n\u001b[0;32m----> 1\u001b[0;31m \u001b[0majuste\u001b[0m \u001b[0;34m=\u001b[0m \u001b[0mlogistico\u001b[0m\u001b[0;34m.\u001b[0m\u001b[0mfit\u001b[0m\u001b[0;34m(\u001b[0m\u001b[0;34m)\u001b[0m\u001b[0;34m\u001b[0m\u001b[0;34m\u001b[0m\u001b[0m\n\u001b[0m",
            "\u001b[0;32m/usr/local/lib/python3.6/dist-packages/statsmodels/discrete/discrete_model.py\u001b[0m in \u001b[0;36mfit\u001b[0;34m(self, start_params, method, maxiter, full_output, disp, callback, **kwargs)\u001b[0m\n\u001b[1;32m   1900\u001b[0m         bnryfit = super(Logit, self).fit(start_params=start_params,\n\u001b[1;32m   1901\u001b[0m                 \u001b[0mmethod\u001b[0m\u001b[0;34m=\u001b[0m\u001b[0mmethod\u001b[0m\u001b[0;34m,\u001b[0m \u001b[0mmaxiter\u001b[0m\u001b[0;34m=\u001b[0m\u001b[0mmaxiter\u001b[0m\u001b[0;34m,\u001b[0m \u001b[0mfull_output\u001b[0m\u001b[0;34m=\u001b[0m\u001b[0mfull_output\u001b[0m\u001b[0;34m,\u001b[0m\u001b[0;34m\u001b[0m\u001b[0;34m\u001b[0m\u001b[0m\n\u001b[0;32m-> 1902\u001b[0;31m                 disp=disp, callback=callback, **kwargs)\n\u001b[0m\u001b[1;32m   1903\u001b[0m \u001b[0;34m\u001b[0m\u001b[0m\n\u001b[1;32m   1904\u001b[0m         \u001b[0mdiscretefit\u001b[0m \u001b[0;34m=\u001b[0m \u001b[0mLogitResults\u001b[0m\u001b[0;34m(\u001b[0m\u001b[0mself\u001b[0m\u001b[0;34m,\u001b[0m \u001b[0mbnryfit\u001b[0m\u001b[0;34m)\u001b[0m\u001b[0;34m\u001b[0m\u001b[0;34m\u001b[0m\u001b[0m\n",
            "\u001b[0;32m/usr/local/lib/python3.6/dist-packages/statsmodels/discrete/discrete_model.py\u001b[0m in \u001b[0;36mfit\u001b[0;34m(self, start_params, method, maxiter, full_output, disp, callback, **kwargs)\u001b[0m\n\u001b[1;32m    215\u001b[0m         mlefit = super(DiscreteModel, self).fit(start_params=start_params,\n\u001b[1;32m    216\u001b[0m                 \u001b[0mmethod\u001b[0m\u001b[0;34m=\u001b[0m\u001b[0mmethod\u001b[0m\u001b[0;34m,\u001b[0m \u001b[0mmaxiter\u001b[0m\u001b[0;34m=\u001b[0m\u001b[0mmaxiter\u001b[0m\u001b[0;34m,\u001b[0m \u001b[0mfull_output\u001b[0m\u001b[0;34m=\u001b[0m\u001b[0mfull_output\u001b[0m\u001b[0;34m,\u001b[0m\u001b[0;34m\u001b[0m\u001b[0;34m\u001b[0m\u001b[0m\n\u001b[0;32m--> 217\u001b[0;31m                 disp=disp, callback=callback, **kwargs)\n\u001b[0m\u001b[1;32m    218\u001b[0m \u001b[0;34m\u001b[0m\u001b[0m\n\u001b[1;32m    219\u001b[0m         \u001b[0;32mreturn\u001b[0m \u001b[0mmlefit\u001b[0m \u001b[0;31m# up to subclasses to wrap results\u001b[0m\u001b[0;34m\u001b[0m\u001b[0;34m\u001b[0m\u001b[0m\n",
            "\u001b[0;32m/usr/local/lib/python3.6/dist-packages/statsmodels/base/model.py\u001b[0m in \u001b[0;36mfit\u001b[0;34m(self, start_params, method, maxiter, full_output, disp, fargs, callback, retall, skip_hessian, **kwargs)\u001b[0m\n\u001b[1;32m    475\u001b[0m             \u001b[0mHinv\u001b[0m \u001b[0;34m=\u001b[0m \u001b[0mcov_params_func\u001b[0m\u001b[0;34m(\u001b[0m\u001b[0mself\u001b[0m\u001b[0;34m,\u001b[0m \u001b[0mxopt\u001b[0m\u001b[0;34m,\u001b[0m \u001b[0mretvals\u001b[0m\u001b[0;34m)\u001b[0m\u001b[0;34m\u001b[0m\u001b[0;34m\u001b[0m\u001b[0m\n\u001b[1;32m    476\u001b[0m         \u001b[0;32melif\u001b[0m \u001b[0mmethod\u001b[0m \u001b[0;34m==\u001b[0m \u001b[0;34m'newton'\u001b[0m \u001b[0;32mand\u001b[0m \u001b[0mfull_output\u001b[0m\u001b[0;34m:\u001b[0m\u001b[0;34m\u001b[0m\u001b[0;34m\u001b[0m\u001b[0m\n\u001b[0;32m--> 477\u001b[0;31m             \u001b[0mHinv\u001b[0m \u001b[0;34m=\u001b[0m \u001b[0mnp\u001b[0m\u001b[0;34m.\u001b[0m\u001b[0mlinalg\u001b[0m\u001b[0;34m.\u001b[0m\u001b[0minv\u001b[0m\u001b[0;34m(\u001b[0m\u001b[0;34m-\u001b[0m\u001b[0mretvals\u001b[0m\u001b[0;34m[\u001b[0m\u001b[0;34m'Hessian'\u001b[0m\u001b[0;34m]\u001b[0m\u001b[0;34m)\u001b[0m \u001b[0;34m/\u001b[0m \u001b[0mnobs\u001b[0m\u001b[0;34m\u001b[0m\u001b[0;34m\u001b[0m\u001b[0m\n\u001b[0m\u001b[1;32m    478\u001b[0m         \u001b[0;32melif\u001b[0m \u001b[0;32mnot\u001b[0m \u001b[0mskip_hessian\u001b[0m\u001b[0;34m:\u001b[0m\u001b[0;34m\u001b[0m\u001b[0;34m\u001b[0m\u001b[0m\n\u001b[1;32m    479\u001b[0m             \u001b[0mH\u001b[0m \u001b[0;34m=\u001b[0m \u001b[0;34m-\u001b[0m\u001b[0;36m1\u001b[0m \u001b[0;34m*\u001b[0m \u001b[0mself\u001b[0m\u001b[0;34m.\u001b[0m\u001b[0mhessian\u001b[0m\u001b[0;34m(\u001b[0m\u001b[0mxopt\u001b[0m\u001b[0;34m)\u001b[0m\u001b[0;34m\u001b[0m\u001b[0;34m\u001b[0m\u001b[0m\n",
            "\u001b[0;32m<__array_function__ internals>\u001b[0m in \u001b[0;36minv\u001b[0;34m(*args, **kwargs)\u001b[0m\n",
            "\u001b[0;32m/usr/local/lib/python3.6/dist-packages/numpy/linalg/linalg.py\u001b[0m in \u001b[0;36minv\u001b[0;34m(a)\u001b[0m\n\u001b[1;32m    545\u001b[0m     \u001b[0msignature\u001b[0m \u001b[0;34m=\u001b[0m \u001b[0;34m'D->D'\u001b[0m \u001b[0;32mif\u001b[0m \u001b[0misComplexType\u001b[0m\u001b[0;34m(\u001b[0m\u001b[0mt\u001b[0m\u001b[0;34m)\u001b[0m \u001b[0;32melse\u001b[0m \u001b[0;34m'd->d'\u001b[0m\u001b[0;34m\u001b[0m\u001b[0;34m\u001b[0m\u001b[0m\n\u001b[1;32m    546\u001b[0m     \u001b[0mextobj\u001b[0m \u001b[0;34m=\u001b[0m \u001b[0mget_linalg_error_extobj\u001b[0m\u001b[0;34m(\u001b[0m\u001b[0m_raise_linalgerror_singular\u001b[0m\u001b[0;34m)\u001b[0m\u001b[0;34m\u001b[0m\u001b[0;34m\u001b[0m\u001b[0m\n\u001b[0;32m--> 547\u001b[0;31m     \u001b[0mainv\u001b[0m \u001b[0;34m=\u001b[0m \u001b[0m_umath_linalg\u001b[0m\u001b[0;34m.\u001b[0m\u001b[0minv\u001b[0m\u001b[0;34m(\u001b[0m\u001b[0ma\u001b[0m\u001b[0;34m,\u001b[0m \u001b[0msignature\u001b[0m\u001b[0;34m=\u001b[0m\u001b[0msignature\u001b[0m\u001b[0;34m,\u001b[0m \u001b[0mextobj\u001b[0m\u001b[0;34m=\u001b[0m\u001b[0mextobj\u001b[0m\u001b[0;34m)\u001b[0m\u001b[0;34m\u001b[0m\u001b[0;34m\u001b[0m\u001b[0m\n\u001b[0m\u001b[1;32m    548\u001b[0m     \u001b[0;32mreturn\u001b[0m \u001b[0mwrap\u001b[0m\u001b[0;34m(\u001b[0m\u001b[0mainv\u001b[0m\u001b[0;34m.\u001b[0m\u001b[0mastype\u001b[0m\u001b[0;34m(\u001b[0m\u001b[0mresult_t\u001b[0m\u001b[0;34m,\u001b[0m \u001b[0mcopy\u001b[0m\u001b[0;34m=\u001b[0m\u001b[0;32mFalse\u001b[0m\u001b[0;34m)\u001b[0m\u001b[0;34m)\u001b[0m\u001b[0;34m\u001b[0m\u001b[0;34m\u001b[0m\u001b[0m\n\u001b[1;32m    549\u001b[0m \u001b[0;34m\u001b[0m\u001b[0m\n",
            "\u001b[0;32m/usr/local/lib/python3.6/dist-packages/numpy/linalg/linalg.py\u001b[0m in \u001b[0;36m_raise_linalgerror_singular\u001b[0;34m(err, flag)\u001b[0m\n\u001b[1;32m     95\u001b[0m \u001b[0;34m\u001b[0m\u001b[0m\n\u001b[1;32m     96\u001b[0m \u001b[0;32mdef\u001b[0m \u001b[0m_raise_linalgerror_singular\u001b[0m\u001b[0;34m(\u001b[0m\u001b[0merr\u001b[0m\u001b[0;34m,\u001b[0m \u001b[0mflag\u001b[0m\u001b[0;34m)\u001b[0m\u001b[0;34m:\u001b[0m\u001b[0;34m\u001b[0m\u001b[0;34m\u001b[0m\u001b[0m\n\u001b[0;32m---> 97\u001b[0;31m     \u001b[0;32mraise\u001b[0m \u001b[0mLinAlgError\u001b[0m\u001b[0;34m(\u001b[0m\u001b[0;34m\"Singular matrix\"\u001b[0m\u001b[0;34m)\u001b[0m\u001b[0;34m\u001b[0m\u001b[0;34m\u001b[0m\u001b[0m\n\u001b[0m\u001b[1;32m     98\u001b[0m \u001b[0;34m\u001b[0m\u001b[0m\n\u001b[1;32m     99\u001b[0m \u001b[0;32mdef\u001b[0m \u001b[0m_raise_linalgerror_nonposdef\u001b[0m\u001b[0;34m(\u001b[0m\u001b[0merr\u001b[0m\u001b[0;34m,\u001b[0m \u001b[0mflag\u001b[0m\u001b[0;34m)\u001b[0m\u001b[0;34m:\u001b[0m\u001b[0;34m\u001b[0m\u001b[0;34m\u001b[0m\u001b[0m\n",
            "\u001b[0;31mLinAlgError\u001b[0m: Singular matrix"
          ]
        }
      ]
    },
    {
      "cell_type": "code",
      "metadata": {
        "id": "Xp-OSfsSs81X",
        "outputId": "e875c7a6-2649-4305-950f-26c60f2f12de",
        "colab": {
          "base_uri": "https://localhost:8080/",
          "height": 480
        }
      },
      "source": [
        "ajuste.summary()"
      ],
      "execution_count": 98,
      "outputs": [
        {
          "output_type": "execute_result",
          "data": {
            "text/html": [
              "<table class=\"simpletable\">\n",
              "<caption>Logit Regression Results</caption>\n",
              "<tr>\n",
              "  <th>Dep. Variable:</th>       <td>default1</td>     <th>  No. Observations:  </th>   <td>   946</td>  \n",
              "</tr>\n",
              "<tr>\n",
              "  <th>Model:</th>                 <td>Logit</td>      <th>  Df Residuals:      </th>   <td>   937</td>  \n",
              "</tr>\n",
              "<tr>\n",
              "  <th>Method:</th>                 <td>MLE</td>       <th>  Df Model:          </th>   <td>     8</td>  \n",
              "</tr>\n",
              "<tr>\n",
              "  <th>Date:</th>            <td>Tue, 27 Oct 2020</td> <th>  Pseudo R-squ.:     </th>   <td>0.9766</td>  \n",
              "</tr>\n",
              "<tr>\n",
              "  <th>Time:</th>                <td>02:12:10</td>     <th>  Log-Likelihood:    </th>  <td> -12.996</td> \n",
              "</tr>\n",
              "<tr>\n",
              "  <th>converged:</th>             <td>False</td>      <th>  LL-Null:           </th>  <td> -556.26</td> \n",
              "</tr>\n",
              "<tr>\n",
              "  <th>Covariance Type:</th>     <td>nonrobust</td>    <th>  LLR p-value:       </th> <td>3.104e-229</td>\n",
              "</tr>\n",
              "</table>\n",
              "<table class=\"simpletable\">\n",
              "<tr>\n",
              "          <td></td>             <th>coef</th>     <th>std err</th>      <th>z</th>      <th>P>|z|</th>  <th>[0.025</th>    <th>0.975]</th>  \n",
              "</tr>\n",
              "<tr>\n",
              "  <th>const</th>             <td>  229.2877</td> <td>      nan</td> <td>      nan</td> <td>   nan</td> <td>      nan</td> <td>      nan</td>\n",
              "</tr>\n",
              "<tr>\n",
              "  <th>TempodeServiço</th>    <td>   -2.5705</td> <td>      nan</td> <td>      nan</td> <td>   nan</td> <td>      nan</td> <td>      nan</td>\n",
              "</tr>\n",
              "<tr>\n",
              "  <th>NumerodeFilhos</th>    <td>    0.0653</td> <td>      nan</td> <td>      nan</td> <td>   nan</td> <td>      nan</td> <td>      nan</td>\n",
              "</tr>\n",
              "<tr>\n",
              "  <th>TempodeResidencia</th> <td>   -0.0322</td> <td>      nan</td> <td>      nan</td> <td>   nan</td> <td>      nan</td> <td>      nan</td>\n",
              "</tr>\n",
              "<tr>\n",
              "  <th>salario</th>           <td>   -0.0006</td> <td>      nan</td> <td>      nan</td> <td>   nan</td> <td>      nan</td> <td>      nan</td>\n",
              "</tr>\n",
              "<tr>\n",
              "  <th>QtdaParcelas</th>      <td>  -54.3001</td> <td>      nan</td> <td>      nan</td> <td>   nan</td> <td>      nan</td> <td>      nan</td>\n",
              "</tr>\n",
              "<tr>\n",
              "  <th>ValorEmprestimo</th>   <td>    1.5524</td> <td>      nan</td> <td>      nan</td> <td>   nan</td> <td>      nan</td> <td>      nan</td>\n",
              "</tr>\n",
              "<tr>\n",
              "  <th>QtdaPagas</th>         <td>    0.1812</td> <td>      nan</td> <td>      nan</td> <td>   nan</td> <td>      nan</td> <td>      nan</td>\n",
              "</tr>\n",
              "<tr>\n",
              "  <th>Compr_Renda</th>       <td>    0.4546</td> <td>      nan</td> <td>      nan</td> <td>   nan</td> <td>      nan</td> <td>      nan</td>\n",
              "</tr>\n",
              "</table><br/><br/>Possibly complete quasi-separation: A fraction 0.81 of observations can be<br/>perfectly predicted. This might indicate that there is complete<br/>quasi-separation. In this case some parameters will not be identified."
            ],
            "text/plain": [
              "<class 'statsmodels.iolib.summary.Summary'>\n",
              "\"\"\"\n",
              "                           Logit Regression Results                           \n",
              "==============================================================================\n",
              "Dep. Variable:               default1   No. Observations:                  946\n",
              "Model:                          Logit   Df Residuals:                      937\n",
              "Method:                           MLE   Df Model:                            8\n",
              "Date:                Tue, 27 Oct 2020   Pseudo R-squ.:                  0.9766\n",
              "Time:                        02:12:10   Log-Likelihood:                -12.996\n",
              "converged:                      False   LL-Null:                       -556.26\n",
              "Covariance Type:            nonrobust   LLR p-value:                3.104e-229\n",
              "=====================================================================================\n",
              "                        coef    std err          z      P>|z|      [0.025      0.975]\n",
              "-------------------------------------------------------------------------------------\n",
              "const               229.2877        nan        nan        nan         nan         nan\n",
              "TempodeServiço       -2.5705        nan        nan        nan         nan         nan\n",
              "NumerodeFilhos        0.0653        nan        nan        nan         nan         nan\n",
              "TempodeResidencia    -0.0322        nan        nan        nan         nan         nan\n",
              "salario              -0.0006        nan        nan        nan         nan         nan\n",
              "QtdaParcelas        -54.3001        nan        nan        nan         nan         nan\n",
              "ValorEmprestimo       1.5524        nan        nan        nan         nan         nan\n",
              "QtdaPagas             0.1812        nan        nan        nan         nan         nan\n",
              "Compr_Renda           0.4546        nan        nan        nan         nan         nan\n",
              "=====================================================================================\n",
              "\n",
              "Possibly complete quasi-separation: A fraction 0.81 of observations can be\n",
              "perfectly predicted. This might indicate that there is complete\n",
              "quasi-separation. In this case some parameters will not be identified.\n",
              "\"\"\""
            ]
          },
          "metadata": {
            "tags": []
          },
          "execution_count": 98
        }
      ]
    }
  ]
}